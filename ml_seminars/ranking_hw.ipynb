{
 "cells": [
  {
   "cell_type": "markdown",
   "metadata": {},
   "source": [
    "МФТИ ФИВТ, Машинное обучение, Никита Волков\n",
    "\n",
    "# Ранжирование\n",
    "\n",
    "* Дедлайн **14 декабря 23:59** для всех групп.\n",
    "* В качестве решения задания нужно прислать ноутбук с подробными комментариями.\n",
    "* Кагл: https://inclass.kaggle.com/c/ml-mipt-ranking4\n",
    "* Инвайт: https://kaggle.com/join/4uthnui9sndi\n",
    "\n",
    "### Небольшая предыстория\n",
    "\n",
    "Внезапно очутившись на 4 курсе (как это произошло, вообще не понятно) студенты ФИВТа поняли, что времени стало совсем не хватать. Немного подумав, они решили, что во всем виноваты обезумевшие преподаватели курса Машинное обучение. Было проведено коллективное собрание, на котором было принято решение — попробовать договориться с преподавателями. Однако, все попытки примирения были отвергнуты. И тогда на очередном собрании (вместо выполнения очередного ДЗ ;)) было принято решение сделать вопросно-ответную систему для студентов. Например, она сможет четко отвечать на вопросы следующего типа ”Когда дедлайн по очередному огромному заданию?”, ”Что нужно сделать в задании?”, а вопрос ”Сколько суток нужно потратить, чтобы выполнить очередное ДЗ” даже никто и задавать не будет — никто их не делает, кроме самих преподавателей. А на вопрос ”Сможем ли мы переубедить Арсения Ашуху?” система ответит картинкой:\n",
    "\n",
    "<img width=400 src=\"./pic.png\">\n",
    "\n",
    "Для каждого вопроса студенты смогли написать систему, которая подбирает наиболее подходящие ответы в интернете. А вот, как из упорядочить, они не знают, поскольку прогуляли лекцию по ранжированию. К счастью, было записано видео этой лекции, так что вы сможете им помочь."
   ]
  },
  {
   "cell_type": "markdown",
   "metadata": {},
   "source": [
    "А теперь серьезно...\n",
    "\n",
    "### Формат файлов\n",
    "\n",
    "Вам выдается 4 файла:\n",
    "\n",
    "* `train.txt` --- обучающая выборка пар запрос-документ и асессорские метки релевантности\n",
    "* `test.txt` --- тестовая выборка пар запрос-документ\n",
    "* `queries_test.txt` --- запросы из `train.txt`\n",
    "* `queries_train.txt` --- запросы из `test.txt`\n",
    "\n",
    "Колонки в файлах могут быть следующего типа:\n",
    "\n",
    "* `QueryId` --- уникальный номер запроса\n",
    "* `DocumentId` --- номер документа, не повторяется для одного запроса\n",
    "* `DocumentLink` --- url документа\n",
    "* `Relevance` --- асессорская метка релевантности\n",
    "\n",
    "Формат файла ответов приведен ниже. Пары запрос-документ должны соответсвовать файлу `test.txt` и должны быть упорядочены по убыванию построенной функции релевантности. То есть так, как в поисковой выдаче."
   ]
  },
  {
   "cell_type": "raw",
   "metadata": {},
   "source": [
    "QueryId,DocumentId\n",
    "101,5\n",
    "101,0\n",
    "101,9\n",
    "101,13\n",
    "101,17\n",
    "..."
   ]
  },
  {
   "cell_type": "markdown",
   "metadata": {},
   "source": [
    "Качество оценивается с помощью метрики ${NDCG}_{10}$."
   ]
  },
  {
   "cell_type": "markdown",
   "metadata": {},
   "source": [
    "### Бейзлайн"
   ]
  },
  {
   "cell_type": "code",
   "execution_count": 31,
   "metadata": {
    "collapsed": false
   },
   "outputs": [],
   "source": [
    "from bs4 import BeautifulSoup\n",
    "from urllib.request import urlopen\n",
    "import numpy as np\n",
    "import re\n",
    "from sklearn.feature_extraction.text import CountVectorizer, TfidfVectorizer"
   ]
  },
  {
   "cell_type": "markdown",
   "metadata": {},
   "source": [
    "Считываем все запросы из test"
   ]
  },
  {
   "cell_type": "code",
   "execution_count": 147,
   "metadata": {
    "collapsed": true
   },
   "outputs": [],
   "source": [
    "with open('contest/queries_test.txt') as f:\n",
    "    queries = f.readlines()\n",
    "queries = list(map(lambda x: x[:-1].split('\\t')[1], queries))"
   ]
  },
  {
   "cell_type": "markdown",
   "metadata": {},
   "source": [
    "По очереди загружаем все документы, считая для каждого TF и сортируя для каждого запроса. Это и есть скор в бейзлайне."
   ]
  },
  {
   "cell_type": "code",
   "execution_count": 2,
   "metadata": {
    "collapsed": false
   },
   "outputs": [],
   "source": [
    "def visible(element):\n",
    "    if element.parent.name in ['style', 'script', '[document]', 'head', 'title']:\n",
    "        return False\n",
    "    elif re.match('<!--.*-->', str(element)):\n",
    "        return False\n",
    "    return True"
   ]
  },
  {
   "cell_type": "code",
   "execution_count": 124,
   "metadata": {
    "collapsed": false
   },
   "outputs": [],
   "source": [
    "with open('contest/queries_train.txt') as f:\n",
    "    queries = f.readlines()\n",
    "queries = list(map(lambda x: x[:-1].split('\\t')[1], queries))"
   ]
  },
  {
   "cell_type": "code",
   "execution_count": 149,
   "metadata": {
    "collapsed": false,
    "scrolled": true
   },
   "outputs": [
    {
     "name": "stdout",
     "output_type": "stream",
     "text": [
      "0\n",
      "103 6 http://tushkan.tv/news/tancy/2016-07-13-19014\n",
      "\n",
      "103 8 http://86sch-mortka.edusite.ru/DswMedia/kakrazvit-navyikisamobladaniya.doc\n",
      "\n",
      "50\n",
      "100\n",
      "150\n",
      "200\n",
      "109 23 http://4cheat.ru/showthread.php?t=141219\n",
      "\n",
      "250\n",
      "111 9 http://mail.kpk-user.ru/17243-pochemu-vse-begayut-po-ulicam-vo-vremya-igry-pokemon-go-poslednie-novosti-segodnya-26-iyulya-2016.html\n",
      "\n",
      "112 21 http://nashi-de-ti.ru/s-kakogo-vozrasta-mozhno-davat-rebenku-moloko-I-kakoe\n",
      "\n",
      "300\n",
      "113 2 http://franklin100.ru/\n",
      "\n",
      "114 2 http://poiskm.org/show/%D1%85%D0%B5%D0%BC%D0%B8%D1%81%D0%B8%D0%BD%D0%BA/%D0%BA%D0%B0%D0%BA-%D0%B2%D1%8B%D1%81%D0%BF%D0%B0%D1%82%D1%8C%D1%81%D1%8F-%D0%B7%D0%B0-30-%D0%BC%D0%B8%D0%BD%D1%83%D1%82\n",
      "\n",
      "350\n",
      "400\n",
      "118 24 http://moya-semya.ru/index.php?Itemid=156\\u0026catid=91:2011-06-17-11-03-00\\u0026id=6573:mvs2015-31\\u0026option=com_content\\u0026view=article\n",
      "\n",
      "450\n",
      "500\n",
      "550\n",
      "123 12 http://ask.fm/rozhdennij_pod_solncem\n",
      "\n",
      "600\n",
      "128 2 http://moredogs.ru/pochemu-mysh-boitsya-koshki-a-koshka-boitsya-sobak-a-slon-boitsya-myshi.html\n",
      "\n",
      "129 1 http://moya-semya.ru/index.php?Itemid=156\\u0026catid=91:2011-06-17-11-03-00\\u0026id=7910:mvs2016-25\\u0026option=com_content\\u0026view=article\n",
      "\n",
      "650\n",
      "700\n",
      "750\n",
      "800\n",
      "137 2 http://www.ljpoisk.ru/archive/2014/13279418.html\n",
      "\n",
      "850\n",
      "900\n",
      "950\n",
      "143 11 http://umorina.info/track/%D0%B5%D0%B4%D0%B8%D0%BD%D1%81%D1%82%D0%B2%D0%B5%D0%BD%D0%BD%D1%8B%D0%B9%20%D0%BC%D1%83%D0%B6%D1%87%D0%B8%D0%BD%D0%B0\n",
      "\n",
      "1000\n",
      "145 1 http://sonme.ru/rezult/?about-dream=%D0%9F%D1%80%D0%B8%D1%81%D0%BD%D0%B8%D0%BB%D0%BE%D1%81%D1%8C%20%D1%87%D1%82%D0%BE%20%D1%81%D0%B4%D0%B0%D0%B2%D0%B0%D0%BB%D0%B0%20%D1%8D%D0%BA%D0%B7%D0%B0%D0%BC%D0%B5%D0%BD\n",
      "\n",
      "1050\n",
      "147 10 http://smotret-chitat.besplatnoonlain.ru/all/\n",
      "\n",
      "1100\n",
      "1150\n",
      "151 22 http://ask.fm/tihii_son\n",
      "\n",
      "1200\n",
      "1250\n",
      "156 4 http://ikrm.uspu.ru/images/stories/For-student/Ochnoe-otd/Upravl-personalom/080400/Rab-progr-080400/B.3.V.04_MOTIVAZIA_STIMULIR_TRUDOVOI_DEYAT.pdf\n",
      "\n",
      "1300\n",
      "1350\n",
      "1400\n",
      "162 10 http://izbyshki.ru/aneki/732780-anekidnya.html\n",
      "\n",
      "1450\n",
      "1500\n",
      "1550\n",
      "1600\n",
      "170 7 http://obsuzhday.com/q/98370679\n",
      "\n",
      "171 23 http://ferrum-body.ru/skolko-raz-v-nedelyu-nuzhno-hodit-v-trenazhernyiy-zal.html\n",
      "\n",
      "1650\n",
      "1700\n",
      "1750\n",
      "176 16 http://spopsy.ru/main/sex-stories-women/815-rasskaz-muzh-dal-trahat-zhenu-muzhikam-porno-rasskaz.html\n",
      "\n",
      "178 13 http://best-vocabulary.ru/article/%D0%BA%D1%82%D0%BE%20%D1%81%D0%B8%D0%BB%D1%8C%D0%BD%D0%B5%D0%B5%20%D0%BA%D1%80%D0%BE%D0%BA%D0%BE%D0%B4%D0%B8%D0%BB%20%D0%B8%D0%BB%D0%B8%20%D0%B0%D0%BB%D0%BB%D0%B8%D0%B3%D0%B0%D1%82%D0%BE%D1%80\n",
      "\n",
      "178 25 http://moredogs.ru/pochemu-lyudi-sprashivayut-kto-silnejlev-ili-tigrmedved-ili-krokodilamstaff-ili-pitbul.html\n",
      "\n",
      "1800\n",
      "181 12 https://newsland.com/community/7306/content/vot-pochemu-koty-obozhaiut-spat-na-liudiakh/5439521\n",
      "\n",
      "1850\n",
      "182 18 https://pani.kiev.ua/ru/-id=1006.htm\n",
      "\n",
      "1900\n",
      "183 19 http://kirensky.ru/zdoc/KLSh_book.pdf\n",
      "\n",
      "1950\n",
      "184 15 http://brinblog.ru/dnevnik-trenirovok/\n",
      "\n",
      "184 20 http://pda.4luk.ru/tema/socseti/\n",
      "\n",
      "2000\n",
      "2050\n",
      "188 19 http://muz-muz.net/storage/%D0%B0%20%D0%B2%D1%81%D1%82%D0%B0%D0%B2%D0%B0%D0%B9%20%D0%B2%D1%81%D1%82%D0%B0%D0%B2%D0%B0%D0%B9%20%D0%B2%D1%81%D1%82%D0%B0%D0%B2%D0%B0%D0%B9\n",
      "\n",
      "189 23 http://www.phorumka.ru/forum/55-12187-1\n",
      "\n",
      "2100\n",
      "191 18 http://www.ljpoisk.ru/archive/5539835.html\n",
      "\n",
      "2150\n",
      "2200\n",
      "194 17 http://www.ljpoisk.ru/archive/12685038.html\n",
      "\n",
      "2250\n",
      "196 22 http://www.ljpoisk.ru/archive/1871307.html\n",
      "\n",
      "2300\n",
      "198 14 http://umorina.info/track/%D0%9A%D1%83%D0%B4%D0%B0%20%D0%BA%D1%83%D0%B4%D0%B0%20%D0%B2%D1%8B%20%D1%83%D0%B4%D0%B0%D0%BB%D0%B8%D0%BB%D0%B8%D1%81%D1%8C\n",
      "\n",
      "2350\n",
      "200 2 http://www.ljpoisk.ru/archive/205303.html\n",
      "\n"
     ]
    }
   ],
   "source": [
    "bad_links = list()\n",
    "with open('contest/test.txt') as ft:\n",
    "    ft.readline()\n",
    "    for i, line in enumerate(ft):\n",
    "        if i % 50 == 0:\n",
    "            print(i)\n",
    "\n",
    "        split_line = line.split(',')\n",
    "        qid, docid, url = int(split_line[0]), int(split_line[1]), ','.join(split_line[2:])\n",
    "\n",
    "        try:\n",
    "            text = BeautifulSoup(urlopen(url, timeout=10).read(), 'html.parser').findAll(text=True)\n",
    "            text = list(filter(visible, text))\n",
    "            text = ' '.join(text)\n",
    "            text = np.array(text.split(' '))\n",
    "        except Exception as e:\n",
    "            bad_links.append([qid, docid, url])\n",
    "            print(qid, docid, url)\n",
    "\n",
    "        np.save('contest/test/{}_{}.npz'.format(qid, docid), text)"
   ]
  },
  {
   "cell_type": "code",
   "execution_count": 11,
   "metadata": {
    "collapsed": false,
    "scrolled": true
   },
   "outputs": [
    {
     "name": "stdout",
     "output_type": "stream",
     "text": [
      "0\n",
      "1 28 http://sonme.ru/rezult/?about-dream=%D0%97%D0%B0%D1%81%D0%BD%D1%83%D1%82%D1%8C%20%D0%B2%D0%BE%20%D1%81%D0%BD%D0%B5\n",
      "\n",
      "50\n",
      "100\n",
      "150\n",
      "200\n",
      "250\n",
      "300\n",
      "16 14 http://funlol.ru/19484-ya-russkiy-okkupant.html\n",
      "\n",
      "17 3 http://anekdot.kz/zagadki/kak-nazyvaetsya-boyazn-prihoda-santa-klausa/\n",
      "\n",
      "350\n",
      "400\n",
      "23 13 http://seria-z.net/\n",
      "\n",
      "24 5 http://joyreactor.cc/post/2497855\n",
      "\n",
      "450\n",
      "500\n",
      "28 18 http://rihiqi.zlatoruki.ru/\n",
      "\n",
      "550\n",
      "30 23 http://durdom2.com/post.php?post=53\n",
      "\n",
      "31 15 http://www.ljpoisk.ru/mama/2014/01/13304479.html\n",
      "\n",
      "600\n",
      "650\n",
      "700\n",
      "38 16 http://magiyaforum.ru/archive/index.php/t-763.html\n",
      "\n",
      "39 9 http://anecdots.su/anecdot/16039\n",
      "\n",
      "750\n",
      "800\n",
      "850\n",
      "900\n",
      "46 5 http://lady-shik.ga/mordkovich/\n",
      "\n",
      "46 7 http://evgeniyvolodin.ga/goroda/\n",
      "\n",
      "950\n",
      "1000\n",
      "1050\n",
      "1100\n",
      "54 8 http://logsi.ru/\n",
      "\n",
      "1150\n",
      "1200\n",
      "57 10 http://moredogs.ru/kto-opredelyaet-chto-korm-dlya-sobak-ili-koshek-stal-eshhe-vkusnee.html\n",
      "\n",
      "1250\n",
      "59 24 http://muzogig.net/gig/%D1%82%D0%B5%D0%BF%D0%B5%D1%80%D1%8C%20%D1%8F%20%D1%81%D1%82%D0%B0%D0%BB%20%D0%B1%D0%BE%D0%B3%D0%B0%D1%82%D1%8B%D0%B9\n",
      "\n",
      "1300\n",
      "61 8 http://www.liveinternet.ru/users/3393107/post125222397/\n",
      "\n",
      "1350\n",
      "64 13 http://businesslike.ru/index.php?showtopic=1803\n",
      "\n",
      "1400\n",
      "1450\n",
      "1500\n",
      "1550\n",
      "1600\n",
      "73 20 http://tushkan.tv/news/chelovek_pauk_2017_smotret_film_onlayn/2015-07-13-24499\n",
      "\n",
      "74 12 http://www.cheshezhopica.ru/2016/09/anekdoty-0010.html\n",
      "\n",
      "1650\n",
      "75 18 http://shambala.kiev.ua/index.php/2010-12-15-16-31-16/2011-10-24-09-47-54\n",
      "\n",
      "1700\n",
      "1750\n",
      "1800\n",
      "1850\n",
      "86 1 http://ask.fm/EdinorogovNet/answers/140591985603\n",
      "\n",
      "1900\n",
      "1950\n",
      "89 27 http://moredogs.ru/chto-oznachaet-voj-u-sobaki-laet-ponyatno-skulit-tozhe-a-voet-kak-volk-na-lunu-eto-chto.html\n",
      "\n",
      "2000\n",
      "2050\n",
      "95 5 http://kamra.ru/chto-delat-chtoby-vyrasti/\n",
      "\n",
      "2100\n",
      "97 7 http://www.psychforum.ru/showthread.php?t=4099\n",
      "\n",
      "97 16 http://www.ljpoisk.ru/archive/5024200.html\n",
      "\n",
      "2150\n",
      "2200\n",
      "99 78 http://www.ljpoisk.ru/archive/2689819.html\n",
      "\n",
      "2250\n"
     ]
    }
   ],
   "source": [
    "with open('contest/train.txt') as ft:\n",
    "    ft.readline()\n",
    "    for i, line in enumerate(ft):\n",
    "        if i % 50 == 0:\n",
    "            print(i)\n",
    "\n",
    "        split_line = line.split(',')\n",
    "        rel, qid, docid, url = int(split_line[0]), int(split_line[1]), int(split_line[2]), ','.join(split_line[3:])\n",
    "\n",
    "        try:\n",
    "            text = BeautifulSoup(urlopen(url, timeout=10).read(), 'html.parser').findAll(text=True)\n",
    "            text = list(filter(visible, text))\n",
    "            text = ' '.join(text)\n",
    "            text = np.array(text.split(' '))\n",
    "        except Exception as e:\n",
    "            bad_links.append([qid, docid, url])\n",
    "            print(qid, docid, url)\n",
    "\n",
    "        np.save('contest/train/{}_{}.npz'.format(qid, docid), text)"
   ]
  },
  {
   "cell_type": "code",
   "execution_count": 150,
   "metadata": {
    "collapsed": false,
    "scrolled": true
   },
   "outputs": [
    {
     "name": "stdout",
     "output_type": "stream",
     "text": [
      "103 6 http://tushkan.tv/news/tancy/2016-07-13-19014\n",
      "  failed\n",
      "103 8 http://86sch-mortka.edusite.ru/DswMedia/kakrazvit-navyikisamobladaniya.doc\n",
      "  failed\n",
      "109 23 http://4cheat.ru/showthread.php?t=141219\n",
      "  failed\n",
      "111 9 http://mail.kpk-user.ru/17243-pochemu-vse-begayut-po-ulicam-vo-vremya-igry-pokemon-go-poslednie-novosti-segodnya-26-iyulya-2016.html\n",
      "  failed\n",
      "112 21 http://nashi-de-ti.ru/s-kakogo-vozrasta-mozhno-davat-rebenku-moloko-I-kakoe\n",
      "  failed\n",
      "113 2 http://franklin100.ru/\n",
      "  failed\n",
      "114 2 http://poiskm.org/show/%D1%85%D0%B5%D0%BC%D0%B8%D1%81%D0%B8%D0%BD%D0%BA/%D0%BA%D0%B0%D0%BA-%D0%B2%D1%8B%D1%81%D0%BF%D0%B0%D1%82%D1%8C%D1%81%D1%8F-%D0%B7%D0%B0-30-%D0%BC%D0%B8%D0%BD%D1%83%D1%82\n",
      "  failed\n",
      "118 24 http://moya-semya.ru/index.php?Itemid=156\\u0026catid=91:2011-06-17-11-03-00\\u0026id=6573:mvs2015-31\\u0026option=com_content\\u0026view=article\n",
      "  failed\n",
      "123 12 http://ask.fm/rozhdennij_pod_solncem\n",
      "  failed\n",
      "128 2 http://moredogs.ru/pochemu-mysh-boitsya-koshki-a-koshka-boitsya-sobak-a-slon-boitsya-myshi.html\n",
      "  failed\n",
      "129 1 http://moya-semya.ru/index.php?Itemid=156\\u0026catid=91:2011-06-17-11-03-00\\u0026id=7910:mvs2016-25\\u0026option=com_content\\u0026view=article\n",
      "  failed\n",
      "137 2 http://www.ljpoisk.ru/archive/2014/13279418.html\n",
      "  failed\n",
      "143 11 http://umorina.info/track/%D0%B5%D0%B4%D0%B8%D0%BD%D1%81%D1%82%D0%B2%D0%B5%D0%BD%D0%BD%D1%8B%D0%B9%20%D0%BC%D1%83%D0%B6%D1%87%D0%B8%D0%BD%D0%B0\n",
      "  failed\n",
      "145 1 http://sonme.ru/rezult/?about-dream=%D0%9F%D1%80%D0%B8%D1%81%D0%BD%D0%B8%D0%BB%D0%BE%D1%81%D1%8C%20%D1%87%D1%82%D0%BE%20%D1%81%D0%B4%D0%B0%D0%B2%D0%B0%D0%BB%D0%B0%20%D1%8D%D0%BA%D0%B7%D0%B0%D0%BC%D0%B5%D0%BD\n",
      "  failed\n",
      "147 10 http://smotret-chitat.besplatnoonlain.ru/all/\n",
      "  failed\n",
      "151 22 http://ask.fm/tihii_son\n",
      "  failed\n",
      "156 4 http://ikrm.uspu.ru/images/stories/For-student/Ochnoe-otd/Upravl-personalom/080400/Rab-progr-080400/B.3.V.04_MOTIVAZIA_STIMULIR_TRUDOVOI_DEYAT.pdf\n",
      "  failed\n",
      "162 10 http://izbyshki.ru/aneki/732780-anekidnya.html\n",
      "  failed\n",
      "170 7 http://obsuzhday.com/q/98370679\n",
      "  failed\n",
      "171 23 http://ferrum-body.ru/skolko-raz-v-nedelyu-nuzhno-hodit-v-trenazhernyiy-zal.html\n",
      "  failed\n",
      "176 16 http://spopsy.ru/main/sex-stories-women/815-rasskaz-muzh-dal-trahat-zhenu-muzhikam-porno-rasskaz.html\n",
      "  failed\n",
      "178 13 http://best-vocabulary.ru/article/%D0%BA%D1%82%D0%BE%20%D1%81%D0%B8%D0%BB%D1%8C%D0%BD%D0%B5%D0%B5%20%D0%BA%D1%80%D0%BE%D0%BA%D0%BE%D0%B4%D0%B8%D0%BB%20%D0%B8%D0%BB%D0%B8%20%D0%B0%D0%BB%D0%BB%D0%B8%D0%B3%D0%B0%D1%82%D0%BE%D1%80\n",
      "  failed\n",
      "178 25 http://moredogs.ru/pochemu-lyudi-sprashivayut-kto-silnejlev-ili-tigrmedved-ili-krokodilamstaff-ili-pitbul.html\n",
      "  failed\n",
      "181 12 https://newsland.com/community/7306/content/vot-pochemu-koty-obozhaiut-spat-na-liudiakh/5439521\n",
      "  failed\n",
      "182 18 https://pani.kiev.ua/ru/-id=1006.htm\n",
      "  failed\n",
      "183 19 http://kirensky.ru/zdoc/KLSh_book.pdf\n",
      "  failed\n",
      "184 15 http://brinblog.ru/dnevnik-trenirovok/\n",
      "  failed\n",
      "184 20 http://pda.4luk.ru/tema/socseti/\n",
      "  failed\n",
      "188 19 http://muz-muz.net/storage/%D0%B0%20%D0%B2%D1%81%D1%82%D0%B0%D0%B2%D0%B0%D0%B9%20%D0%B2%D1%81%D1%82%D0%B0%D0%B2%D0%B0%D0%B9%20%D0%B2%D1%81%D1%82%D0%B0%D0%B2%D0%B0%D0%B9\n",
      "  failed\n",
      "189 23 http://www.phorumka.ru/forum/55-12187-1\n",
      "  failed\n",
      "191 18 http://www.ljpoisk.ru/archive/5539835.html\n",
      "  failed\n",
      "194 17 http://www.ljpoisk.ru/archive/12685038.html\n",
      "  failed\n",
      "196 22 http://www.ljpoisk.ru/archive/1871307.html\n",
      "  failed\n",
      "198 14 http://umorina.info/track/%D0%9A%D1%83%D0%B4%D0%B0%20%D0%BA%D1%83%D0%B4%D0%B0%20%D0%B2%D1%8B%20%D1%83%D0%B4%D0%B0%D0%BB%D0%B8%D0%BB%D0%B8%D1%81%D1%8C\n",
      "  failed\n",
      "200 2 http://www.ljpoisk.ru/archive/205303.html\n",
      "  failed\n"
     ]
    }
   ],
   "source": [
    "very_bad_links = list()\n",
    "for qid, docid, url in bad_links:\n",
    "    for _ in range(10):\n",
    "        try:\n",
    "            text = BeautifulSoup(urlopen(url, timeout=20).read(), 'html.parser').findAll(text=True)\n",
    "            text = list(filter(visible, text))\n",
    "            text = ' '.join(text)\n",
    "            text = np.array(text.split(' '))\n",
    "            np.save('contest/test/{}_{}.npz'.format(qid, docid), text)\n",
    "\n",
    "            #print(url, ' done')\n",
    "            break\n",
    "        except Exception as e:\n",
    "            pass\n",
    "\n",
    "    print(qid, docid, url, ' failed')\n",
    "    very_bad_links.append([qid, docid, url])"
   ]
  },
  {
   "cell_type": "code",
   "execution_count": 151,
   "metadata": {
    "collapsed": true
   },
   "outputs": [],
   "source": [
    "for qid, docid, url in very_bad_links:\n",
    "    np.save('contest/test/{}_{}.npz'.format(qid, docid), np.array([]))"
   ]
  },
  {
   "cell_type": "code",
   "execution_count": 152,
   "metadata": {
    "collapsed": false
   },
   "outputs": [
    {
     "data": {
      "text/plain": [
       "['Почему нельзя неподошедшего тебе мужика просто аккуратненько вернуть обратно маме?',\n",
       " 'Ты никогда не замечал, какие все вокруг оптимисты. когда проблема касается тебя?',\n",
       " 'В какой момент нужно сказать привет когда навстречу идет знакомый?',\n",
       " 'Кто знает, какие успокоительные лекарства принимает медведь в мультике про Машу? мне тоже такие надо.',\n",
       " 'Таджики на уроке физкультуры по команде строимся,по строили новый дом .']"
      ]
     },
     "execution_count": 152,
     "metadata": {},
     "output_type": "execute_result"
    }
   ],
   "source": [
    "queries[:5]"
   ]
  },
  {
   "cell_type": "code",
   "execution_count": 153,
   "metadata": {
    "collapsed": false
   },
   "outputs": [],
   "source": [
    "def calc_features(text, query, url):\n",
    "    features = list()\n",
    "    features.append(query[-1] == '?')\n",
    "    try:\n",
    "        pr_text = list(filter(lambda x: x != '\\n', text))\n",
    "        pr_text = list(filter(lambda x: x.isalpha() or x.isdigit(), pr_text))\n",
    "    except:\n",
    "        pr_text = text\n",
    "    \n",
    "    features.append(len(pr_text))\n",
    "    features.append(len(query.split()))\n",
    "    # print(text, query)\n",
    "\n",
    "    query = query.replace(',', '')\n",
    "    query = query.replace('-', ' ')\n",
    "    query = query.lower().split()\n",
    "\n",
    "    try:\n",
    "        vectorizer = CountVectorizer().fit([' '.join(pr_text),])\n",
    "        features.append(vectorizer.transform(query).mean())\n",
    "\n",
    "        vectorizer2 = TfidfVectorizer().fit([' '.join(pr_text),])\n",
    "        features.append(vectorizer2.transform(query).mean())\n",
    "        \n",
    "    except Exception as e:\n",
    "        print(pr_text)\n",
    "        features.append(0)\n",
    "        features.append(0)\n",
    "    \n",
    "    features.append(query[0] == 'как')\n",
    "    features.append(query[0] == 'если')\n",
    "    features.append(query[0] == 'почему')\n",
    "    features.append(query[0] == 'а')\n",
    "    \n",
    "    features.append('wiki' in url)\n",
    "    features.append('forum' in url)\n",
    "    features.append('ru' in url)\n",
    "    features.append('ua' in url)\n",
    "    features.append('otvet' in url)\n",
    "    features.append('com' in url)\n",
    "    features.append('vk.' in url)\n",
    "    features.append('sprash' in url)\n",
    "    features.append('mail' in url)\n",
    "    features.append('youtube' in url)\n",
    "    return features"
   ]
  },
  {
   "cell_type": "code",
   "execution_count": 141,
   "metadata": {
    "collapsed": false,
    "scrolled": true
   },
   "outputs": [
    {
     "name": "stdout",
     "output_type": "stream",
     "text": [
      "[]\n",
      "[]\n",
      "[]\n",
      "[]\n",
      "[]\n",
      "[]\n",
      "[]\n",
      "[]\n",
      "[]\n",
      "['0', '0', '0', '2']\n",
      "[]\n",
      "[]\n",
      "[]\n",
      "[]\n",
      "[]\n",
      "[]\n",
      "[]\n",
      "[]\n",
      "[]\n",
      "[]\n",
      "[]\n",
      "[]\n",
      "[]\n",
      "[]\n",
      "[]\n",
      "[]\n",
      "[]\n",
      "[]\n",
      "[]\n",
      "[]\n",
      "[]\n",
      "[]\n",
      "['\\n' '\\n' '\\n' ...,\n",
      " 'https://www.youtube.com/channel/UCNYVnuDr44zL49Gd2-KQNPw' '•••'\n",
      " '[\"musicclob.error\",\"messaging\",\"discussions\",\"error\",\"uncaught\",\"notificationauth\",\"videochat\",\"videochatfp\",\"share\",\"pins\",\"clickphotogetlink\",\"musicusage\",\"musicerror\",\"mfe\",\"photo\",\"join\",\"toolbarperformancenim\",\"musicalpresents\",\"present\",\"messages\",\"invitation\",\"inline-comments\",\"suggestionperformance\",\"flash\",\"searchsuggest\",\"musageduration\",\"dynamic-user-load\",\"notifications\",\"postingform\",\"osn\",\"omnicaching\",\"musicrender\",\"musicnoflash\",\"vpl\",\"vpal\",\"search\",\"reveal\",\"poll\",\"mtl\",\"feed\",\"mediatopic\",\"appnotreaction\",\"video\",\"stt\",\"ta\",\"closeable_hook\",\"mcdn\",\"layerManager\",\"mtlayer\",\"appsstats\",\"traceimg\",\"mtplace\",\"searchfb\",\"jsfeatures\",\"attach\",\"sb\",\"html5\",\"require\",\"toolbarperformancedisc\",\"mt\",\"asm\",\"click\",\"bday\",\"amsg\",\"push\",\"giftFront\",\"ad\",\"ntf\",\"banner\",\"GoRec\",\"GoStat\",\"GoSearch\",\"musicclob\",\"capture\",\"faq_feedback\",\"maps\",\"stickyPromoLink\",\"groups\",\"seen\",\"userexperience\",\"ajaxrequestdatatime\",\"feedbackLayer\",\"recovery\",\"messagesLayer\",\"StickerSuggester\",\"nb_error\",\"nb_success\",\"messages-perf\",\"friendStream\"]']\n",
      "[]\n",
      "[]\n",
      "[]\n",
      "['t']\n",
      "[]\n",
      "[]\n",
      "[]\n",
      "[]\n",
      "[]\n",
      "[]\n",
      "[]\n",
      "[]\n",
      "[]\n",
      "[]\n",
      "[]\n",
      "[]\n"
     ]
    }
   ],
   "source": [
    "qids, docids, relevs, feats = [], [], [], []\n",
    "\n",
    "with open('contest/train.txt') as ft:\n",
    "    with open('contest/features_train/feat1.txt', 'w') as fw:\n",
    "        ft.readline()\n",
    "        for i, line in enumerate(ft):\n",
    "            #if i > 200:\n",
    "            #    break\n",
    "                #print(i)\n",
    "\n",
    "            split_line = line.split(',')\n",
    "            rel, qid, docid, url = int(split_line[0]), int(split_line[1]), int(split_line[2]), ','.join(split_line[3:])\n",
    "\n",
    "            text = np.load('contest/train/{}_{}.npz.npy'.format(qid, docid))\n",
    "            query = queries[qid-1]\n",
    "        \n",
    "            features = calc_features(text, query, url)\n",
    "            feat_str = ' '.join(['{}:{}'.format(j+1, f) for j, f in enumerate(features)])\n",
    "            \n",
    "            qids.append(qid)\n",
    "            docids.append(docid)\n",
    "            relevs.append(rel)\n",
    "            feats.append(features)"
   ]
  },
  {
   "cell_type": "code",
   "execution_count": 215,
   "metadata": {
    "collapsed": false,
    "scrolled": true
   },
   "outputs": [
    {
     "name": "stdout",
     "output_type": "stream",
     "text": [
      "['0', '0', '0', '0', '0', '0', '0', '0']\n",
      "[]\n",
      "[]\n",
      "[]\n",
      "[]\n",
      "[]\n",
      "[]\n",
      "[]\n",
      "[]\n",
      "['B']\n",
      "[]\n",
      "['f']\n",
      "[]\n",
      "[]\n",
      "[]\n",
      "[]\n",
      "[]\n",
      "[]\n",
      "['0', 'g']\n",
      "[]\n",
      "[]\n",
      "[]\n",
      "[]\n",
      "[]\n",
      "[]\n",
      "[]\n",
      "[]\n",
      "[]\n",
      "[]\n",
      "[]\n",
      "[]\n",
      "[]\n",
      "[]\n",
      "[]\n",
      "[]\n",
      "[]\n",
      "[]\n",
      "[]\n",
      "[]\n",
      "[]\n",
      "[]\n",
      "[]\n",
      "[]\n",
      "[]\n",
      "[]\n",
      "[]\n",
      "[]\n",
      "[]\n",
      "[]\n",
      "[]\n",
      "[]\n",
      "[]\n",
      "[]\n",
      "['0', '0', '0', '0', '0', '0', '0']\n",
      "[]\n",
      "[]\n",
      "[]\n",
      "[]\n"
     ]
    }
   ],
   "source": [
    "with open('contest/test.txt') as ft:\n",
    "    with open('contest/test/feat1.txt', 'w') as fw:\n",
    "        ft.readline()\n",
    "        for i, line in enumerate(ft):\n",
    "            #if i > 200:\n",
    "            #    break\n",
    "                #print(i)\n",
    "\n",
    "            split_line = line.split(',')\n",
    "            qid, docid, url = int(split_line[0]), int(split_line[1]), ','.join(split_line[2:])\n",
    "\n",
    "            text = np.load('contest/test/{}_{}.npz.npy'.format(qid, docid))\n",
    "            query = queries[qid-101]\n",
    "\n",
    "            features = calc_features(text, query, url)\n",
    "            feat_str = ' '.join(['{}:{}'.format(j+1, float(f)) for j, f in enumerate(features)])\n",
    "            fw.write('{} qid:{} {}\\n'.format(1, qid, feat_str))"
   ]
  },
  {
   "cell_type": "code",
   "execution_count": 156,
   "metadata": {
    "collapsed": true
   },
   "outputs": [],
   "source": [
    "def read_file(file_path, features_count):\n",
    "    ''' Считывает дата-файл по адресу file_path, в котором есть не более features_count признаков.\n",
    "    Возвращает список меток релевантности, id запросов и матрицу признаков'''\n",
    "    \n",
    "    relevs = []\n",
    "    qids = []\n",
    "    features = []\n",
    "    \n",
    "    with open(file_path) as data_file:\n",
    "        for line in data_file:\n",
    "            split_line = line.rstrip().split(' ')\n",
    "            \n",
    "            # print(split_line)\n",
    "            # релевантность и id запроса\n",
    "\n",
    "            relevs.append(split_line[0])\n",
    "            qids.append(int(split_line[1].split(':')[1]))\n",
    "            \n",
    "            # признаки\n",
    "            object_features = np.zeros(features_count, dtype=float)\n",
    "            for feat in split_line[2:]:\n",
    "                index, value = map(float, feat.split(':'))\n",
    "                object_features[index] = value\n",
    "            \n",
    "            features.append(object_features)\n",
    "    \n",
    "    return relevs, qids, np.array(features)\n",
    "\n",
    "def write(features, relevs, qids, file_path, index_begin, index_end):\n",
    "    ''' Создает файл по адресу file_path, в который будут записаны релевантности relevs,\n",
    "    номера запросов qids и признаки features с номера index_begin по index_end. '''\n",
    "    \n",
    "    with open(file_path, 'w') as f:\n",
    "        for index_line in range(index_begin, index_end):\n",
    "            f.write('{} qid:{}'.format(relevs[index_line], qids[index_line]))\n",
    "            for i in range(features.shape[1]):\n",
    "                f.write(' {}:{}'.format(i + 1, features[index_line, i]))\n",
    "            f.write('\\n')\n",
    "\n",
    "\n",
    "def split_to_train_valid_test(relevs, qids, features, \n",
    "                              train_path, test_path,\n",
    "                              train_size, test_size,\n",
    "                              valid_path=None, valid_size=None):\n",
    "    ''' Разбивает датасет на две или три части, и записывает их в файлы'''\n",
    "\n",
    "    num_docs = len(qids)\n",
    "    i_0 = 0\n",
    "    \n",
    "    qids = np.array(qids)\n",
    "    is_new_query = qids[:-1] != qids[1:]  # True в тех позициях, в которых начинается новый запрос\n",
    "    new_query_positions = np.arange(num_docs - 1)[is_new_query]  # Позиции, в которых начинается новый запрос\n",
    "\n",
    "    # Ищем позицию, на которой заканчивается train\n",
    "    allow_positions = new_query_positions > (train_size * num_docs)\n",
    "    i_1 = new_query_positions[allow_positions][0] if np.sum(allow_positions) > 0 else num_docs\n",
    "\n",
    "    # Ищем позицию, на которой заканчивается test\n",
    "    allow_positions = new_query_positions > ((train_size + test_size) * num_docs)\n",
    "    i_2 = new_query_positions[allow_positions][0] if np.sum(allow_positions) > 0 else num_docs\n",
    "\n",
    "    write(features, relevs, qids, train_path, i_0, i_1)\n",
    "    write(features, relevs, qids, test_path, i_1, i_2)\n",
    "\n",
    "    if valid_path is not None:\n",
    "        # Ищем позицию, на которой заканчивается valid\n",
    "        allow_positions = new_query_positions > ((train_size + test_size + valid_size) * num_docs)\n",
    "        i_3 = new_query_positions[allow_positions][0] if np.sum(allow_positions) > 0 else num_docs\n",
    "\n",
    "        write(features, relevs, qids, valid_path, i_2, i_3)"
   ]
  },
  {
   "cell_type": "code",
   "execution_count": 225,
   "metadata": {
    "collapsed": false
   },
   "outputs": [],
   "source": [
    "split_to_train_valid_test(np.array(relevs), np.array(qids), np.array(feats),\n",
    "                          'contest/features_train/train_train.txt', \n",
    "                          'contest/features_train/train_test.txt', \n",
    "                          0.9, 0.1)"
   ]
  },
  {
   "cell_type": "code",
   "execution_count": 226,
   "metadata": {
    "collapsed": false
   },
   "outputs": [
    {
     "name": "stdout",
     "output_type": "stream",
     "text": [
      "CPU times: user 12 ms, sys: 8 ms, total: 20 ms\n",
      "Wall time: 906 ms\n"
     ]
    }
   ],
   "source": [
    "%%time\n",
    "! java -jar RankLib-2.1-patched.jar -train ./contest/features_train/train_train.txt -test ./contest/features_train/train_test.txt -validate ./contest/features_train/train_valid.txt -ranker 6 -tree 20 -leaf 5 -metric2t NDCG@10 -save ./contest/LambdaMART_300.txt > ./contest/log_LambdaMART_300.txt"
   ]
  },
  {
   "cell_type": "code",
   "execution_count": 227,
   "metadata": {
    "collapsed": false
   },
   "outputs": [
    {
     "name": "stdout",
     "output_type": "stream",
     "text": [
      "\n",
      "[+] General Parameters:\n",
      "Model file:\t./contest/LambdaMART_300.txt\n",
      "Feature normalization: No\n",
      "Test metric:\tNDCG@10\n",
      "Model:\t\tLambdaMART\n",
      "Reading feature file [./contest/features_train/train_test.txt]... [Done.]            \n",
      "(7 ranked lists, 207 entries read)\n",
      "NDCG@10 on test data: 0.7237\n"
     ]
    }
   ],
   "source": [
    "! java -jar RankLib-2.1-patched.jar -load ./contest/LambdaMART_300.txt -test ./contest/features_train/train_test.txt -metric2T NDCG@10"
   ]
  },
  {
   "cell_type": "code",
   "execution_count": 228,
   "metadata": {
    "collapsed": false
   },
   "outputs": [
    {
     "name": "stdout",
     "output_type": "stream",
     "text": [
      "\n",
      "[+] General Parameters:\n",
      "Model file:\t./contest/LambdaMART_300.txt\n",
      "Feature normalization: No\n",
      "Model:\t\tLambdaMART\n",
      "Reading feature file [./contest/test/feat1.txt]... [Done.]            \n",
      "(99 ranked lists, 2383 entries read)\n"
     ]
    }
   ],
   "source": [
    "! java -jar RankLib-2.1-patched.jar -load ./contest/LambdaMART_300.txt -rank ./contest/test/feat1.txt -score ./contest/myscorefile.txt"
   ]
  },
  {
   "cell_type": "code",
   "execution_count": 229,
   "metadata": {
    "collapsed": true
   },
   "outputs": [],
   "source": [
    "with open('contest/myscorefile.txt') as f:\n",
    "    solution = f.readlines()"
   ]
  },
  {
   "cell_type": "code",
   "execution_count": 231,
   "metadata": {
    "collapsed": false
   },
   "outputs": [],
   "source": [
    "solution = list(map(lambda x: x.split('\\t'), solution))"
   ]
  },
  {
   "cell_type": "code",
   "execution_count": 234,
   "metadata": {
    "collapsed": false
   },
   "outputs": [],
   "source": [
    "solution = list(map(lambda x: [int(x[0]), int(x[1]), float(x[2])], solution))"
   ]
  },
  {
   "cell_type": "code",
   "execution_count": 235,
   "metadata": {
    "collapsed": true
   },
   "outputs": [],
   "source": [
    "solution = np.array(solution)"
   ]
  },
  {
   "cell_type": "code",
   "execution_count": 248,
   "metadata": {
    "collapsed": false
   },
   "outputs": [],
   "source": [
    "with open('contest/solution2.txt', 'w') as fw:\n",
    "    fw.write('QueryId,DocumentId\\n')\n",
    "    \n",
    "    for qid in range(101, 201):\n",
    "        query = list(filter(lambda x: x[0] == qid, solution))\n",
    "        query.sort(key=lambda x: -x[2])\n",
    "\n",
    "        for q, doc, rel in query:\n",
    "            fw.write('{},{}\\n'.format(qid, int(doc)))"
   ]
  },
  {
   "cell_type": "markdown",
   "metadata": {},
   "source": [
    "Кратко: из текста страницы оставила только слова и цифры. Из запроса убала знаки препинания, все сделала прописными буквами.  Для каждой страницы посчитала следующие фичи (query - запрос, массив слов; url - ссылка; text - текст страницы):\n",
    "<ul type=\"circle\"> \n",
    "<li> средняя частота слов из text $\\cap$ query</li>\n",
    "<li> средний TF-IDF слов из  text $\\cap$ query </li>\n",
    "<li> query[0] == 'как' </li>\n",
    "<li>query[0] == 'если'</li>\n",
    "<li>query[0] == 'почему'</li>\n",
    "<li>query[0] == 'а'</li>\n",
    "    \n",
    "<li>'wiki' in url</li>\n",
    "<li>'forum' in url</li>\n",
    "<li>'ru' in url</li>\n",
    "<li>'ua' in url</li>\n",
    "<li>'otvet' in url</li>\n",
    "<li>'com' in url</li>\n",
    "<li>'vk.' in url</li>\n",
    "<li>'sprash' in url</li>\n",
    "<li>'mail' in url</li>\n",
    "<li>'youtube' in url</li>\n",
    "</ul>\n",
    "\n",
    "Запустила лямбда март на 10 деревьях."
   ]
  },
  {
   "cell_type": "code",
   "execution_count": null,
   "metadata": {
    "collapsed": true
   },
   "outputs": [],
   "source": []
  }
 ],
 "metadata": {
  "kernelspec": {
   "display_name": "Python 3",
   "language": "python",
   "name": "python3"
  },
  "language_info": {
   "codemirror_mode": {
    "name": "ipython",
    "version": 3
   },
   "file_extension": ".py",
   "mimetype": "text/x-python",
   "name": "python",
   "nbconvert_exporter": "python",
   "pygments_lexer": "ipython3",
   "version": "3.4.3+"
  }
 },
 "nbformat": 4,
 "nbformat_minor": 0
}
