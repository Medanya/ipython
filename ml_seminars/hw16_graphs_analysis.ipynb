{
 "cells": [
  {
   "cell_type": "markdown",
   "metadata": {},
   "source": [
    "## Домашнее здание №2 / Link Prediction\n",
    "\n",
    "### Медведева Анна, 399\n",
    "\n",
    "----\n",
    "План выполнения домашнего задания:\n",
    "\n",
    "1. Краткий обзор исходных данных\n",
    "2. Генерация дополнительных данных\n",
    "3. Создание матрицы признаков для ребер\n",
    "4. Настройка модели и валидация качества модели\n",
    "5. Отправка результатов в контест на Kaggle"
   ]
  },
  {
   "cell_type": "markdown",
   "metadata": {},
   "source": [
    "----\n",
    "\n",
    "В данном домашнем задании вам предстоит построить классификатор, который бы предсказывал наличие или отсутствия ребра в графе между двумя вершинами. Никакой дополнительной информации о вершинах, кроме ее соседей нет, поэтому вам придется создавать вектор признаков для каждой пары вершин на основе топологии графа.\n",
    "\n",
    "Вершины графа - товары интернет магазина, наличие ребра символизируют о высокой частоте совместной покупки данных товаров вместе. Например если в нашем графе присутствую вершины молоко и хлеб и данные товары часто покупаются вместе, то между данными вершинами будет ребро. Если в нашем графе есть вершины молоко и кроссовки, то между данными вершинами ребра не будет. \n",
    "\n",
    "В данном датасете уровень относительной частоты по которому решается есть ребро между вершинами или его нет был определен за нас. Сам датасет был получен краулингом сайта Amazon.com в марте 2003 года, парсилась секция \"Люди которые купили данный продукт, также преобретали это...\"\n",
    "\n",
    "Мотивация данного задания: Расширить список блока рекомендаций, за счет товаров которые с высокой вероятность могут оказаться в одной корзине покупателя.\n",
    "\n",
    "----\n",
    "Для создания модели и работы с данными мы будем использовать пакет GraphLab, структуры данных SFrame и SGraph идеально подходят для работы с графами. Распределенное хранение данных и применения функций для расчета метрик отдельных вершин сильно облегчают работу с графом.\n",
    "\n",
    "Библиотека платная, но лицензия для академических целей получается в течении 5 минут, чтобы установить пакет следуйте шагам на сайте - https://turi.com/download/academic.html\n",
    "\n",
    "----"
   ]
  },
  {
   "cell_type": "markdown",
   "metadata": {},
   "source": [
    "Описание файлов:\n",
    "\n",
    "1. the_graph.csv - файл содержащий ребра графа, две колонки: src,dst \n",
    "2. suspicions.csv - файл с ребрами, графа. Для данных ребер неизвестно присутствует ли оно в графе или нет.\n",
    "\n",
    "Описание целевой метрики - в качестве целевой метрики будем использовать ROC AUC http://mlwiki.org/index.php/ROC_Analysis"
   ]
  },
  {
   "cell_type": "markdown",
   "metadata": {},
   "source": [
    "----"
   ]
  },
  {
   "cell_type": "code",
   "execution_count": 1,
   "metadata": {
    "collapsed": false
   },
   "outputs": [
    {
     "name": "stdout",
     "output_type": "stream",
     "text": [
      "Populating the interactive namespace from numpy and matplotlib\n"
     ]
    }
   ],
   "source": [
    "%pylab inline\n",
    "import graphlab as gl\n",
    "import numpy as np\n",
    "import pandas as pd\n",
    "from collections import defaultdict, deque\n",
    "from random import randrange\n",
    "\n",
    "gl.canvas.set_target('ipynb')"
   ]
  },
  {
   "cell_type": "markdown",
   "metadata": {},
   "source": [
    "### 1. Краткий обзор исходных данных - 10 Баллов\n",
    "\n",
    "Загрузим данные, найдем ряд базовых статистик:\n",
    "\n",
    "1. Количество вершин и ребер\n",
    "2. Распределение степеней вершин графа (График log - log)\n",
    "3. Плотность графа\n",
    "4. Диаметр графа\n",
    "5. Количество треугольников в графе\n",
    "6. Краткие выводы о данных.\n",
    "7. БОНУСЫ - сделайте красивую визулизацию или расчет дополнительных метрик с выводами и вы получите дополнительные баллы за задание"
   ]
  },
  {
   "cell_type": "code",
   "execution_count": 2,
   "metadata": {
    "collapsed": false
   },
   "outputs": [
    {
     "name": "stdout",
     "output_type": "stream",
     "text": [
      "This non-commercial license of GraphLab Create for academic use is assigned to anna.medvedeva@phystech.edu and will expire on November 11, 2017.\n"
     ]
    },
    {
     "name": "stderr",
     "output_type": "stream",
     "text": [
      "[INFO] graphlab.cython.cy_server: GraphLab Create v2.1 started. Logging: /tmp/graphlab_server_1479243726.log\n"
     ]
    }
   ],
   "source": [
    "edges = gl.SFrame.read_csv('the_graph.csv', delimiter=',', verbose=False)"
   ]
  },
  {
   "cell_type": "code",
   "execution_count": 3,
   "metadata": {
    "collapsed": false
   },
   "outputs": [],
   "source": [
    "g = gl.SGraph().add_edges(edges, src_field='src', dst_field='dst')"
   ]
  },
  {
   "cell_type": "markdown",
   "metadata": {},
   "source": [
    "1. Количество вершин и ребер"
   ]
  },
  {
   "cell_type": "code",
   "execution_count": 4,
   "metadata": {
    "collapsed": false
   },
   "outputs": [
    {
     "name": "stdout",
     "output_type": "stream",
     "text": [
      "Number of vertices = 262111\n",
      "Number of edges = 1384871\n"
     ]
    }
   ],
   "source": [
    "vert_edgs = g.summary()\n",
    "\n",
    "print 'Number of vertices = {0}'.format(vert_edgs['num_vertices'])\n",
    "print 'Number of edges = {0}'.format(vert_edgs['num_edges'])"
   ]
  },
  {
   "cell_type": "markdown",
   "metadata": {},
   "source": [
    "Выполните пункты 2 - 6. В пункте 6 напишите краткие выводы."
   ]
  },
  {
   "cell_type": "markdown",
   "metadata": {
    "collapsed": true
   },
   "source": [
    "2 Распределение степеней вершин графа (График log - log)"
   ]
  },
  {
   "cell_type": "code",
   "execution_count": 5,
   "metadata": {
    "collapsed": false
   },
   "outputs": [],
   "source": [
    "def load_graph(fname):\n",
    "    g = defaultdict(set)\n",
    "    \n",
    "    with open(fname, 'r') as f:\n",
    "        f.readline()\n",
    "        for l in f:\n",
    "            a, b = map(int, l.split(','))\n",
    "            g[a].add(b)\n",
    "            g[b].add(a)\n",
    "    return g\n",
    "\n",
    "G = load_graph('the_graph.csv')"
   ]
  },
  {
   "cell_type": "code",
   "execution_count": 6,
   "metadata": {
    "collapsed": false
   },
   "outputs": [
    {
     "data": {
      "image/png": "[encoded data removed]",
      "text/plain": [
       "<matplotlib.figure.Figure at 0x7fb8ec7c8cd0>"
      ]
     },
     "metadata": {},
     "output_type": "display_data"
    }
   ],
   "source": [
    "def plot_degrees(G):\n",
    "    m = 60\n",
    "    X = np.zeros(m, np.float32)\n",
    "    for v in G:\n",
    "        deg = len(G[v])\n",
    "        if deg < m:\n",
    "            X[deg] += 1\n",
    "    plot(range(m), np.log(X + 1))\n",
    "\n",
    "plot_degrees(G)"
   ]
  },
  {
   "cell_type": "code",
   "execution_count": 7,
   "metadata": {
    "collapsed": true
   },
   "outputs": [],
   "source": [
    "def number_of_edges(G):\n",
    "    m = 0\n",
    "    for v in G:\n",
    "        m += len(G[v])\n",
    "    return m / 2"
   ]
  },
  {
   "cell_type": "code",
   "execution_count": 8,
   "metadata": {
    "collapsed": false
   },
   "outputs": [
    {
     "name": "stdout",
     "output_type": "stream",
     "text": [
      "Graph density: 0.000031\n"
     ]
    }
   ],
   "source": [
    "def get_graph_density(G):\n",
    "    n, m = len(G), number_of_edges(G)\n",
    "    return 2.0 * m / (n * (n - 1))\n",
    "\n",
    "print('Graph density: %.6f' % get_graph_density(G))"
   ]
  },
  {
   "cell_type": "code",
   "execution_count": 9,
   "metadata": {
    "collapsed": false
   },
   "outputs": [
    {
     "name": "stdout",
     "output_type": "stream",
     "text": [
      "Graph diameter: 13\n"
     ]
    }
   ],
   "source": [
    "def find_most_distant(G, f):\n",
    "    q = deque()\n",
    "    q.appendleft((f, 0))\n",
    "    vis = [False] * len(G)\n",
    "    max_dist = 0\n",
    "    max_v = 0\n",
    "    while len(q):\n",
    "        v, d = q.pop()\n",
    "        if vis[v]: continue\n",
    "        vis[v] = True\n",
    "        if d > max_dist:\n",
    "            max_dist, max_v = d, v\n",
    "        for vv in G[v]:\n",
    "            q.appendleft((vv, d+1))\n",
    "    return (max_v, max_dist)\n",
    "\n",
    "def find_graph_diameter_approx(G):\n",
    "    def diameter(G, v):\n",
    "        v, d = find_most_distant(G, v)\n",
    "        v, d = find_most_distant(G, v)\n",
    "        return d\n",
    "    return max([diameter(G, randrange(0, len(G))) for v in range(10)])\n",
    "\n",
    "print('Graph diameter: %d' % find_graph_diameter_approx(G))"
   ]
  },
  {
   "cell_type": "code",
   "execution_count": 10,
   "metadata": {
    "collapsed": false
   },
   "outputs": [
    {
     "name": "stdout",
     "output_type": "stream",
     "text": [
      "Number of triangles: 1791363\n"
     ]
    }
   ],
   "source": [
    "def count_triangles(G):\n",
    "    vis = [0] * len(G)\n",
    "    n = 0\n",
    "\n",
    "    def dfs(G, v, vis, color, d, p):\n",
    "        if d > 3:\n",
    "            return 0\n",
    "        if d == 3 and vis[v] == color:\n",
    "            return 1\n",
    "        if vis[v] == color:\n",
    "            return 0\n",
    "        vis[v] = color\n",
    "        s = 0\n",
    "        for vv in G[v]:\n",
    "            if p != vv:\n",
    "                s += dfs(G, vv, vis, color, d+1, v)\n",
    "        return s\n",
    "\n",
    "    for v in xrange(len(G)):\n",
    "        n += dfs(G, v, vis, v, 0, -1)\n",
    "    return n / 3\n",
    "\n",
    "print('Number of triangles: %d' % count_triangles(G))"
   ]
  },
  {
   "cell_type": "markdown",
   "metadata": {},
   "source": [
    "Граф является разряженным, т.к. количество ребер сравнимо с кол-вом вершин и плотность низкая.\n",
    "\n",
    "Плотность низкая => вероятность наличия случайного ребра мала."
   ]
  },
  {
   "cell_type": "markdown",
   "metadata": {},
   "source": [
    "----\n",
    "### 2. Генерация дополнительных данных - 20 Баллов\n",
    "\n",
    "Перед нами стоит задача создания модели классификации, которая в дальнейшем будет использоваться для повышения разнообразия блока рекомендаций. Для большинства моделей классификации требуется минимум 2 класса объектов - негативный и позитивный. Но у нас есть только граф, ребра которые в нем присутствуют это позитивные примеры. Получается, что у нас нет негативных примеров. \n",
    "\n",
    "Ответьте на 3 вопроса:\n",
    "\n",
    "1. Можем ли мы сами создать негативные примеры? Граф это описание связей между вершинами, если мы будем случайным образом выбирать две вершины и считать, что это ребро - негативный пример, имеет ли это смысл?\n",
    "2. Если мы решим сгенерировать негативные примеры, как должна быть устроена процедура генерации, чтобы обобщаяющая способность модели была наилучшей?\n",
    "3. Как зависит обобщающая способность модели от негативных примеров, которые мы ей покажем?"
   ]
  },
  {
   "cell_type": "markdown",
   "metadata": {},
   "source": [
    "1. Да, можем. Негативный пример - отсутствие ребра.\n",
    "2. Характеристики сгенерированных вершин должны иметь такое же распределение, как характеристики всех вершин.\n",
    "3. Чем больше разнообразных негативных примеров, тем лучше обобщаюшая способность."
   ]
  },
  {
   "cell_type": "markdown",
   "metadata": {},
   "source": [
    "------\n",
    "Создадим класс отрицательных примеров, сгенерировав его самым простым образом: берем две вершины, если ребро между ними отсутствует в графе, то это отрицательный пример.\n",
    "\n",
    "1. Попробуйте улучшить генерацию отрицательных примеров"
   ]
  },
  {
   "cell_type": "code",
   "execution_count": 4,
   "metadata": {
    "collapsed": false
   },
   "outputs": [],
   "source": [
    "edges = gl.SFrame.read_csv('the_graph.csv', delimiter=',', verbose=False)\n",
    "g = gl.SGraph().add_edges(edges, src_field='src', dst_field='dst')\n",
    "vert_edgs = g.summary()"
   ]
  },
  {
   "cell_type": "code",
   "execution_count": 5,
   "metadata": {
    "collapsed": false
   },
   "outputs": [
    {
     "name": "stdout",
     "output_type": "stream",
     "text": [
      "1384871\n"
     ]
    }
   ],
   "source": [
    "# read in existing edges\n",
    "graph_file = open('the_graph.csv')\n",
    "graph_file.readline() # first line is column names\n",
    "existing_edges = set()\n",
    "\n",
    "for x in graph_file:\n",
    "    start, end = x.split(',')\n",
    "    start, end = int(start), int(end)\n",
    "    existing_edges.add((start, end))\n",
    "    \n",
    "print len(existing_edges)"
   ]
  },
  {
   "cell_type": "code",
   "execution_count": 5,
   "metadata": {
    "collapsed": false
   },
   "outputs": [
    {
     "name": "stdout",
     "output_type": "stream",
     "text": [
      "1384831\n"
     ]
    }
   ],
   "source": [
    "# generating negative examples, so that class balance is 50/50 \n",
    "\n",
    "PROPORTION = 1.\n",
    "generated_nonexisting_edges = []\n",
    "counter = 0\n",
    "while True:\n",
    "    start = np.random.randint(0, vert_edgs['num_vertices'])\n",
    "    end = np.random.randint(0, vert_edgs['num_vertices'])\n",
    "\n",
    "    if (start != end) & ((start, end) not in existing_edges):\n",
    "        generated_nonexisting_edges.append([start, end, 0])\n",
    "\n",
    "    counter += 1\n",
    "    if counter == int(PROPORTION * vert_edgs['num_edges']):\n",
    "        break\n",
    "\n",
    "print len(generated_nonexisting_edges)"
   ]
  },
  {
   "cell_type": "code",
   "execution_count": 6,
   "metadata": {
    "collapsed": false
   },
   "outputs": [],
   "source": [
    "# create SFrame with negative examples\n",
    "# generated_nonexisting_edges = pd.DataFrame(data=generated_nonexisting_edges, columns=['src', 'dst', 'class'])\n",
    "# generated_nonexisting_edges = gl.SFrame(data=generated_nonexisting_edges)\n",
    "edges = edges[:10000]\n",
    "generated_nonexisting_edges = pd.DataFrame(data=generated_nonexisting_edges[:10000],\n",
    "                                           columns=['src', 'dst', 'class'])\n",
    "generated_nonexisting_edges = gl.SFrame(data=generated_nonexisting_edges[:10000])"
   ]
  },
  {
   "cell_type": "code",
   "execution_count": 7,
   "metadata": {
    "collapsed": true
   },
   "outputs": [],
   "source": [
    "# add target function to the original dataset \n",
    "edges['class'] = [1]*edges.shape[0]"
   ]
  },
  {
   "cell_type": "code",
   "execution_count": 8,
   "metadata": {
    "collapsed": false
   },
   "outputs": [],
   "source": [
    "# add negative examples to the main data and shuffle\n",
    "edges = edges.append(generated_nonexisting_edges)\n",
    "edges = gl.cross_validation.shuffle(edges)"
   ]
  },
  {
   "cell_type": "code",
   "execution_count": 9,
   "metadata": {
    "collapsed": false
   },
   "outputs": [],
   "source": [
    "# update our graph g with fake edges\n",
    "g = gl.SGraph().add_edges(edges, src_field='src', dst_field='dst')"
   ]
  },
  {
   "cell_type": "code",
   "execution_count": 10,
   "metadata": {
    "collapsed": false,
    "scrolled": false
   },
   "outputs": [
    {
     "name": "stdout",
     "output_type": "stream",
     "text": [
      "Number of vertices = 36975\n",
      "Number of edges = 20000\n"
     ]
    }
   ],
   "source": [
    "vert_edgs = g.summary()\n",
    "\n",
    "print 'Number of vertices = {0}'.format(vert_edgs['num_vertices'])\n",
    "print 'Number of edges = {0}'.format(vert_edgs['num_edges'])"
   ]
  },
  {
   "cell_type": "markdown",
   "metadata": {},
   "source": [
    "----\n",
    "### 3. Создание матрицы признаков для ребер - 30 Баллов\n",
    "\n",
    "Для создания модели классификации нам необходимы признаки, которые описывают каждое ребро. Вот базовый список того, что можно посчитать:\n",
    "\n",
    "Для вершин:\n",
    "\n",
    "1. Список и количество вершин, из которых ребра приходят в данную вершину\n",
    "2. Список и количество вершин, в которые ребра приходят из данной вершины\n",
    "3. Список и количество вершин связанных с данной вершиной\n",
    "4. Список и количество вершин, которые связанны с данной вершиной как входящими, так и исходящими ребрами\n",
    "\n",
    "Также можно добавить: вершины с которыми данная вершина образует треугольники, кластеризовать вершины и использовать кластер данной вершины и др.\n",
    "\n",
    "Придумайте дополнительные интересные признаки для вершин и вы получите дополнительный балл за домашнюю работу!"
   ]
  },
  {
   "cell_type": "code",
   "execution_count": 5,
   "metadata": {
    "collapsed": false
   },
   "outputs": [
    {
     "data": {
      "text/html": [
       "<div style=\"max-height:1000px;max-width:1500px;overflow:auto;\"><table frame=\"box\" rules=\"cols\">\n",
       "    <tr>\n",
       "        <th style=\"padding-left: 1em; padding-right: 1em; text-align: center\">id</th>\n",
       "    </tr>\n",
       "    <tr>\n",
       "        <td style=\"padding-left: 1em; padding-right: 1em; text-align: center; vertical-align: top\">5</td>\n",
       "    </tr>\n",
       "    <tr>\n",
       "        <td style=\"padding-left: 1em; padding-right: 1em; text-align: center; vertical-align: top\">7</td>\n",
       "    </tr>\n",
       "    <tr>\n",
       "        <td style=\"padding-left: 1em; padding-right: 1em; text-align: center; vertical-align: top\">8</td>\n",
       "    </tr>\n",
       "</table>\n",
       "[3 rows x 1 columns]<br/>\n",
       "</div>"
      ],
      "text/plain": [
       "Columns:\n",
       "\tid\tint\n",
       "\n",
       "Rows: 3\n",
       "\n",
       "Data:\n",
       "+----+\n",
       "| id |\n",
       "+----+\n",
       "| 5  |\n",
       "| 7  |\n",
       "| 8  |\n",
       "+----+\n",
       "[3 rows x 1 columns]"
      ]
     },
     "execution_count": 5,
     "metadata": {},
     "output_type": "execute_result"
    }
   ],
   "source": [
    "all_vertices = g.get_vertices()\n",
    "all_vertices.rename({\"__id\": \"id\"}) \n",
    "all_vertices.head(3)"
   ]
  },
  {
   "cell_type": "code",
   "execution_count": 6,
   "metadata": {
    "collapsed": true
   },
   "outputs": [],
   "source": [
    "def get_list(s):\n",
    "    s = filter(lambda y: y != '', s[1:-1].split(', '))\n",
    "    s =  map(int, s)\n",
    "    return s"
   ]
  },
  {
   "cell_type": "code",
   "execution_count": 7,
   "metadata": {
    "collapsed": false,
    "scrolled": true
   },
   "outputs": [],
   "source": [
    "all_vert = pd.read_csv('all_vert.csv', converters={'out_vertices': get_list,\n",
    "                                                  'in_vertices': get_list,\n",
    "                                                  'both_vertices': get_list})\n",
    "all_vertices = gl.SFrame(data=all_vert)\n",
    "all_vert.index = all_vert['id']"
   ]
  },
  {
   "cell_type": "code",
   "execution_count": 8,
   "metadata": {
    "collapsed": false
   },
   "outputs": [
    {
     "data": {
      "text/html": [
       "<div style=\"max-height:1000px;max-width:1500px;overflow:auto;\"><table frame=\"box\" rules=\"cols\">\n",
       "    <tr>\n",
       "        <th style=\"padding-left: 1em; padding-right: 1em; text-align: center\">id</th>\n",
       "        <th style=\"padding-left: 1em; padding-right: 1em; text-align: center\">out_vertices</th>\n",
       "        <th style=\"padding-left: 1em; padding-right: 1em; text-align: center\">in_vertices</th>\n",
       "        <th style=\"padding-left: 1em; padding-right: 1em; text-align: center\">in_degree</th>\n",
       "        <th style=\"padding-left: 1em; padding-right: 1em; text-align: center\">out_degree</th>\n",
       "        <th style=\"padding-left: 1em; padding-right: 1em; text-align: center\">second_in_degree</th>\n",
       "        <th style=\"padding-left: 1em; padding-right: 1em; text-align: center\">second_out_degree</th>\n",
       "    </tr>\n",
       "    <tr>\n",
       "        <td style=\"padding-left: 1em; padding-right: 1em; text-align: center; vertical-align: top\">251434</td>\n",
       "        <td style=\"padding-left: 1em; padding-right: 1em; text-align: center; vertical-align: top\">[37011.0, 123425.0,<br>52759.0, 255119.0, ...</td>\n",
       "        <td style=\"padding-left: 1em; padding-right: 1em; text-align: center; vertical-align: top\">[260166.0, 80999.0,<br>158383.0, 181225.0, ...</td>\n",
       "        <td style=\"padding-left: 1em; padding-right: 1em; text-align: center; vertical-align: top\">11</td>\n",
       "        <td style=\"padding-left: 1em; padding-right: 1em; text-align: center; vertical-align: top\">11</td>\n",
       "        <td style=\"padding-left: 1em; padding-right: 1em; text-align: center; vertical-align: top\">123</td>\n",
       "        <td style=\"padding-left: 1em; padding-right: 1em; text-align: center; vertical-align: top\">120</td>\n",
       "    </tr>\n",
       "    <tr>\n",
       "        <td style=\"padding-left: 1em; padding-right: 1em; text-align: center; vertical-align: top\">211023</td>\n",
       "        <td style=\"padding-left: 1em; padding-right: 1em; text-align: center; vertical-align: top\">[181032.0, 189713.0,<br>224381.0, 2228.0, ...</td>\n",
       "        <td style=\"padding-left: 1em; padding-right: 1em; text-align: center; vertical-align: top\">[78195.0, 248527.0,<br>205115.0, 150639.0, ...</td>\n",
       "        <td style=\"padding-left: 1em; padding-right: 1em; text-align: center; vertical-align: top\">10</td>\n",
       "        <td style=\"padding-left: 1em; padding-right: 1em; text-align: center; vertical-align: top\">17</td>\n",
       "        <td style=\"padding-left: 1em; padding-right: 1em; text-align: center; vertical-align: top\">99</td>\n",
       "        <td style=\"padding-left: 1em; padding-right: 1em; text-align: center; vertical-align: top\">183</td>\n",
       "    </tr>\n",
       "</table>\n",
       "<table frame=\"box\" rules=\"cols\">\n",
       "    <tr>\n",
       "        <th style=\"padding-left: 1em; padding-right: 1em; text-align: center\">both_vertices</th>\n",
       "        <th style=\"padding-left: 1em; padding-right: 1em; text-align: center\">both_degree</th>\n",
       "    </tr>\n",
       "    <tr>\n",
       "        <td style=\"padding-left: 1em; padding-right: 1em; text-align: center; vertical-align: top\">[250137.0, 255119.0]</td>\n",
       "        <td style=\"padding-left: 1em; padding-right: 1em; text-align: center; vertical-align: top\">2</td>\n",
       "    </tr>\n",
       "    <tr>\n",
       "        <td style=\"padding-left: 1em; padding-right: 1em; text-align: center; vertical-align: top\">[233626.0, 198886.0]</td>\n",
       "        <td style=\"padding-left: 1em; padding-right: 1em; text-align: center; vertical-align: top\">2</td>\n",
       "    </tr>\n",
       "</table>\n",
       "[2 rows x 9 columns]<br/>\n",
       "</div>"
      ],
      "text/plain": [
       "Columns:\n",
       "\tid\tint\n",
       "\tout_vertices\tarray\n",
       "\tin_vertices\tarray\n",
       "\tin_degree\tint\n",
       "\tout_degree\tint\n",
       "\tsecond_in_degree\tint\n",
       "\tsecond_out_degree\tint\n",
       "\tboth_vertices\tarray\n",
       "\tboth_degree\tint\n",
       "\n",
       "Rows: 2\n",
       "\n",
       "Data:\n",
       "+--------+-------------------------------+-------------------------------+-----------+\n",
       "|   id   |          out_vertices         |          in_vertices          | in_degree |\n",
       "+--------+-------------------------------+-------------------------------+-----------+\n",
       "| 251434 | [37011.0, 123425.0, 52759.... | [260166.0, 80999.0, 158383... |     11    |\n",
       "| 211023 | [181032.0, 189713.0, 22438... | [78195.0, 248527.0, 205115... |     10    |\n",
       "+--------+-------------------------------+-------------------------------+-----------+\n",
       "+------------+------------------+-------------------+----------------------+-------------+\n",
       "| out_degree | second_in_degree | second_out_degree |    both_vertices     | both_degree |\n",
       "+------------+------------------+-------------------+----------------------+-------------+\n",
       "|     11     |       123        |        120        | [250137.0, 255119.0] |      2      |\n",
       "|     17     |        99        |        183        | [233626.0, 198886.0] |      2      |\n",
       "+------------+------------------+-------------------+----------------------+-------------+\n",
       "[2 rows x 9 columns]"
      ]
     },
     "execution_count": 8,
     "metadata": {},
     "output_type": "execute_result"
    }
   ],
   "source": [
    "all_vertices.head(2)"
   ]
  },
  {
   "cell_type": "code",
   "execution_count": 9,
   "metadata": {
    "collapsed": false
   },
   "outputs": [
    {
     "data": {
      "text/html": [
       "<div>\n",
       "<table border=\"1\" class=\"dataframe\">\n",
       "  <thead>\n",
       "    <tr style=\"text-align: right;\">\n",
       "      <th></th>\n",
       "      <th>id</th>\n",
       "      <th>out_vertices</th>\n",
       "      <th>in_vertices</th>\n",
       "      <th>in_degree</th>\n",
       "      <th>out_degree</th>\n",
       "      <th>second_in_degree</th>\n",
       "      <th>second_out_degree</th>\n",
       "      <th>both_vertices</th>\n",
       "      <th>both_degree</th>\n",
       "    </tr>\n",
       "    <tr>\n",
       "      <th>id</th>\n",
       "      <th></th>\n",
       "      <th></th>\n",
       "      <th></th>\n",
       "      <th></th>\n",
       "      <th></th>\n",
       "      <th></th>\n",
       "      <th></th>\n",
       "      <th></th>\n",
       "      <th></th>\n",
       "    </tr>\n",
       "  </thead>\n",
       "  <tbody>\n",
       "    <tr>\n",
       "      <th>251434</th>\n",
       "      <td>251434</td>\n",
       "      <td>[37011, 123425, 52759, 255119, 4126, 250137, 6...</td>\n",
       "      <td>[260166, 80999, 158383, 181225, 250137, 23464,...</td>\n",
       "      <td>11</td>\n",
       "      <td>11</td>\n",
       "      <td>123</td>\n",
       "      <td>120</td>\n",
       "      <td>[250137, 255119]</td>\n",
       "      <td>2</td>\n",
       "    </tr>\n",
       "    <tr>\n",
       "      <th>211023</th>\n",
       "      <td>211023</td>\n",
       "      <td>[181032, 189713, 224381, 2228, 159269, 192368,...</td>\n",
       "      <td>[78195, 248527, 205115, 150639, 236267, 87769,...</td>\n",
       "      <td>10</td>\n",
       "      <td>17</td>\n",
       "      <td>99</td>\n",
       "      <td>183</td>\n",
       "      <td>[233626, 198886]</td>\n",
       "      <td>2</td>\n",
       "    </tr>\n",
       "  </tbody>\n",
       "</table>\n",
       "</div>"
      ],
      "text/plain": [
       "            id                                       out_vertices  \\\n",
       "id                                                                  \n",
       "251434  251434  [37011, 123425, 52759, 255119, 4126, 250137, 6...   \n",
       "211023  211023  [181032, 189713, 224381, 2228, 159269, 192368,...   \n",
       "\n",
       "                                              in_vertices  in_degree  \\\n",
       "id                                                                     \n",
       "251434  [260166, 80999, 158383, 181225, 250137, 23464,...         11   \n",
       "211023  [78195, 248527, 205115, 150639, 236267, 87769,...         10   \n",
       "\n",
       "        out_degree  second_in_degree  second_out_degree     both_vertices  \\\n",
       "id                                                                          \n",
       "251434          11               123                120  [250137, 255119]   \n",
       "211023          17                99                183  [233626, 198886]   \n",
       "\n",
       "        both_degree  \n",
       "id                   \n",
       "251434            2  \n",
       "211023            2  "
      ]
     },
     "execution_count": 9,
     "metadata": {},
     "output_type": "execute_result"
    }
   ],
   "source": [
    "all_vert.head(2)"
   ]
  },
  {
   "cell_type": "code",
   "execution_count": 16,
   "metadata": {
    "collapsed": false
   },
   "outputs": [
    {
     "name": "stdout",
     "output_type": "stream",
     "text": [
      "\n"
     ]
    }
   ],
   "source": [
    "# calculating each vertices in and out connections\n",
    "out_vertices = edges.groupby(\"src\", {\"out_vertices\": gl.aggregate.CONCAT(\"dst\")})\n",
    "out_vertices.rename({\"src\": \"id\"})\n",
    "\n",
    "in_vertices = edges.groupby(\"dst\", {\"in_vertices\": gl.aggregate.CONCAT(\"src\")})\n",
    "in_vertices.rename({\"dst\": \"id\"})\n",
    "print "
   ]
  },
  {
   "cell_type": "code",
   "execution_count": 17,
   "metadata": {
    "collapsed": false,
    "scrolled": true
   },
   "outputs": [
    {
     "ename": "RuntimeError",
     "evalue": "Runtime Exception. Default value must be convertible to column type",
     "output_type": "error",
     "traceback": [
      "\u001b[0;31m---------------------------------------------------------------------------\u001b[0m",
      "\u001b[0;31mRuntimeError\u001b[0m                              Traceback (most recent call last)",
      "\u001b[0;32m<ipython-input-17-6563260240d2>\u001b[0m in \u001b[0;36m<module>\u001b[0;34m()\u001b[0m\n\u001b[1;32m      4\u001b[0m \u001b[0;34m\u001b[0m\u001b[0m\n\u001b[1;32m      5\u001b[0m \u001b[0;31m# replace missing values with empty lists\u001b[0m\u001b[0;34m\u001b[0m\u001b[0;34m\u001b[0m\u001b[0m\n\u001b[0;32m----> 6\u001b[0;31m \u001b[0mall_vertices\u001b[0m \u001b[0;34m=\u001b[0m \u001b[0mall_vertices\u001b[0m\u001b[0;34m.\u001b[0m\u001b[0mfillna\u001b[0m\u001b[0;34m(\u001b[0m\u001b[0;34m'in_vertices'\u001b[0m\u001b[0;34m,\u001b[0m\u001b[0;34m[\u001b[0m\u001b[0;34m]\u001b[0m\u001b[0;34m)\u001b[0m\u001b[0;34m\u001b[0m\u001b[0m\n\u001b[0m\u001b[1;32m      7\u001b[0m \u001b[0mall_vertices\u001b[0m \u001b[0;34m=\u001b[0m \u001b[0mall_vertices\u001b[0m\u001b[0;34m.\u001b[0m\u001b[0mfillna\u001b[0m\u001b[0;34m(\u001b[0m\u001b[0;34m'out_vertices'\u001b[0m\u001b[0;34m,\u001b[0m\u001b[0;34m[\u001b[0m\u001b[0;34m]\u001b[0m\u001b[0;34m)\u001b[0m\u001b[0;34m\u001b[0m\u001b[0m\n\u001b[1;32m      8\u001b[0m \u001b[0mall_vertices\u001b[0m\u001b[0;34m.\u001b[0m\u001b[0mhead\u001b[0m\u001b[0;34m(\u001b[0m\u001b[0;36m3\u001b[0m\u001b[0;34m)\u001b[0m\u001b[0;34m\u001b[0m\u001b[0m\n",
      "\u001b[0;32m/home/anya/.local/lib/python2.7/site-packages/graphlab/data_structures/sframe.pyc\u001b[0m in \u001b[0;36mfillna\u001b[0;34m(self, column, value)\u001b[0m\n\u001b[1;32m   6099\u001b[0m             \u001b[0;32mraise\u001b[0m \u001b[0mTypeError\u001b[0m\u001b[0;34m(\u001b[0m\u001b[0;34m\"Must give column name as a str\"\u001b[0m\u001b[0;34m)\u001b[0m\u001b[0;34m\u001b[0m\u001b[0m\n\u001b[1;32m   6100\u001b[0m         \u001b[0mret\u001b[0m \u001b[0;34m=\u001b[0m \u001b[0mself\u001b[0m\u001b[0;34m[\u001b[0m\u001b[0mself\u001b[0m\u001b[0;34m.\u001b[0m\u001b[0mcolumn_names\u001b[0m\u001b[0;34m(\u001b[0m\u001b[0;34m)\u001b[0m\u001b[0;34m]\u001b[0m\u001b[0;34m\u001b[0m\u001b[0m\n\u001b[0;32m-> 6101\u001b[0;31m         \u001b[0mret\u001b[0m\u001b[0;34m[\u001b[0m\u001b[0mcolumn\u001b[0m\u001b[0;34m]\u001b[0m \u001b[0;34m=\u001b[0m \u001b[0mret\u001b[0m\u001b[0;34m[\u001b[0m\u001b[0mcolumn\u001b[0m\u001b[0;34m]\u001b[0m\u001b[0;34m.\u001b[0m\u001b[0mfillna\u001b[0m\u001b[0;34m(\u001b[0m\u001b[0mvalue\u001b[0m\u001b[0;34m)\u001b[0m\u001b[0;34m\u001b[0m\u001b[0m\n\u001b[0m\u001b[1;32m   6102\u001b[0m         \u001b[0;32mreturn\u001b[0m \u001b[0mret\u001b[0m\u001b[0;34m\u001b[0m\u001b[0m\n\u001b[1;32m   6103\u001b[0m \u001b[0;34m\u001b[0m\u001b[0m\n",
      "\u001b[0;32m/home/anya/.local/lib/python2.7/site-packages/graphlab/data_structures/sarray.pyc\u001b[0m in \u001b[0;36mfillna\u001b[0;34m(self, value)\u001b[0m\n\u001b[1;32m   2662\u001b[0m \u001b[0;34m\u001b[0m\u001b[0m\n\u001b[1;32m   2663\u001b[0m         \u001b[0;32mwith\u001b[0m \u001b[0mcython_context\u001b[0m\u001b[0;34m(\u001b[0m\u001b[0;34m)\u001b[0m\u001b[0;34m:\u001b[0m\u001b[0;34m\u001b[0m\u001b[0m\n\u001b[0;32m-> 2664\u001b[0;31m             \u001b[0;32mreturn\u001b[0m \u001b[0mSArray\u001b[0m\u001b[0;34m(\u001b[0m\u001b[0m_proxy\u001b[0m \u001b[0;34m=\u001b[0m \u001b[0mself\u001b[0m\u001b[0;34m.\u001b[0m\u001b[0m__proxy__\u001b[0m\u001b[0;34m.\u001b[0m\u001b[0mfill_missing_values\u001b[0m\u001b[0;34m(\u001b[0m\u001b[0mvalue\u001b[0m\u001b[0;34m)\u001b[0m\u001b[0;34m)\u001b[0m\u001b[0;34m\u001b[0m\u001b[0m\n\u001b[0m\u001b[1;32m   2665\u001b[0m \u001b[0;34m\u001b[0m\u001b[0m\n\u001b[1;32m   2666\u001b[0m     \u001b[0;32mdef\u001b[0m \u001b[0mtopk_index\u001b[0m\u001b[0;34m(\u001b[0m\u001b[0mself\u001b[0m\u001b[0;34m,\u001b[0m \u001b[0mtopk\u001b[0m\u001b[0;34m=\u001b[0m\u001b[0;36m10\u001b[0m\u001b[0;34m,\u001b[0m \u001b[0mreverse\u001b[0m\u001b[0;34m=\u001b[0m\u001b[0mFalse\u001b[0m\u001b[0;34m)\u001b[0m\u001b[0;34m:\u001b[0m\u001b[0;34m\u001b[0m\u001b[0m\n",
      "\u001b[0;32m/home/anya/.local/lib/python2.7/site-packages/graphlab/cython/context.pyc\u001b[0m in \u001b[0;36m__exit__\u001b[0;34m(self, exc_type, exc_value, traceback)\u001b[0m\n\u001b[1;32m     47\u001b[0m             \u001b[0;32mif\u001b[0m \u001b[0;32mnot\u001b[0m \u001b[0mself\u001b[0m\u001b[0;34m.\u001b[0m\u001b[0mshow_cython_trace\u001b[0m\u001b[0;34m:\u001b[0m\u001b[0;34m\u001b[0m\u001b[0m\n\u001b[1;32m     48\u001b[0m                 \u001b[0;31m# To hide cython trace, we re-raise from here\u001b[0m\u001b[0;34m\u001b[0m\u001b[0;34m\u001b[0m\u001b[0m\n\u001b[0;32m---> 49\u001b[0;31m                 \u001b[0;32mraise\u001b[0m \u001b[0mexc_type\u001b[0m\u001b[0;34m(\u001b[0m\u001b[0mexc_value\u001b[0m\u001b[0;34m)\u001b[0m\u001b[0;34m\u001b[0m\u001b[0m\n\u001b[0m\u001b[1;32m     50\u001b[0m             \u001b[0;32melse\u001b[0m\u001b[0;34m:\u001b[0m\u001b[0;34m\u001b[0m\u001b[0m\n\u001b[1;32m     51\u001b[0m                 \u001b[0;31m# To show the full trace, we do nothing and let exception propagate\u001b[0m\u001b[0;34m\u001b[0m\u001b[0;34m\u001b[0m\u001b[0m\n",
      "\u001b[0;31mRuntimeError\u001b[0m: Runtime Exception. Default value must be convertible to column type"
     ]
    }
   ],
   "source": [
    "# join in and out connections with all_vertices\n",
    "all_vertices = all_vertices.join(out_vertices, on=\"id\", how=\"outer\")\n",
    "all_vertices = all_vertices.join(in_vertices, on=\"id\", how=\"outer\")\n",
    "\n",
    "# replace missing values with empty lists\n",
    "all_vertices = all_vertices.fillna('in_vertices',[])\n",
    "all_vertices = all_vertices.fillna('out_vertices',[])\n",
    "all_vertices.head(3)"
   ]
  },
  {
   "cell_type": "markdown",
   "metadata": {},
   "source": [
    "Мы получили базовый набор данных - список входящих и исходящих вершин, для каждой вершины. Теперь найдем количества вершин для метрик 1 и 2. Метрики 3 и 4 вы посчитаете сами"
   ]
  },
  {
   "cell_type": "code",
   "execution_count": 95,
   "metadata": {
    "collapsed": true
   },
   "outputs": [],
   "source": [
    "# in_degree - number of users following each vertex\n",
    "all_vertices['in_degree'] = all_vertices[\"in_vertices\"].apply(lambda x: len(x) )\n",
    "\n",
    "# out_degree - number of users each vertex is following\n",
    "all_vertices['out_degree'] = all_vertices[\"out_vertices\"].apply(lambda x: len(x) )"
   ]
  },
  {
   "cell_type": "code",
   "execution_count": 39,
   "metadata": {
    "collapsed": false
   },
   "outputs": [
    {
     "data": {
      "text/html": [
       "<div style=\"max-height:1000px;max-width:1500px;overflow:auto;\"><table frame=\"box\" rules=\"cols\">\n",
       "    <tr>\n",
       "        <th style=\"padding-left: 1em; padding-right: 1em; text-align: center\">id</th>\n",
       "        <th style=\"padding-left: 1em; padding-right: 1em; text-align: center\">out_vertices</th>\n",
       "        <th style=\"padding-left: 1em; padding-right: 1em; text-align: center\">in_vertices</th>\n",
       "        <th style=\"padding-left: 1em; padding-right: 1em; text-align: center\">in_degree</th>\n",
       "        <th style=\"padding-left: 1em; padding-right: 1em; text-align: center\">out_degree</th>\n",
       "        <th style=\"padding-left: 1em; padding-right: 1em; text-align: center\">second_in_degree</th>\n",
       "        <th style=\"padding-left: 1em; padding-right: 1em; text-align: center\">second_out_degree</th>\n",
       "    </tr>\n",
       "    <tr>\n",
       "        <td style=\"padding-left: 1em; padding-right: 1em; text-align: center; vertical-align: top\">251434</td>\n",
       "        <td style=\"padding-left: 1em; padding-right: 1em; text-align: center; vertical-align: top\">[37011.0, 123425.0,<br>52759.0, 255119.0, ...</td>\n",
       "        <td style=\"padding-left: 1em; padding-right: 1em; text-align: center; vertical-align: top\">[260166.0, 80999.0,<br>158383.0, 181225.0, ...</td>\n",
       "        <td style=\"padding-left: 1em; padding-right: 1em; text-align: center; vertical-align: top\">11</td>\n",
       "        <td style=\"padding-left: 1em; padding-right: 1em; text-align: center; vertical-align: top\">11</td>\n",
       "        <td style=\"padding-left: 1em; padding-right: 1em; text-align: center; vertical-align: top\">123</td>\n",
       "        <td style=\"padding-left: 1em; padding-right: 1em; text-align: center; vertical-align: top\">120</td>\n",
       "    </tr>\n",
       "    <tr>\n",
       "        <td style=\"padding-left: 1em; padding-right: 1em; text-align: center; vertical-align: top\">211023</td>\n",
       "        <td style=\"padding-left: 1em; padding-right: 1em; text-align: center; vertical-align: top\">[181032.0, 189713.0,<br>224381.0, 2228.0, ...</td>\n",
       "        <td style=\"padding-left: 1em; padding-right: 1em; text-align: center; vertical-align: top\">[78195.0, 248527.0,<br>205115.0, 150639.0, ...</td>\n",
       "        <td style=\"padding-left: 1em; padding-right: 1em; text-align: center; vertical-align: top\">10</td>\n",
       "        <td style=\"padding-left: 1em; padding-right: 1em; text-align: center; vertical-align: top\">17</td>\n",
       "        <td style=\"padding-left: 1em; padding-right: 1em; text-align: center; vertical-align: top\">99</td>\n",
       "        <td style=\"padding-left: 1em; padding-right: 1em; text-align: center; vertical-align: top\">183</td>\n",
       "    </tr>\n",
       "    <tr>\n",
       "        <td style=\"padding-left: 1em; padding-right: 1em; text-align: center; vertical-align: top\">21855</td>\n",
       "        <td style=\"padding-left: 1em; padding-right: 1em; text-align: center; vertical-align: top\">[163479.0, 25115.0,<br>5883.0, 15075.0, 2185 ...</td>\n",
       "        <td style=\"padding-left: 1em; padding-right: 1em; text-align: center; vertical-align: top\">[210796.0, 52985.0,<br>91031.0, 221164.0, ...</td>\n",
       "        <td style=\"padding-left: 1em; padding-right: 1em; text-align: center; vertical-align: top\">13</td>\n",
       "        <td style=\"padding-left: 1em; padding-right: 1em; text-align: center; vertical-align: top\">10</td>\n",
       "        <td style=\"padding-left: 1em; padding-right: 1em; text-align: center; vertical-align: top\">131</td>\n",
       "        <td style=\"padding-left: 1em; padding-right: 1em; text-align: center; vertical-align: top\">98</td>\n",
       "    </tr>\n",
       "</table>\n",
       "<table frame=\"box\" rules=\"cols\">\n",
       "    <tr>\n",
       "        <th style=\"padding-left: 1em; padding-right: 1em; text-align: center\">both_vertices</th>\n",
       "        <th style=\"padding-left: 1em; padding-right: 1em; text-align: center\">both_degree</th>\n",
       "    </tr>\n",
       "    <tr>\n",
       "        <td style=\"padding-left: 1em; padding-right: 1em; text-align: center; vertical-align: top\">[250137.0, 255119.0]</td>\n",
       "        <td style=\"padding-left: 1em; padding-right: 1em; text-align: center; vertical-align: top\">2</td>\n",
       "    </tr>\n",
       "    <tr>\n",
       "        <td style=\"padding-left: 1em; padding-right: 1em; text-align: center; vertical-align: top\">[233626.0, 198886.0]</td>\n",
       "        <td style=\"padding-left: 1em; padding-right: 1em; text-align: center; vertical-align: top\">2</td>\n",
       "    </tr>\n",
       "    <tr>\n",
       "        <td style=\"padding-left: 1em; padding-right: 1em; text-align: center; vertical-align: top\">[15075.0, 25116.0,<br>21854.0] ...</td>\n",
       "        <td style=\"padding-left: 1em; padding-right: 1em; text-align: center; vertical-align: top\">3</td>\n",
       "    </tr>\n",
       "</table>\n",
       "[3 rows x 9 columns]<br/>\n",
       "</div>"
      ],
      "text/plain": [
       "Columns:\n",
       "\tid\tint\n",
       "\tout_vertices\tarray\n",
       "\tin_vertices\tarray\n",
       "\tin_degree\tint\n",
       "\tout_degree\tint\n",
       "\tsecond_in_degree\tint\n",
       "\tsecond_out_degree\tint\n",
       "\tboth_vertices\tarray\n",
       "\tboth_degree\tint\n",
       "\n",
       "Rows: 3\n",
       "\n",
       "Data:\n",
       "+--------+-------------------------------+-------------------------------+-----------+\n",
       "|   id   |          out_vertices         |          in_vertices          | in_degree |\n",
       "+--------+-------------------------------+-------------------------------+-----------+\n",
       "| 251434 | [37011.0, 123425.0, 52759.... | [260166.0, 80999.0, 158383... |     11    |\n",
       "| 211023 | [181032.0, 189713.0, 22438... | [78195.0, 248527.0, 205115... |     10    |\n",
       "| 21855  | [163479.0, 25115.0, 5883.0... | [210796.0, 52985.0, 91031.... |     13    |\n",
       "+--------+-------------------------------+-------------------------------+-----------+\n",
       "+------------+------------------+-------------------+\n",
       "| out_degree | second_in_degree | second_out_degree |\n",
       "+------------+------------------+-------------------+\n",
       "|     11     |       123        |        120        |\n",
       "|     17     |        99        |        183        |\n",
       "|     10     |       131        |         98        |\n",
       "+------------+------------------+-------------------+\n",
       "+-----------------------------+-------------+\n",
       "|        both_vertices        | both_degree |\n",
       "+-----------------------------+-------------+\n",
       "|     [250137.0, 255119.0]    |      2      |\n",
       "|     [233626.0, 198886.0]    |      2      |\n",
       "| [15075.0, 25116.0, 21854.0] |      3      |\n",
       "+-----------------------------+-------------+\n",
       "[3 rows x 9 columns]"
      ]
     },
     "execution_count": 39,
     "metadata": {},
     "output_type": "execute_result"
    }
   ],
   "source": [
    "all_vertices.head(3)"
   ]
  },
  {
   "cell_type": "code",
   "execution_count": 97,
   "metadata": {
    "collapsed": false
   },
   "outputs": [],
   "source": [
    "all_vert = all_vertices.to_dataframe()"
   ]
  },
  {
   "cell_type": "code",
   "execution_count": 98,
   "metadata": {
    "collapsed": false
   },
   "outputs": [
    {
     "data": {
      "text/plain": [
       "{94213, 103500, 130553, 198886, 209072, 214275, 233626, 236267, 248527}"
      ]
     },
     "execution_count": 98,
     "metadata": {},
     "output_type": "execute_result"
    }
   ],
   "source": [
    "set(all_vert.ix[1]['in_vertices'])"
   ]
  },
  {
   "cell_type": "code",
   "execution_count": 99,
   "metadata": {
    "collapsed": false
   },
   "outputs": [],
   "source": [
    "def calc_second_degree(x, col_name='in_vertices'):\n",
    "    sec_neighb = set()\n",
    "    for neighb in x:\n",
    "        sec_neighb = sec_neighb.union(set(all_vert.ix[neighb][col_name]))\n",
    "    return len(sec_neighb)"
   ]
  },
  {
   "cell_type": "code",
   "execution_count": 100,
   "metadata": {
    "collapsed": false,
    "scrolled": true
   },
   "outputs": [
    {
     "name": "stdout",
     "output_type": "stream",
     "text": [
      "Traceback (most recent call last):\n",
      "  File \"/usr/local/lib/python2.7/dist-packages/IPython/core/ultratb.py\", line 1132, in get_records\n",
      "    return _fixed_getinnerframes(etb, number_of_lines_of_context, tb_offset)\n",
      "  File \"/usr/local/lib/python2.7/dist-packages/IPython/core/ultratb.py\", line 313, in wrapped\n",
      "    return f(*args, **kwargs)\n",
      "  File \"/usr/local/lib/python2.7/dist-packages/IPython/core/ultratb.py\", line 358, in _fixed_getinnerframes\n",
      "    records = fix_frame_records_filenames(inspect.getinnerframes(etb, context))\n",
      "  File \"/usr/lib/python2.7/inspect.py\", line 1044, in getinnerframes\n",
      "    framelist.append((tb.tb_frame,) + getframeinfo(tb, context))\n",
      "  File \"/usr/lib/python2.7/inspect.py\", line 1008, in getframeinfo\n",
      "    lines, lnum = findsource(frame)\n",
      "  File \"/usr/local/lib/python2.7/dist-packages/IPython/core/ultratb.py\", line 182, in findsource\n",
      "    lines = linecache.getlines(file, globals_dict)\n",
      "  File \"/usr/lib/python2.7/linecache.py\", line 41, in getlines\n",
      "    return updatecache(filename, module_globals)\n",
      "  File \"/usr/lib/python2.7/linecache.py\", line 132, in updatecache\n",
      "    lines = fp.readlines()\n",
      "KeyboardInterrupt\n"
     ]
    },
    {
     "ename": "IndexError",
     "evalue": "string index out of range",
     "output_type": "error",
     "traceback": [
      "\u001b[0;31m---------------------------------------------------------------------------\u001b[0m",
      "\u001b[0;31mIndexError\u001b[0m                                Traceback (most recent call last)",
      "\u001b[0;32m/usr/local/lib/python2.7/dist-packages/IPython/core/interactiveshell.pyc\u001b[0m in \u001b[0;36mrun_code\u001b[0;34m(self, code_obj, result)\u001b[0m\n\u001b[1;32m   2884\u001b[0m             \u001b[0;32mif\u001b[0m \u001b[0mresult\u001b[0m \u001b[0;32mis\u001b[0m \u001b[0;32mnot\u001b[0m \u001b[0mNone\u001b[0m\u001b[0;34m:\u001b[0m\u001b[0;34m\u001b[0m\u001b[0m\n\u001b[1;32m   2885\u001b[0m                 \u001b[0mresult\u001b[0m\u001b[0;34m.\u001b[0m\u001b[0merror_in_exec\u001b[0m \u001b[0;34m=\u001b[0m \u001b[0msys\u001b[0m\u001b[0;34m.\u001b[0m\u001b[0mexc_info\u001b[0m\u001b[0;34m(\u001b[0m\u001b[0;34m)\u001b[0m\u001b[0;34m[\u001b[0m\u001b[0;36m1\u001b[0m\u001b[0;34m]\u001b[0m\u001b[0;34m\u001b[0m\u001b[0m\n\u001b[0;32m-> 2886\u001b[0;31m             \u001b[0mself\u001b[0m\u001b[0;34m.\u001b[0m\u001b[0mshowtraceback\u001b[0m\u001b[0;34m(\u001b[0m\u001b[0;34m)\u001b[0m\u001b[0;34m\u001b[0m\u001b[0m\n\u001b[0m\u001b[1;32m   2887\u001b[0m         \u001b[0;32melse\u001b[0m\u001b[0;34m:\u001b[0m\u001b[0;34m\u001b[0m\u001b[0m\n\u001b[1;32m   2888\u001b[0m             \u001b[0moutflag\u001b[0m \u001b[0;34m=\u001b[0m \u001b[0;36m0\u001b[0m\u001b[0;34m\u001b[0m\u001b[0m\n",
      "\u001b[0;32m/usr/local/lib/python2.7/dist-packages/IPython/core/interactiveshell.pyc\u001b[0m in \u001b[0;36mshowtraceback\u001b[0;34m(self, exc_tuple, filename, tb_offset, exception_only)\u001b[0m\n\u001b[1;32m   1810\u001b[0m                     \u001b[0;32mexcept\u001b[0m \u001b[0mException\u001b[0m\u001b[0;34m:\u001b[0m\u001b[0;34m\u001b[0m\u001b[0m\n\u001b[1;32m   1811\u001b[0m                         stb = self.InteractiveTB.structured_traceback(etype,\n\u001b[0;32m-> 1812\u001b[0;31m                                             value, tb, tb_offset=tb_offset)\n\u001b[0m\u001b[1;32m   1813\u001b[0m \u001b[0;34m\u001b[0m\u001b[0m\n\u001b[1;32m   1814\u001b[0m                     \u001b[0mself\u001b[0m\u001b[0;34m.\u001b[0m\u001b[0m_showtraceback\u001b[0m\u001b[0;34m(\u001b[0m\u001b[0metype\u001b[0m\u001b[0;34m,\u001b[0m \u001b[0mvalue\u001b[0m\u001b[0;34m,\u001b[0m \u001b[0mstb\u001b[0m\u001b[0;34m)\u001b[0m\u001b[0;34m\u001b[0m\u001b[0m\n",
      "\u001b[0;32m/usr/local/lib/python2.7/dist-packages/IPython/core/ultratb.pyc\u001b[0m in \u001b[0;36mstructured_traceback\u001b[0;34m(self, etype, value, tb, tb_offset, number_of_lines_of_context)\u001b[0m\n\u001b[1;32m   1404\u001b[0m         \u001b[0mself\u001b[0m\u001b[0;34m.\u001b[0m\u001b[0mtb\u001b[0m \u001b[0;34m=\u001b[0m \u001b[0mtb\u001b[0m\u001b[0;34m\u001b[0m\u001b[0m\n\u001b[1;32m   1405\u001b[0m         return FormattedTB.structured_traceback(\n\u001b[0;32m-> 1406\u001b[0;31m             self, etype, value, tb, tb_offset, number_of_lines_of_context)\n\u001b[0m\u001b[1;32m   1407\u001b[0m \u001b[0;34m\u001b[0m\u001b[0m\n\u001b[1;32m   1408\u001b[0m \u001b[0;34m\u001b[0m\u001b[0m\n",
      "\u001b[0;32m/usr/local/lib/python2.7/dist-packages/IPython/core/ultratb.pyc\u001b[0m in \u001b[0;36mstructured_traceback\u001b[0;34m(self, etype, value, tb, tb_offset, number_of_lines_of_context)\u001b[0m\n\u001b[1;32m   1312\u001b[0m             \u001b[0;31m# Verbose modes need a full traceback\u001b[0m\u001b[0;34m\u001b[0m\u001b[0;34m\u001b[0m\u001b[0m\n\u001b[1;32m   1313\u001b[0m             return VerboseTB.structured_traceback(\n\u001b[0;32m-> 1314\u001b[0;31m                 \u001b[0mself\u001b[0m\u001b[0;34m,\u001b[0m \u001b[0metype\u001b[0m\u001b[0;34m,\u001b[0m \u001b[0mvalue\u001b[0m\u001b[0;34m,\u001b[0m \u001b[0mtb\u001b[0m\u001b[0;34m,\u001b[0m \u001b[0mtb_offset\u001b[0m\u001b[0;34m,\u001b[0m \u001b[0mnumber_of_lines_of_context\u001b[0m\u001b[0;34m\u001b[0m\u001b[0m\n\u001b[0m\u001b[1;32m   1315\u001b[0m             )\n\u001b[1;32m   1316\u001b[0m         \u001b[0;32melse\u001b[0m\u001b[0;34m:\u001b[0m\u001b[0;34m\u001b[0m\u001b[0m\n",
      "\u001b[0;32m/usr/local/lib/python2.7/dist-packages/IPython/core/ultratb.pyc\u001b[0m in \u001b[0;36mstructured_traceback\u001b[0;34m(self, etype, evalue, etb, tb_offset, number_of_lines_of_context)\u001b[0m\n\u001b[1;32m   1196\u001b[0m                 \u001b[0mstructured_traceback_parts\u001b[0m \u001b[0;34m+=\u001b[0m \u001b[0mformatted_exception\u001b[0m\u001b[0;34m\u001b[0m\u001b[0m\n\u001b[1;32m   1197\u001b[0m         \u001b[0;32melse\u001b[0m\u001b[0;34m:\u001b[0m\u001b[0;34m\u001b[0m\u001b[0m\n\u001b[0;32m-> 1198\u001b[0;31m             \u001b[0mstructured_traceback_parts\u001b[0m \u001b[0;34m+=\u001b[0m \u001b[0mformatted_exception\u001b[0m\u001b[0;34m[\u001b[0m\u001b[0;36m0\u001b[0m\u001b[0;34m]\u001b[0m\u001b[0;34m\u001b[0m\u001b[0m\n\u001b[0m\u001b[1;32m   1199\u001b[0m \u001b[0;34m\u001b[0m\u001b[0m\n\u001b[1;32m   1200\u001b[0m         \u001b[0;32mreturn\u001b[0m \u001b[0mstructured_traceback_parts\u001b[0m\u001b[0;34m\u001b[0m\u001b[0m\n",
      "\u001b[0;31mIndexError\u001b[0m: string index out of range"
     ]
    }
   ],
   "source": [
    "all_vert['second_in_degree'] = all_vert['in_vertices'].apply(lambda x: calc_second_degree(x, \n",
    "                                                                                          col_name='in_vertices'))"
   ]
  },
  {
   "cell_type": "code",
   "execution_count": null,
   "metadata": {
    "collapsed": false,
    "scrolled": true
   },
   "outputs": [],
   "source": [
    "all_vert['second_out_degree'] = all_vert['out_vertices'].apply(lambda x: calc_second_degree(x,\n",
    "                                                                                            col_name='out_vertices'))"
   ]
  },
  {
   "cell_type": "code",
   "execution_count": null,
   "metadata": {
    "collapsed": false
   },
   "outputs": [],
   "source": [
    "def calc_common_vertices(x):\n",
    "    x = all_vert.ix[x]\n",
    "    return list(set(x['in_vertices']).intersection(x['out_vertices']))"
   ]
  },
  {
   "cell_type": "code",
   "execution_count": null,
   "metadata": {
    "collapsed": false
   },
   "outputs": [],
   "source": [
    "all_vert['both_vertices'] = all_vert['id'].apply(lambda x: calc_common_vertices(x))"
   ]
  },
  {
   "cell_type": "code",
   "execution_count": null,
   "metadata": {
    "collapsed": false
   },
   "outputs": [],
   "source": [
    "print set(all_vert.ix[251434, 'in_vertices']).intersection(all_vert.ix[251434, 'out_vertices'])\n",
    "print all_vert.ix[251434, 'both_vertices']"
   ]
  },
  {
   "cell_type": "code",
   "execution_count": null,
   "metadata": {
    "collapsed": false
   },
   "outputs": [],
   "source": [
    "all_vert['both_degree'] = all_vert['both_vertices'].apply(lambda x: len(x))"
   ]
  },
  {
   "cell_type": "code",
   "execution_count": null,
   "metadata": {
    "collapsed": true
   },
   "outputs": [],
   "source": [
    "all_vert.to_csv('all_vert.csv')"
   ]
  },
  {
   "cell_type": "code",
   "execution_count": null,
   "metadata": {
    "collapsed": false,
    "scrolled": true
   },
   "outputs": [],
   "source": [
    "all_vertices['second_in_degree']= all_vert['second_in_degree']\n",
    "all_vertices['second_out_degree']= all_vert['second_out_degree']\n",
    "all_vertices['both_vertices'] = all_vert['both_vertices']\n",
    "all_vertices['both_degree'] = all_vert['both_degree']"
   ]
  },
  {
   "cell_type": "markdown",
   "metadata": {},
   "source": [
    "Мы получили характеристики для каждой вершины графа. Так как у нас задача предсказания наличия ребра, мы должны составить описание каждого ребра, используя метрики вершин. После составления характеристик ребер, мы можем перейти к генерации свойств ребер, взяв за основу метрики вершин ребра. Пример метрик для ребер, которые мы можем найти:\n",
    "\n",
    "1. Общие друзья вершин ребра\n",
    "2. Общее количество друзей вершин ребра\n",
    "3. Коэффициенты Жаккара, Пирсона, Адамик - Адара, косинусная мера\n",
    "\n",
    "Данные метрики находятся для каждого списка вершин, пунктов 1 - 4"
   ]
  },
  {
   "cell_type": "code",
   "execution_count": null,
   "metadata": {
    "collapsed": true
   },
   "outputs": [],
   "source": []
  },
  {
   "cell_type": "code",
   "execution_count": null,
   "metadata": {
    "collapsed": true
   },
   "outputs": [],
   "source": []
  },
  {
   "cell_type": "code",
   "execution_count": 6,
   "metadata": {
    "collapsed": false
   },
   "outputs": [
    {
     "name": "stdout",
     "output_type": "stream",
     "text": [
      "Populating the interactive namespace from numpy and matplotlib\n"
     ]
    }
   ],
   "source": [
    "%pylab inline\n",
    "import graphlab as gl\n",
    "import numpy as np\n",
    "import pandas as pd\n",
    "from collections import defaultdict, deque\n",
    "from random import randrange\n",
    "\n",
    "gl.canvas.set_target('ipynb')"
   ]
  },
  {
   "cell_type": "code",
   "execution_count": 7,
   "metadata": {
    "collapsed": false
   },
   "outputs": [
    {
     "name": "stdout",
     "output_type": "stream",
     "text": [
      "1384871\n",
      "1384835\n"
     ]
    }
   ],
   "source": [
    "NUMB_OF_EDGES = 10000\n",
    "\n",
    "edges = gl.SFrame.read_csv('the_graph.csv', delimiter=',', verbose=False)\n",
    "#edges = edges[:NUMB_OF_EDGES]\n",
    "g = gl.SGraph().add_edges(edges, src_field='src', dst_field='dst')\n",
    "vert_edgs = g.summary()\n",
    "\n",
    "graph_file = open('the_graph.csv')\n",
    "graph_file.readline() # first line is column names\n",
    "existing_edges = set()\n",
    "\n",
    "for x in graph_file:\n",
    "    start, end = x.split(',')\n",
    "    start, end = int(start), int(end)\n",
    "    existing_edges.add((start, end))\n",
    "    \n",
    "print len(existing_edges)\n",
    "\n",
    "\n",
    "PROPORTION = 1.\n",
    "generated_nonexisting_edges = []\n",
    "counter = 0\n",
    "while True:\n",
    "    start = np.random.randint(0, vert_edgs['num_vertices'])\n",
    "    end = np.random.randint(0, vert_edgs['num_vertices'])\n",
    "\n",
    "    if (start != end) & ((start, end) not in existing_edges):\n",
    "        generated_nonexisting_edges.append([start, end, 0])\n",
    "\n",
    "    counter += 1\n",
    "    if counter == int(PROPORTION * vert_edgs['num_edges']):\n",
    "        break\n",
    "edges['class'] = [1]*edges.shape[0]\n",
    "print len(generated_nonexisting_edges)"
   ]
  },
  {
   "cell_type": "code",
   "execution_count": 8,
   "metadata": {
    "collapsed": false
   },
   "outputs": [],
   "source": [
    "generated_nonexisting_edges = pd.DataFrame(data=generated_nonexisting_edges,\n",
    "                                           columns=['src', 'dst', 'class'])\n",
    "generated_nonexisting_edges = gl.SFrame(data=generated_nonexisting_edges)\n",
    "edges = edges.append(generated_nonexisting_edges)\n",
    "edges = gl.cross_validation.shuffle(edges)"
   ]
  },
  {
   "cell_type": "code",
   "execution_count": 9,
   "metadata": {
    "collapsed": true
   },
   "outputs": [],
   "source": [
    "def get_list(s):\n",
    "    s = filter(lambda y: y != '', s[1:-1].split(', '))\n",
    "    s =  map(int, s)\n",
    "    return s"
   ]
  },
  {
   "cell_type": "code",
   "execution_count": 10,
   "metadata": {
    "collapsed": false
   },
   "outputs": [],
   "source": [
    "all_vert = pd.read_csv('all_vert.csv', converters={'out_vertices': get_list,\n",
    "                                                  'in_vertices': get_list,\n",
    "                                                  'both_vertices': get_list})\n",
    "all_vertices = gl.SFrame(data=all_vert)\n",
    "all_vert.index = all_vert['id']"
   ]
  },
  {
   "cell_type": "code",
   "execution_count": 11,
   "metadata": {
    "collapsed": false,
    "scrolled": false
   },
   "outputs": [
    {
     "data": {
      "text/html": [
       "<div style=\"max-height:1000px;max-width:1500px;overflow:auto;\"><table frame=\"box\" rules=\"cols\">\n",
       "    <tr>\n",
       "        <th style=\"padding-left: 1em; padding-right: 1em; text-align: center\">src</th>\n",
       "        <th style=\"padding-left: 1em; padding-right: 1em; text-align: center\">dst</th>\n",
       "        <th style=\"padding-left: 1em; padding-right: 1em; text-align: center\">class</th>\n",
       "        <th style=\"padding-left: 1em; padding-right: 1em; text-align: center\">src_out_vertices</th>\n",
       "        <th style=\"padding-left: 1em; padding-right: 1em; text-align: center\">src_in_vertices</th>\n",
       "        <th style=\"padding-left: 1em; padding-right: 1em; text-align: center\">src_in_degree</th>\n",
       "        <th style=\"padding-left: 1em; padding-right: 1em; text-align: center\">src_out_degree</th>\n",
       "        <th style=\"padding-left: 1em; padding-right: 1em; text-align: center\">src_second_in_degree</th>\n",
       "    </tr>\n",
       "    <tr>\n",
       "        <td style=\"padding-left: 1em; padding-right: 1em; text-align: center; vertical-align: top\">64786</td>\n",
       "        <td style=\"padding-left: 1em; padding-right: 1em; text-align: center; vertical-align: top\">82652</td>\n",
       "        <td style=\"padding-left: 1em; padding-right: 1em; text-align: center; vertical-align: top\">1</td>\n",
       "        <td style=\"padding-left: 1em; padding-right: 1em; text-align: center; vertical-align: top\">[151592.0, 74929.0,<br>82651.0, 245517.0, ...</td>\n",
       "        <td style=\"padding-left: 1em; padding-right: 1em; text-align: center; vertical-align: top\">[60524.0, 116699.0,<br>63974.0, 46641.0, ...</td>\n",
       "        <td style=\"padding-left: 1em; padding-right: 1em; text-align: center; vertical-align: top\">10</td>\n",
       "        <td style=\"padding-left: 1em; padding-right: 1em; text-align: center; vertical-align: top\">8</td>\n",
       "        <td style=\"padding-left: 1em; padding-right: 1em; text-align: center; vertical-align: top\">89</td>\n",
       "    </tr>\n",
       "    <tr>\n",
       "        <td style=\"padding-left: 1em; padding-right: 1em; text-align: center; vertical-align: top\">107963</td>\n",
       "        <td style=\"padding-left: 1em; padding-right: 1em; text-align: center; vertical-align: top\">177326</td>\n",
       "        <td style=\"padding-left: 1em; padding-right: 1em; text-align: center; vertical-align: top\">0</td>\n",
       "        <td style=\"padding-left: 1em; padding-right: 1em; text-align: center; vertical-align: top\">[135094.0, 78031.0,<br>83174.0, 100856.0, ...</td>\n",
       "        <td style=\"padding-left: 1em; padding-right: 1em; text-align: center; vertical-align: top\">[169878.0, 3438.0,<br>123389.0, 100856.0, ...</td>\n",
       "        <td style=\"padding-left: 1em; padding-right: 1em; text-align: center; vertical-align: top\">13</td>\n",
       "        <td style=\"padding-left: 1em; padding-right: 1em; text-align: center; vertical-align: top\">11</td>\n",
       "        <td style=\"padding-left: 1em; padding-right: 1em; text-align: center; vertical-align: top\">152</td>\n",
       "    </tr>\n",
       "    <tr>\n",
       "        <td style=\"padding-left: 1em; padding-right: 1em; text-align: center; vertical-align: top\">93925</td>\n",
       "        <td style=\"padding-left: 1em; padding-right: 1em; text-align: center; vertical-align: top\">215567</td>\n",
       "        <td style=\"padding-left: 1em; padding-right: 1em; text-align: center; vertical-align: top\">0</td>\n",
       "        <td style=\"padding-left: 1em; padding-right: 1em; text-align: center; vertical-align: top\">[88513.0, 144411.0,<br>60680.0, 93923.0, ...</td>\n",
       "        <td style=\"padding-left: 1em; padding-right: 1em; text-align: center; vertical-align: top\">[88513.0, 192006.0,<br>176906.0, 143942.0, ...</td>\n",
       "        <td style=\"padding-left: 1em; padding-right: 1em; text-align: center; vertical-align: top\">15</td>\n",
       "        <td style=\"padding-left: 1em; padding-right: 1em; text-align: center; vertical-align: top\">9</td>\n",
       "        <td style=\"padding-left: 1em; padding-right: 1em; text-align: center; vertical-align: top\">145</td>\n",
       "    </tr>\n",
       "</table>\n",
       "<table frame=\"box\" rules=\"cols\">\n",
       "    <tr>\n",
       "        <th style=\"padding-left: 1em; padding-right: 1em; text-align: center\">src_second_out_degree</th>\n",
       "        <th style=\"padding-left: 1em; padding-right: 1em; text-align: center\">src_both_vertices</th>\n",
       "        <th style=\"padding-left: 1em; padding-right: 1em; text-align: center\">src_both_degree</th>\n",
       "        <th style=\"padding-left: 1em; padding-right: 1em; text-align: center\">dst_out_vertices</th>\n",
       "        <th style=\"padding-left: 1em; padding-right: 1em; text-align: center\">dst_in_vertices</th>\n",
       "        <th style=\"padding-left: 1em; padding-right: 1em; text-align: center\">dst_in_degree</th>\n",
       "    </tr>\n",
       "    <tr>\n",
       "        <td style=\"padding-left: 1em; padding-right: 1em; text-align: center; vertical-align: top\">81</td>\n",
       "        <td style=\"padding-left: 1em; padding-right: 1em; text-align: center; vertical-align: top\">[82650.0, 82651.0,<br>63974.0] ...</td>\n",
       "        <td style=\"padding-left: 1em; padding-right: 1em; text-align: center; vertical-align: top\">3</td>\n",
       "        <td style=\"padding-left: 1em; padding-right: 1em; text-align: center; vertical-align: top\">[90755.0, 247337.0,<br>74184.0, 74929.0, ...</td>\n",
       "        <td style=\"padding-left: 1em; padding-right: 1em; text-align: center; vertical-align: top\">[64785.0, 13617.0,<br>90755.0, 65392.0, ...</td>\n",
       "        <td style=\"padding-left: 1em; padding-right: 1em; text-align: center; vertical-align: top\">15</td>\n",
       "    </tr>\n",
       "    <tr>\n",
       "        <td style=\"padding-left: 1em; padding-right: 1em; text-align: center; vertical-align: top\">126</td>\n",
       "        <td style=\"padding-left: 1em; padding-right: 1em; text-align: center; vertical-align: top\">[100856.0, 135094.0]</td>\n",
       "        <td style=\"padding-left: 1em; padding-right: 1em; text-align: center; vertical-align: top\">2</td>\n",
       "        <td style=\"padding-left: 1em; padding-right: 1em; text-align: center; vertical-align: top\">[82270.0, 194084.0,<br>171524.0, 171441.0, ...</td>\n",
       "        <td style=\"padding-left: 1em; padding-right: 1em; text-align: center; vertical-align: top\">[220730.0, 171524.0,<br>194084.0, 30859.0, ...</td>\n",
       "        <td style=\"padding-left: 1em; padding-right: 1em; text-align: center; vertical-align: top\">9</td>\n",
       "    </tr>\n",
       "    <tr>\n",
       "        <td style=\"padding-left: 1em; padding-right: 1em; text-align: center; vertical-align: top\">93</td>\n",
       "        <td style=\"padding-left: 1em; padding-right: 1em; text-align: center; vertical-align: top\">[88513.0, 144411.0,<br>144412.0] ...</td>\n",
       "        <td style=\"padding-left: 1em; padding-right: 1em; text-align: center; vertical-align: top\">3</td>\n",
       "        <td style=\"padding-left: 1em; padding-right: 1em; text-align: center; vertical-align: top\">[136063.0, 14711.0,<br>168601.0, 73486.0, ...</td>\n",
       "        <td style=\"padding-left: 1em; padding-right: 1em; text-align: center; vertical-align: top\">[205703.0, 79524.0,<br>42402.0, 232987.0, ...</td>\n",
       "        <td style=\"padding-left: 1em; padding-right: 1em; text-align: center; vertical-align: top\">7</td>\n",
       "    </tr>\n",
       "</table>\n",
       "<table frame=\"box\" rules=\"cols\">\n",
       "    <tr>\n",
       "        <th style=\"padding-left: 1em; padding-right: 1em; text-align: center\">dst_out_degree</th>\n",
       "        <th style=\"padding-left: 1em; padding-right: 1em; text-align: center\">dst_second_in_degree</th>\n",
       "        <th style=\"padding-left: 1em; padding-right: 1em; text-align: center\">dst_second_out_degree</th>\n",
       "        <th style=\"padding-left: 1em; padding-right: 1em; text-align: center\">dst_both_vertices</th>\n",
       "        <th style=\"padding-left: 1em; padding-right: 1em; text-align: center\">dst_both_degree</th>\n",
       "    </tr>\n",
       "    <tr>\n",
       "        <td style=\"padding-left: 1em; padding-right: 1em; text-align: center; vertical-align: top\">8</td>\n",
       "        <td style=\"padding-left: 1em; padding-right: 1em; text-align: center; vertical-align: top\">137</td>\n",
       "        <td style=\"padding-left: 1em; padding-right: 1em; text-align: center; vertical-align: top\">74</td>\n",
       "        <td style=\"padding-left: 1em; padding-right: 1em; text-align: center; vertical-align: top\">[74184.0, 74929.0,<br>90755.0, 64785.0, ...</td>\n",
       "        <td style=\"padding-left: 1em; padding-right: 1em; text-align: center; vertical-align: top\">5</td>\n",
       "    </tr>\n",
       "    <tr>\n",
       "        <td style=\"padding-left: 1em; padding-right: 1em; text-align: center; vertical-align: top\">10</td>\n",
       "        <td style=\"padding-left: 1em; padding-right: 1em; text-align: center; vertical-align: top\">84</td>\n",
       "        <td style=\"padding-left: 1em; padding-right: 1em; text-align: center; vertical-align: top\">97</td>\n",
       "        <td style=\"padding-left: 1em; padding-right: 1em; text-align: center; vertical-align: top\">[171524.0, 194083.0,<br>194084.0, 161849.0] ...</td>\n",
       "        <td style=\"padding-left: 1em; padding-right: 1em; text-align: center; vertical-align: top\">4</td>\n",
       "    </tr>\n",
       "    <tr>\n",
       "        <td style=\"padding-left: 1em; padding-right: 1em; text-align: center; vertical-align: top\">12</td>\n",
       "        <td style=\"padding-left: 1em; padding-right: 1em; text-align: center; vertical-align: top\">76</td>\n",
       "        <td style=\"padding-left: 1em; padding-right: 1em; text-align: center; vertical-align: top\">140</td>\n",
       "        <td style=\"padding-left: 1em; padding-right: 1em; text-align: center; vertical-align: top\">[181169.0]</td>\n",
       "        <td style=\"padding-left: 1em; padding-right: 1em; text-align: center; vertical-align: top\">1</td>\n",
       "    </tr>\n",
       "</table>\n",
       "[3 rows x 19 columns]<br/>\n",
       "</div>"
      ],
      "text/plain": [
       "Columns:\n",
       "\tsrc\tint\n",
       "\tdst\tint\n",
       "\tclass\tint\n",
       "\tsrc_out_vertices\tarray\n",
       "\tsrc_in_vertices\tarray\n",
       "\tsrc_in_degree\tint\n",
       "\tsrc_out_degree\tint\n",
       "\tsrc_second_in_degree\tint\n",
       "\tsrc_second_out_degree\tint\n",
       "\tsrc_both_vertices\tarray\n",
       "\tsrc_both_degree\tint\n",
       "\tdst_out_vertices\tarray\n",
       "\tdst_in_vertices\tarray\n",
       "\tdst_in_degree\tint\n",
       "\tdst_out_degree\tint\n",
       "\tdst_second_in_degree\tint\n",
       "\tdst_second_out_degree\tint\n",
       "\tdst_both_vertices\tarray\n",
       "\tdst_both_degree\tint\n",
       "\n",
       "Rows: 3\n",
       "\n",
       "Data:\n",
       "+--------+--------+-------+-------------------------------+\n",
       "|  src   |  dst   | class |        src_out_vertices       |\n",
       "+--------+--------+-------+-------------------------------+\n",
       "| 64786  | 82652  |   1   | [151592.0, 74929.0, 82651.... |\n",
       "| 107963 | 177326 |   0   | [135094.0, 78031.0, 83174.... |\n",
       "| 93925  | 215567 |   0   | [88513.0, 144411.0, 60680.... |\n",
       "+--------+--------+-------+-------------------------------+\n",
       "+-------------------------------+---------------+----------------+----------------------+\n",
       "|        src_in_vertices        | src_in_degree | src_out_degree | src_second_in_degree |\n",
       "+-------------------------------+---------------+----------------+----------------------+\n",
       "| [60524.0, 116699.0, 63974.... |       10      |       8        |          89          |\n",
       "| [169878.0, 3438.0, 123389.... |       13      |       11       |         152          |\n",
       "| [88513.0, 192006.0, 176906... |       15      |       9        |         145          |\n",
       "+-------------------------------+---------------+----------------+----------------------+\n",
       "+-----------------------+-------------------------------+-----------------+\n",
       "| src_second_out_degree |       src_both_vertices       | src_both_degree |\n",
       "+-----------------------+-------------------------------+-----------------+\n",
       "|           81          |  [82650.0, 82651.0, 63974.0]  |        3        |\n",
       "|          126          |      [100856.0, 135094.0]     |        2        |\n",
       "|           93          | [88513.0, 144411.0, 144412.0] |        3        |\n",
       "+-----------------------+-------------------------------+-----------------+\n",
       "+-------------------------------+-------------------------------+---------------+\n",
       "|        dst_out_vertices       |        dst_in_vertices        | dst_in_degree |\n",
       "+-------------------------------+-------------------------------+---------------+\n",
       "| [90755.0, 247337.0, 74184.... | [64785.0, 13617.0, 90755.0... |       15      |\n",
       "| [82270.0, 194084.0, 171524... | [220730.0, 171524.0, 19408... |       9       |\n",
       "| [136063.0, 14711.0, 168601... | [205703.0, 79524.0, 42402.... |       7       |\n",
       "+-------------------------------+-------------------------------+---------------+\n",
       "+----------------+----------------------+-----------------------+\n",
       "| dst_out_degree | dst_second_in_degree | dst_second_out_degree |\n",
       "+----------------+----------------------+-----------------------+\n",
       "|       8        |         137          |           74          |\n",
       "|       10       |          84          |           97          |\n",
       "|       12       |          76          |          140          |\n",
       "+----------------+----------------------+-----------------------+\n",
       "+-------------------------------+-----------------+\n",
       "|       dst_both_vertices       | dst_both_degree |\n",
       "+-------------------------------+-----------------+\n",
       "| [74184.0, 74929.0, 90755.0... |        5        |\n",
       "| [171524.0, 194083.0, 19408... |        4        |\n",
       "|           [181169.0]          |        1        |\n",
       "+-------------------------------+-----------------+\n",
       "[3 rows x 19 columns]"
      ]
     },
     "execution_count": 11,
     "metadata": {},
     "output_type": "execute_result"
    }
   ],
   "source": [
    "edges = edges.join(all_vertices, on={\"src\": \"id\"}, how=\"right\")\n",
    "edges.rename({\"in_vertices\": \"src_in_vertices\", \"out_vertices\": \"src_out_vertices\",\n",
    "              \"in_degree\": \"src_in_degree\", \"out_degree\": \"src_out_degree\",\n",
    "              'second_in_degree': 'src_second_in_degree', \n",
    "              'second_out_degree': 'src_second_out_degree', \n",
    "              'both_vertices' : 'src_both_vertices',\n",
    "              'both_degree':'src_both_degree'})\n",
    "\n",
    "edges = edges.join(all_vertices, on={\"dst\": \"id\"}, how=\"right\")\n",
    "edges.rename({\"in_vertices\": \"dst_in_vertices\", \"out_vertices\": \"dst_out_vertices\",\n",
    "              \"in_degree\": \"dst_in_degree\",\n",
    "              \"out_degree\": \"dst_out_degree\",\n",
    "              'second_in_degree': 'dst_second_in_degree', \n",
    "              'second_out_degree': 'dst_second_out_degree', \n",
    "              'both_vertices' : 'dst_both_vertices',\n",
    "              'both_degree':'dst_both_degree'})\n",
    "\n",
    "edges.head(3)"
   ]
  },
  {
   "cell_type": "markdown",
   "metadata": {},
   "source": [
    "Найдем пункт 1 - общих друзей для списков вершин из пункта 1. Пункты 2 и 3 вы посчитаете самостоятельно"
   ]
  },
  {
   "cell_type": "code",
   "execution_count": 12,
   "metadata": {
    "collapsed": false
   },
   "outputs": [],
   "source": [
    "def common_friends(u, v, u_neighbors, v_neighbors):\n",
    "    \n",
    "    if v_neighbors is None:\n",
    "        v_neighbors = set()\n",
    "        \n",
    "    if u_neighbors is None:\n",
    "        u_neighbors = set()\n",
    "    \n",
    "    u_neighbors = set(u_neighbors)\n",
    "    if v in u_neighbors:\n",
    "            u_neighbors.remove(v)\n",
    "\n",
    "    v_neighbors = set(v_neighbors)\n",
    "    if u in v_neighbors:\n",
    "        v_neighbors.remove(u)\n",
    "        \n",
    "    return len(u_neighbors & v_neighbors)"
   ]
  },
  {
   "cell_type": "code",
   "execution_count": 13,
   "metadata": {
    "collapsed": true
   },
   "outputs": [],
   "source": [
    "def common_friends_list(u, v, u_neighbors, v_neighbors):\n",
    "    if v_neighbors is None:\n",
    "        v_neighbors = set()\n",
    "        \n",
    "    if u_neighbors is None:\n",
    "        u_neighbors = set()\n",
    "    \n",
    "    u_neighbors = set(u_neighbors)\n",
    "    if v in u_neighbors:\n",
    "            u_neighbors.remove(v)\n",
    "\n",
    "    v_neighbors = set(v_neighbors)\n",
    "    if u in v_neighbors:\n",
    "        v_neighbors.remove(u)\n",
    "        \n",
    "    return list(u_neighbors & v_neighbors)"
   ]
  },
  {
   "cell_type": "code",
   "execution_count": 14,
   "metadata": {
    "collapsed": false
   },
   "outputs": [],
   "source": [
    "edges['common_in_vertices'] = (edges[['src','dst', 'src_in_vertices', 'dst_in_vertices']]\n",
    "                               .apply(lambda x: common_friends(x['src'], x['dst'],\n",
    "                                                               x['src_in_vertices'], x['dst_in_vertices'])))"
   ]
  },
  {
   "cell_type": "code",
   "execution_count": 26,
   "metadata": {
    "collapsed": true
   },
   "outputs": [],
   "source": [
    "edges['common_in_vertices_list'] = (edges[['src','dst', 'src_in_vertices', 'dst_in_vertices']]\n",
    "                               .apply(lambda x: common_friends_list(x['src'], x['dst'],x['src_in_vertices'], x['dst_in_vertices'])))"
   ]
  },
  {
   "cell_type": "code",
   "execution_count": 15,
   "metadata": {
    "collapsed": false
   },
   "outputs": [],
   "source": [
    "edges['common_out_vertices'] = (edges[['src','dst', 'src_out_vertices', 'dst_out_vertices']]\n",
    "                               .apply(lambda x: common_friends(x['src'], x['dst'],x['src_out_vertices'],\n",
    "                                                               x['dst_out_vertices'])))"
   ]
  },
  {
   "cell_type": "code",
   "execution_count": 27,
   "metadata": {
    "collapsed": false
   },
   "outputs": [],
   "source": [
    "edges['common_out_vertices_list'] = (edges[['src','dst', 'src_out_vertices', 'dst_out_vertices']]\n",
    "                               .apply(lambda x: common_friends_list(x['src'], x['dst'],x['src_out_vertices'],\n",
    "                                                               x['dst_out_vertices'])))"
   ]
  },
  {
   "cell_type": "code",
   "execution_count": 16,
   "metadata": {
    "collapsed": false
   },
   "outputs": [],
   "source": [
    "def calc_jakar(u, v, u_neighbors, v_neighbors, common_neighbors):\n",
    "    u_neighbors = set(u_neighbors)\n",
    "    if v in u_neighbors:\n",
    "            u_neighbors.remove(v)\n",
    "\n",
    "    v_neighbors = set(v_neighbors)\n",
    "    if u in v_neighbors:\n",
    "        v_neighbors.remove(u)\n",
    "    neighb = u_neighbors.union(v_neighbors)\n",
    "    return common_neighbors * 1. / len(neighb)"
   ]
  },
  {
   "cell_type": "code",
   "execution_count": 17,
   "metadata": {
    "collapsed": false
   },
   "outputs": [],
   "source": [
    "edges['jakar_coef_in'] = (edges['src','dst', 'src_in_vertices', 'dst_in_vertices', 'common_in_vertices']\n",
    "                          .apply(lambda x: calc_jakar(x['src'], x['dst'],\n",
    "                                                      x['src_in_vertices'],\n",
    "                                                      x['dst_in_vertices'],\n",
    "                                                      x['common_in_vertices'])))"
   ]
  },
  {
   "cell_type": "code",
   "execution_count": 18,
   "metadata": {
    "collapsed": false
   },
   "outputs": [],
   "source": [
    "edges['jakar_coef_out'] = (edges['src','dst','src_out_vertices', 'dst_out_vertices', 'common_out_vertices']\n",
    "                          .apply(lambda x: calc_jakar(x['src'], x['dst'],\n",
    "                                                      x['src_out_vertices'],\n",
    "                                                      x['dst_out_vertices'],\n",
    "                                                      x['common_out_vertices'])))"
   ]
  },
  {
   "cell_type": "code",
   "execution_count": 19,
   "metadata": {
    "collapsed": false
   },
   "outputs": [
    {
     "data": {
      "text/html": [
       "<div style=\"max-height:1000px;max-width:1500px;overflow:auto;\"><table frame=\"box\" rules=\"cols\">\n",
       "    <tr>\n",
       "        <th style=\"padding-left: 1em; padding-right: 1em; text-align: center\">src</th>\n",
       "        <th style=\"padding-left: 1em; padding-right: 1em; text-align: center\">dst</th>\n",
       "        <th style=\"padding-left: 1em; padding-right: 1em; text-align: center\">class</th>\n",
       "        <th style=\"padding-left: 1em; padding-right: 1em; text-align: center\">src_out_vertices</th>\n",
       "        <th style=\"padding-left: 1em; padding-right: 1em; text-align: center\">src_in_vertices</th>\n",
       "        <th style=\"padding-left: 1em; padding-right: 1em; text-align: center\">src_in_degree</th>\n",
       "        <th style=\"padding-left: 1em; padding-right: 1em; text-align: center\">src_out_degree</th>\n",
       "        <th style=\"padding-left: 1em; padding-right: 1em; text-align: center\">src_second_in_degree</th>\n",
       "    </tr>\n",
       "    <tr>\n",
       "        <td style=\"padding-left: 1em; padding-right: 1em; text-align: center; vertical-align: top\">64786</td>\n",
       "        <td style=\"padding-left: 1em; padding-right: 1em; text-align: center; vertical-align: top\">82652</td>\n",
       "        <td style=\"padding-left: 1em; padding-right: 1em; text-align: center; vertical-align: top\">1</td>\n",
       "        <td style=\"padding-left: 1em; padding-right: 1em; text-align: center; vertical-align: top\">[151592.0, 74929.0,<br>82651.0, 245517.0, ...</td>\n",
       "        <td style=\"padding-left: 1em; padding-right: 1em; text-align: center; vertical-align: top\">[60524.0, 116699.0,<br>63974.0, 46641.0, ...</td>\n",
       "        <td style=\"padding-left: 1em; padding-right: 1em; text-align: center; vertical-align: top\">10</td>\n",
       "        <td style=\"padding-left: 1em; padding-right: 1em; text-align: center; vertical-align: top\">8</td>\n",
       "        <td style=\"padding-left: 1em; padding-right: 1em; text-align: center; vertical-align: top\">89</td>\n",
       "    </tr>\n",
       "    <tr>\n",
       "        <td style=\"padding-left: 1em; padding-right: 1em; text-align: center; vertical-align: top\">107963</td>\n",
       "        <td style=\"padding-left: 1em; padding-right: 1em; text-align: center; vertical-align: top\">177326</td>\n",
       "        <td style=\"padding-left: 1em; padding-right: 1em; text-align: center; vertical-align: top\">0</td>\n",
       "        <td style=\"padding-left: 1em; padding-right: 1em; text-align: center; vertical-align: top\">[135094.0, 78031.0,<br>83174.0, 100856.0, ...</td>\n",
       "        <td style=\"padding-left: 1em; padding-right: 1em; text-align: center; vertical-align: top\">[169878.0, 3438.0,<br>123389.0, 100856.0, ...</td>\n",
       "        <td style=\"padding-left: 1em; padding-right: 1em; text-align: center; vertical-align: top\">13</td>\n",
       "        <td style=\"padding-left: 1em; padding-right: 1em; text-align: center; vertical-align: top\">11</td>\n",
       "        <td style=\"padding-left: 1em; padding-right: 1em; text-align: center; vertical-align: top\">152</td>\n",
       "    </tr>\n",
       "    <tr>\n",
       "        <td style=\"padding-left: 1em; padding-right: 1em; text-align: center; vertical-align: top\">93925</td>\n",
       "        <td style=\"padding-left: 1em; padding-right: 1em; text-align: center; vertical-align: top\">215567</td>\n",
       "        <td style=\"padding-left: 1em; padding-right: 1em; text-align: center; vertical-align: top\">0</td>\n",
       "        <td style=\"padding-left: 1em; padding-right: 1em; text-align: center; vertical-align: top\">[88513.0, 144411.0,<br>60680.0, 93923.0, ...</td>\n",
       "        <td style=\"padding-left: 1em; padding-right: 1em; text-align: center; vertical-align: top\">[88513.0, 192006.0,<br>176906.0, 143942.0, ...</td>\n",
       "        <td style=\"padding-left: 1em; padding-right: 1em; text-align: center; vertical-align: top\">15</td>\n",
       "        <td style=\"padding-left: 1em; padding-right: 1em; text-align: center; vertical-align: top\">9</td>\n",
       "        <td style=\"padding-left: 1em; padding-right: 1em; text-align: center; vertical-align: top\">145</td>\n",
       "    </tr>\n",
       "    <tr>\n",
       "        <td style=\"padding-left: 1em; padding-right: 1em; text-align: center; vertical-align: top\">211622</td>\n",
       "        <td style=\"padding-left: 1em; padding-right: 1em; text-align: center; vertical-align: top\">63149</td>\n",
       "        <td style=\"padding-left: 1em; padding-right: 1em; text-align: center; vertical-align: top\">0</td>\n",
       "        <td style=\"padding-left: 1em; padding-right: 1em; text-align: center; vertical-align: top\">[203794.0, 143866.0,<br>206073.0, 208669.0, ...</td>\n",
       "        <td style=\"padding-left: 1em; padding-right: 1em; text-align: center; vertical-align: top\">[258215.0, 224861.0,<br>88860.0, 49643.0, ...</td>\n",
       "        <td style=\"padding-left: 1em; padding-right: 1em; text-align: center; vertical-align: top\">13</td>\n",
       "        <td style=\"padding-left: 1em; padding-right: 1em; text-align: center; vertical-align: top\">14</td>\n",
       "        <td style=\"padding-left: 1em; padding-right: 1em; text-align: center; vertical-align: top\">132</td>\n",
       "    </tr>\n",
       "    <tr>\n",
       "        <td style=\"padding-left: 1em; padding-right: 1em; text-align: center; vertical-align: top\">216123</td>\n",
       "        <td style=\"padding-left: 1em; padding-right: 1em; text-align: center; vertical-align: top\">172095</td>\n",
       "        <td style=\"padding-left: 1em; padding-right: 1em; text-align: center; vertical-align: top\">1</td>\n",
       "        <td style=\"padding-left: 1em; padding-right: 1em; text-align: center; vertical-align: top\">[73005.0, 202160.0,<br>157476.0, 251886.0, ...</td>\n",
       "        <td style=\"padding-left: 1em; padding-right: 1em; text-align: center; vertical-align: top\">[75203.0, 188813.0,<br>202161.0, 202160.0, ...</td>\n",
       "        <td style=\"padding-left: 1em; padding-right: 1em; text-align: center; vertical-align: top\">6</td>\n",
       "        <td style=\"padding-left: 1em; padding-right: 1em; text-align: center; vertical-align: top\">15</td>\n",
       "        <td style=\"padding-left: 1em; padding-right: 1em; text-align: center; vertical-align: top\">78</td>\n",
       "    </tr>\n",
       "    <tr>\n",
       "        <td style=\"padding-left: 1em; padding-right: 1em; text-align: center; vertical-align: top\">18457</td>\n",
       "        <td style=\"padding-left: 1em; padding-right: 1em; text-align: center; vertical-align: top\">18455</td>\n",
       "        <td style=\"padding-left: 1em; padding-right: 1em; text-align: center; vertical-align: top\">1</td>\n",
       "        <td style=\"padding-left: 1em; padding-right: 1em; text-align: center; vertical-align: top\">[210271.0, 18455.0,<br>155379.0, 34243.0, ...</td>\n",
       "        <td style=\"padding-left: 1em; padding-right: 1em; text-align: center; vertical-align: top\">[227867.0, 95461.0,<br>88601.0, 31187.0, ...</td>\n",
       "        <td style=\"padding-left: 1em; padding-right: 1em; text-align: center; vertical-align: top\">11</td>\n",
       "        <td style=\"padding-left: 1em; padding-right: 1em; text-align: center; vertical-align: top\">10</td>\n",
       "        <td style=\"padding-left: 1em; padding-right: 1em; text-align: center; vertical-align: top\">108</td>\n",
       "    </tr>\n",
       "</table>\n",
       "<table frame=\"box\" rules=\"cols\">\n",
       "    <tr>\n",
       "        <th style=\"padding-left: 1em; padding-right: 1em; text-align: center\">src_second_out_degree</th>\n",
       "        <th style=\"padding-left: 1em; padding-right: 1em; text-align: center\">src_both_vertices</th>\n",
       "        <th style=\"padding-left: 1em; padding-right: 1em; text-align: center\">src_both_degree</th>\n",
       "        <th style=\"padding-left: 1em; padding-right: 1em; text-align: center\">dst_out_vertices</th>\n",
       "    </tr>\n",
       "    <tr>\n",
       "        <td style=\"padding-left: 1em; padding-right: 1em; text-align: center; vertical-align: top\">81</td>\n",
       "        <td style=\"padding-left: 1em; padding-right: 1em; text-align: center; vertical-align: top\">[82650.0, 82651.0,<br>63974.0] ...</td>\n",
       "        <td style=\"padding-left: 1em; padding-right: 1em; text-align: center; vertical-align: top\">3</td>\n",
       "        <td style=\"padding-left: 1em; padding-right: 1em; text-align: center; vertical-align: top\">[90755.0, 247337.0,<br>74184.0, 74929.0, ...</td>\n",
       "    </tr>\n",
       "    <tr>\n",
       "        <td style=\"padding-left: 1em; padding-right: 1em; text-align: center; vertical-align: top\">126</td>\n",
       "        <td style=\"padding-left: 1em; padding-right: 1em; text-align: center; vertical-align: top\">[100856.0, 135094.0]</td>\n",
       "        <td style=\"padding-left: 1em; padding-right: 1em; text-align: center; vertical-align: top\">2</td>\n",
       "        <td style=\"padding-left: 1em; padding-right: 1em; text-align: center; vertical-align: top\">[82270.0, 194084.0,<br>171524.0, 171441.0, ...</td>\n",
       "    </tr>\n",
       "    <tr>\n",
       "        <td style=\"padding-left: 1em; padding-right: 1em; text-align: center; vertical-align: top\">93</td>\n",
       "        <td style=\"padding-left: 1em; padding-right: 1em; text-align: center; vertical-align: top\">[88513.0, 144411.0,<br>144412.0] ...</td>\n",
       "        <td style=\"padding-left: 1em; padding-right: 1em; text-align: center; vertical-align: top\">3</td>\n",
       "        <td style=\"padding-left: 1em; padding-right: 1em; text-align: center; vertical-align: top\">[136063.0, 14711.0,<br>168601.0, 73486.0, ...</td>\n",
       "    </tr>\n",
       "    <tr>\n",
       "        <td style=\"padding-left: 1em; padding-right: 1em; text-align: center; vertical-align: top\">129</td>\n",
       "        <td style=\"padding-left: 1em; padding-right: 1em; text-align: center; vertical-align: top\">[208673.0, 208669.0,<br>224861.0, 221249.0] ...</td>\n",
       "        <td style=\"padding-left: 1em; padding-right: 1em; text-align: center; vertical-align: top\">4</td>\n",
       "        <td style=\"padding-left: 1em; padding-right: 1em; text-align: center; vertical-align: top\">[63148.0, 47744.0,<br>237845.0, 80553.0, ...</td>\n",
       "    </tr>\n",
       "    <tr>\n",
       "        <td style=\"padding-left: 1em; padding-right: 1em; text-align: center; vertical-align: top\">146</td>\n",
       "        <td style=\"padding-left: 1em; padding-right: 1em; text-align: center; vertical-align: top\">[202160.0, 202161.0]</td>\n",
       "        <td style=\"padding-left: 1em; padding-right: 1em; text-align: center; vertical-align: top\">2</td>\n",
       "        <td style=\"padding-left: 1em; padding-right: 1em; text-align: center; vertical-align: top\">[9693.0, 172177.0,<br>182844.0, 79753.0, ...</td>\n",
       "    </tr>\n",
       "    <tr>\n",
       "        <td style=\"padding-left: 1em; padding-right: 1em; text-align: center; vertical-align: top\">104</td>\n",
       "        <td style=\"padding-left: 1em; padding-right: 1em; text-align: center; vertical-align: top\">[18456.0, 17457.0,<br>34242.0, 18455.0] ...</td>\n",
       "        <td style=\"padding-left: 1em; padding-right: 1em; text-align: center; vertical-align: top\">4</td>\n",
       "        <td style=\"padding-left: 1em; padding-right: 1em; text-align: center; vertical-align: top\">[3498.0, 17459.0,<br>91069.0, 25671.0, ...</td>\n",
       "    </tr>\n",
       "</table>\n",
       "<table frame=\"box\" rules=\"cols\">\n",
       "    <tr>\n",
       "        <th style=\"padding-left: 1em; padding-right: 1em; text-align: center\">dst_in_vertices</th>\n",
       "        <th style=\"padding-left: 1em; padding-right: 1em; text-align: center\">dst_in_degree</th>\n",
       "        <th style=\"padding-left: 1em; padding-right: 1em; text-align: center\">dst_out_degree</th>\n",
       "        <th style=\"padding-left: 1em; padding-right: 1em; text-align: center\">dst_second_in_degree</th>\n",
       "        <th style=\"padding-left: 1em; padding-right: 1em; text-align: center\">dst_second_out_degree</th>\n",
       "    </tr>\n",
       "    <tr>\n",
       "        <td style=\"padding-left: 1em; padding-right: 1em; text-align: center; vertical-align: top\">[64785.0, 13617.0,<br>90755.0, 65392.0, ...</td>\n",
       "        <td style=\"padding-left: 1em; padding-right: 1em; text-align: center; vertical-align: top\">15</td>\n",
       "        <td style=\"padding-left: 1em; padding-right: 1em; text-align: center; vertical-align: top\">8</td>\n",
       "        <td style=\"padding-left: 1em; padding-right: 1em; text-align: center; vertical-align: top\">137</td>\n",
       "        <td style=\"padding-left: 1em; padding-right: 1em; text-align: center; vertical-align: top\">74</td>\n",
       "    </tr>\n",
       "    <tr>\n",
       "        <td style=\"padding-left: 1em; padding-right: 1em; text-align: center; vertical-align: top\">[220730.0, 171524.0,<br>194084.0, 30859.0, ...</td>\n",
       "        <td style=\"padding-left: 1em; padding-right: 1em; text-align: center; vertical-align: top\">9</td>\n",
       "        <td style=\"padding-left: 1em; padding-right: 1em; text-align: center; vertical-align: top\">10</td>\n",
       "        <td style=\"padding-left: 1em; padding-right: 1em; text-align: center; vertical-align: top\">84</td>\n",
       "        <td style=\"padding-left: 1em; padding-right: 1em; text-align: center; vertical-align: top\">97</td>\n",
       "    </tr>\n",
       "    <tr>\n",
       "        <td style=\"padding-left: 1em; padding-right: 1em; text-align: center; vertical-align: top\">[205703.0, 79524.0,<br>42402.0, 232987.0, ...</td>\n",
       "        <td style=\"padding-left: 1em; padding-right: 1em; text-align: center; vertical-align: top\">7</td>\n",
       "        <td style=\"padding-left: 1em; padding-right: 1em; text-align: center; vertical-align: top\">12</td>\n",
       "        <td style=\"padding-left: 1em; padding-right: 1em; text-align: center; vertical-align: top\">76</td>\n",
       "        <td style=\"padding-left: 1em; padding-right: 1em; text-align: center; vertical-align: top\">140</td>\n",
       "    </tr>\n",
       "    <tr>\n",
       "        <td style=\"padding-left: 1em; padding-right: 1em; text-align: center; vertical-align: top\">[56991.0, 218660.0,<br>102322.0, 92514.0, ...</td>\n",
       "        <td style=\"padding-left: 1em; padding-right: 1em; text-align: center; vertical-align: top\">8</td>\n",
       "        <td style=\"padding-left: 1em; padding-right: 1em; text-align: center; vertical-align: top\">12</td>\n",
       "        <td style=\"padding-left: 1em; padding-right: 1em; text-align: center; vertical-align: top\">97</td>\n",
       "        <td style=\"padding-left: 1em; padding-right: 1em; text-align: center; vertical-align: top\">115</td>\n",
       "    </tr>\n",
       "    <tr>\n",
       "        <td style=\"padding-left: 1em; padding-right: 1em; text-align: center; vertical-align: top\">[172179.0, 170531.0,<br>150351.0, 172176.0, ...</td>\n",
       "        <td style=\"padding-left: 1em; padding-right: 1em; text-align: center; vertical-align: top\">10</td>\n",
       "        <td style=\"padding-left: 1em; padding-right: 1em; text-align: center; vertical-align: top\">8</td>\n",
       "        <td style=\"padding-left: 1em; padding-right: 1em; text-align: center; vertical-align: top\">73</td>\n",
       "        <td style=\"padding-left: 1em; padding-right: 1em; text-align: center; vertical-align: top\">67</td>\n",
       "    </tr>\n",
       "    <tr>\n",
       "        <td style=\"padding-left: 1em; padding-right: 1em; text-align: center; vertical-align: top\">[131202.0, 18457.0,<br>17457.0, 48870.0, ...</td>\n",
       "        <td style=\"padding-left: 1em; padding-right: 1em; text-align: center; vertical-align: top\">13</td>\n",
       "        <td style=\"padding-left: 1em; padding-right: 1em; text-align: center; vertical-align: top\">15</td>\n",
       "        <td style=\"padding-left: 1em; padding-right: 1em; text-align: center; vertical-align: top\">138</td>\n",
       "        <td style=\"padding-left: 1em; padding-right: 1em; text-align: center; vertical-align: top\">156</td>\n",
       "    </tr>\n",
       "</table>\n",
       "<table frame=\"box\" rules=\"cols\">\n",
       "    <tr>\n",
       "        <th style=\"padding-left: 1em; padding-right: 1em; text-align: center\">dst_both_vertices</th>\n",
       "        <th style=\"padding-left: 1em; padding-right: 1em; text-align: center\">dst_both_degree</th>\n",
       "        <th style=\"padding-left: 1em; padding-right: 1em; text-align: center\">common_in_vertices</th>\n",
       "        <th style=\"padding-left: 1em; padding-right: 1em; text-align: center\">common_out_vertices</th>\n",
       "        <th style=\"padding-left: 1em; padding-right: 1em; text-align: center\">jakar_coef_in</th>\n",
       "    </tr>\n",
       "    <tr>\n",
       "        <td style=\"padding-left: 1em; padding-right: 1em; text-align: center; vertical-align: top\">[74184.0, 74929.0,<br>90755.0, 64785.0, ...</td>\n",
       "        <td style=\"padding-left: 1em; padding-right: 1em; text-align: center; vertical-align: top\">5</td>\n",
       "        <td style=\"padding-left: 1em; padding-right: 1em; text-align: center; vertical-align: top\">1</td>\n",
       "        <td style=\"padding-left: 1em; padding-right: 1em; text-align: center; vertical-align: top\">1</td>\n",
       "        <td style=\"padding-left: 1em; padding-right: 1em; text-align: center; vertical-align: top\">0.0434782608696</td>\n",
       "    </tr>\n",
       "    <tr>\n",
       "        <td style=\"padding-left: 1em; padding-right: 1em; text-align: center; vertical-align: top\">[171524.0, 194083.0,<br>194084.0, 161849.0] ...</td>\n",
       "        <td style=\"padding-left: 1em; padding-right: 1em; text-align: center; vertical-align: top\">4</td>\n",
       "        <td style=\"padding-left: 1em; padding-right: 1em; text-align: center; vertical-align: top\">0</td>\n",
       "        <td style=\"padding-left: 1em; padding-right: 1em; text-align: center; vertical-align: top\">0</td>\n",
       "        <td style=\"padding-left: 1em; padding-right: 1em; text-align: center; vertical-align: top\">0.0</td>\n",
       "    </tr>\n",
       "    <tr>\n",
       "        <td style=\"padding-left: 1em; padding-right: 1em; text-align: center; vertical-align: top\">[181169.0]</td>\n",
       "        <td style=\"padding-left: 1em; padding-right: 1em; text-align: center; vertical-align: top\">1</td>\n",
       "        <td style=\"padding-left: 1em; padding-right: 1em; text-align: center; vertical-align: top\">0</td>\n",
       "        <td style=\"padding-left: 1em; padding-right: 1em; text-align: center; vertical-align: top\">0</td>\n",
       "        <td style=\"padding-left: 1em; padding-right: 1em; text-align: center; vertical-align: top\">0.0</td>\n",
       "    </tr>\n",
       "    <tr>\n",
       "        <td style=\"padding-left: 1em; padding-right: 1em; text-align: center; vertical-align: top\">[47744.0]</td>\n",
       "        <td style=\"padding-left: 1em; padding-right: 1em; text-align: center; vertical-align: top\">1</td>\n",
       "        <td style=\"padding-left: 1em; padding-right: 1em; text-align: center; vertical-align: top\">0</td>\n",
       "        <td style=\"padding-left: 1em; padding-right: 1em; text-align: center; vertical-align: top\">0</td>\n",
       "        <td style=\"padding-left: 1em; padding-right: 1em; text-align: center; vertical-align: top\">0.0</td>\n",
       "    </tr>\n",
       "    <tr>\n",
       "        <td style=\"padding-left: 1em; padding-right: 1em; text-align: center; vertical-align: top\">[172176.0, 172177.0,<br>172178.0, 172179.0] ...</td>\n",
       "        <td style=\"padding-left: 1em; padding-right: 1em; text-align: center; vertical-align: top\">4</td>\n",
       "        <td style=\"padding-left: 1em; padding-right: 1em; text-align: center; vertical-align: top\">0</td>\n",
       "        <td style=\"padding-left: 1em; padding-right: 1em; text-align: center; vertical-align: top\">0</td>\n",
       "        <td style=\"padding-left: 1em; padding-right: 1em; text-align: center; vertical-align: top\">0.0</td>\n",
       "    </tr>\n",
       "    <tr>\n",
       "        <td style=\"padding-left: 1em; padding-right: 1em; text-align: center; vertical-align: top\">[18456.0, 17457.0,<br>17459.0, 18457.0, ...</td>\n",
       "        <td style=\"padding-left: 1em; padding-right: 1em; text-align: center; vertical-align: top\">5</td>\n",
       "        <td style=\"padding-left: 1em; padding-right: 1em; text-align: center; vertical-align: top\">3</td>\n",
       "        <td style=\"padding-left: 1em; padding-right: 1em; text-align: center; vertical-align: top\">2</td>\n",
       "        <td style=\"padding-left: 1em; padding-right: 1em; text-align: center; vertical-align: top\">0.157894736842</td>\n",
       "    </tr>\n",
       "</table>\n",
       "<table frame=\"box\" rules=\"cols\">\n",
       "    <tr>\n",
       "        <th style=\"padding-left: 1em; padding-right: 1em; text-align: center\">jakar_coef_out</th>\n",
       "    </tr>\n",
       "    <tr>\n",
       "        <td style=\"padding-left: 1em; padding-right: 1em; text-align: center; vertical-align: top\">0.0714285714286</td>\n",
       "    </tr>\n",
       "    <tr>\n",
       "        <td style=\"padding-left: 1em; padding-right: 1em; text-align: center; vertical-align: top\">0.0</td>\n",
       "    </tr>\n",
       "    <tr>\n",
       "        <td style=\"padding-left: 1em; padding-right: 1em; text-align: center; vertical-align: top\">0.0</td>\n",
       "    </tr>\n",
       "    <tr>\n",
       "        <td style=\"padding-left: 1em; padding-right: 1em; text-align: center; vertical-align: top\">0.0</td>\n",
       "    </tr>\n",
       "    <tr>\n",
       "        <td style=\"padding-left: 1em; padding-right: 1em; text-align: center; vertical-align: top\">0.0</td>\n",
       "    </tr>\n",
       "    <tr>\n",
       "        <td style=\"padding-left: 1em; padding-right: 1em; text-align: center; vertical-align: top\">0.0952380952381</td>\n",
       "    </tr>\n",
       "</table>\n",
       "[6 rows x 23 columns]<br/>\n",
       "</div>"
      ],
      "text/plain": [
       "Columns:\n",
       "\tsrc\tint\n",
       "\tdst\tint\n",
       "\tclass\tint\n",
       "\tsrc_out_vertices\tarray\n",
       "\tsrc_in_vertices\tarray\n",
       "\tsrc_in_degree\tint\n",
       "\tsrc_out_degree\tint\n",
       "\tsrc_second_in_degree\tint\n",
       "\tsrc_second_out_degree\tint\n",
       "\tsrc_both_vertices\tarray\n",
       "\tsrc_both_degree\tint\n",
       "\tdst_out_vertices\tarray\n",
       "\tdst_in_vertices\tarray\n",
       "\tdst_in_degree\tint\n",
       "\tdst_out_degree\tint\n",
       "\tdst_second_in_degree\tint\n",
       "\tdst_second_out_degree\tint\n",
       "\tdst_both_vertices\tarray\n",
       "\tdst_both_degree\tint\n",
       "\tcommon_in_vertices\tint\n",
       "\tcommon_out_vertices\tint\n",
       "\tjakar_coef_in\tfloat\n",
       "\tjakar_coef_out\tfloat\n",
       "\n",
       "Rows: 6\n",
       "\n",
       "Data:\n",
       "+--------+--------+-------+-------------------------------+\n",
       "|  src   |  dst   | class |        src_out_vertices       |\n",
       "+--------+--------+-------+-------------------------------+\n",
       "| 64786  | 82652  |   1   | [151592.0, 74929.0, 82651.... |\n",
       "| 107963 | 177326 |   0   | [135094.0, 78031.0, 83174.... |\n",
       "| 93925  | 215567 |   0   | [88513.0, 144411.0, 60680.... |\n",
       "| 211622 | 63149  |   0   | [203794.0, 143866.0, 20607... |\n",
       "| 216123 | 172095 |   1   | [73005.0, 202160.0, 157476... |\n",
       "| 18457  | 18455  |   1   | [210271.0, 18455.0, 155379... |\n",
       "+--------+--------+-------+-------------------------------+\n",
       "+-------------------------------+---------------+----------------+----------------------+\n",
       "|        src_in_vertices        | src_in_degree | src_out_degree | src_second_in_degree |\n",
       "+-------------------------------+---------------+----------------+----------------------+\n",
       "| [60524.0, 116699.0, 63974.... |       10      |       8        |          89          |\n",
       "| [169878.0, 3438.0, 123389.... |       13      |       11       |         152          |\n",
       "| [88513.0, 192006.0, 176906... |       15      |       9        |         145          |\n",
       "| [258215.0, 224861.0, 88860... |       13      |       14       |         132          |\n",
       "| [75203.0, 188813.0, 202161... |       6       |       15       |          78          |\n",
       "| [227867.0, 95461.0, 88601.... |       11      |       10       |         108          |\n",
       "+-------------------------------+---------------+----------------+----------------------+\n",
       "+-----------------------+-------------------------------+-----------------+\n",
       "| src_second_out_degree |       src_both_vertices       | src_both_degree |\n",
       "+-----------------------+-------------------------------+-----------------+\n",
       "|           81          |  [82650.0, 82651.0, 63974.0]  |        3        |\n",
       "|          126          |      [100856.0, 135094.0]     |        2        |\n",
       "|           93          | [88513.0, 144411.0, 144412.0] |        3        |\n",
       "|          129          | [208673.0, 208669.0, 22486... |        4        |\n",
       "|          146          |      [202160.0, 202161.0]     |        2        |\n",
       "|          104          | [18456.0, 17457.0, 34242.0... |        4        |\n",
       "+-----------------------+-------------------------------+-----------------+\n",
       "+-------------------------------+-------------------------------+---------------+\n",
       "|        dst_out_vertices       |        dst_in_vertices        | dst_in_degree |\n",
       "+-------------------------------+-------------------------------+---------------+\n",
       "| [90755.0, 247337.0, 74184.... | [64785.0, 13617.0, 90755.0... |       15      |\n",
       "| [82270.0, 194084.0, 171524... | [220730.0, 171524.0, 19408... |       9       |\n",
       "| [136063.0, 14711.0, 168601... | [205703.0, 79524.0, 42402.... |       7       |\n",
       "| [63148.0, 47744.0, 237845.... | [56991.0, 218660.0, 102322... |       8       |\n",
       "| [9693.0, 172177.0, 182844.... | [172179.0, 170531.0, 15035... |       10      |\n",
       "| [3498.0, 17459.0, 91069.0,... | [131202.0, 18457.0, 17457.... |       13      |\n",
       "+-------------------------------+-------------------------------+---------------+\n",
       "+----------------+----------------------+-----------------------+\n",
       "| dst_out_degree | dst_second_in_degree | dst_second_out_degree |\n",
       "+----------------+----------------------+-----------------------+\n",
       "|       8        |         137          |           74          |\n",
       "|       10       |          84          |           97          |\n",
       "|       12       |          76          |          140          |\n",
       "|       12       |          97          |          115          |\n",
       "|       8        |          73          |           67          |\n",
       "|       15       |         138          |          156          |\n",
       "+----------------+----------------------+-----------------------+\n",
       "+-------------------------------+-----------------+--------------------+-----+\n",
       "|       dst_both_vertices       | dst_both_degree | common_in_vertices | ... |\n",
       "+-------------------------------+-----------------+--------------------+-----+\n",
       "| [74184.0, 74929.0, 90755.0... |        5        |         1          | ... |\n",
       "| [171524.0, 194083.0, 19408... |        4        |         0          | ... |\n",
       "|           [181169.0]          |        1        |         0          | ... |\n",
       "|           [47744.0]           |        1        |         0          | ... |\n",
       "| [172176.0, 172177.0, 17217... |        4        |         0          | ... |\n",
       "| [18456.0, 17457.0, 17459.0... |        5        |         3          | ... |\n",
       "+-------------------------------+-----------------+--------------------+-----+\n",
       "[6 rows x 23 columns]"
      ]
     },
     "execution_count": 19,
     "metadata": {},
     "output_type": "execute_result"
    }
   ],
   "source": [
    "edges.head(6)"
   ]
  },
  {
   "cell_type": "code",
   "execution_count": 20,
   "metadata": {
    "collapsed": true
   },
   "outputs": [],
   "source": [
    "def total_friends(u, v, u_neighbors, v_neighbors):\n",
    "    if u_neighbors is None:\n",
    "        u_neighbors = set()\n",
    "        \n",
    "    if v_neighbors is None:\n",
    "        v_neighbors = set()\n",
    "\n",
    "    u_neighbors = set(u_neighbors)\n",
    "    if v in u_neighbors:\n",
    "            u_neighbors.remove(v)\n",
    "\n",
    "    v_neighbors = set(v_neighbors)\n",
    "    if u in v_neighbors:\n",
    "        v_neighbors.remove(u)\n",
    "    neighb = u_neighbors.union(v_neighbors)\n",
    "    return len(neighb)"
   ]
  },
  {
   "cell_type": "code",
   "execution_count": 21,
   "metadata": {
    "collapsed": true
   },
   "outputs": [],
   "source": [
    "edges['total_in_vertices'] = (edges[['src','dst', 'src_in_vertices', 'dst_in_vertices']]\n",
    "                               .apply(lambda x: total_friends(x['src'], x['dst'], \n",
    "                                                              x['src_in_vertices'], x['dst_in_vertices'])))"
   ]
  },
  {
   "cell_type": "code",
   "execution_count": 22,
   "metadata": {
    "collapsed": true
   },
   "outputs": [],
   "source": [
    "edges['total_out_vertices'] = (edges[['src','dst', 'src_out_vertices', 'dst_out_vertices']]\n",
    "                               .apply(lambda x: total_friends(x['src'], x['dst'],x['src_out_vertices'],\n",
    "                                                               x['dst_out_vertices'])))"
   ]
  },
  {
   "cell_type": "code",
   "execution_count": 23,
   "metadata": {
    "collapsed": false
   },
   "outputs": [
    {
     "data": {
      "text/html": [
       "<div style=\"max-height:1000px;max-width:1500px;overflow:auto;\"><table frame=\"box\" rules=\"cols\">\n",
       "    <tr>\n",
       "        <th style=\"padding-left: 1em; padding-right: 1em; text-align: center\">class</th>\n",
       "        <th style=\"padding-left: 1em; padding-right: 1em; text-align: center\">common_in_vertices</th>\n",
       "        <th style=\"padding-left: 1em; padding-right: 1em; text-align: center\">total_in_vertices</th>\n",
       "        <th style=\"padding-left: 1em; padding-right: 1em; text-align: center\">jakar_coef_in</th>\n",
       "    </tr>\n",
       "    <tr>\n",
       "        <td style=\"padding-left: 1em; padding-right: 1em; text-align: center; vertical-align: top\">0</td>\n",
       "        <td style=\"padding-left: 1em; padding-right: 1em; text-align: center; vertical-align: top\">0</td>\n",
       "        <td style=\"padding-left: 1em; padding-right: 1em; text-align: center; vertical-align: top\">34</td>\n",
       "        <td style=\"padding-left: 1em; padding-right: 1em; text-align: center; vertical-align: top\">0.0</td>\n",
       "    </tr>\n",
       "    <tr>\n",
       "        <td style=\"padding-left: 1em; padding-right: 1em; text-align: center; vertical-align: top\">1</td>\n",
       "        <td style=\"padding-left: 1em; padding-right: 1em; text-align: center; vertical-align: top\">0</td>\n",
       "        <td style=\"padding-left: 1em; padding-right: 1em; text-align: center; vertical-align: top\">20</td>\n",
       "        <td style=\"padding-left: 1em; padding-right: 1em; text-align: center; vertical-align: top\">0.0</td>\n",
       "    </tr>\n",
       "</table>\n",
       "[2 rows x 4 columns]<br/>\n",
       "</div>"
      ],
      "text/plain": [
       "Columns:\n",
       "\tclass\tint\n",
       "\tcommon_in_vertices\tint\n",
       "\ttotal_in_vertices\tint\n",
       "\tjakar_coef_in\tfloat\n",
       "\n",
       "Rows: 2\n",
       "\n",
       "Data:\n",
       "+-------+--------------------+-------------------+---------------+\n",
       "| class | common_in_vertices | total_in_vertices | jakar_coef_in |\n",
       "+-------+--------------------+-------------------+---------------+\n",
       "|   0   |         0          |         34        |      0.0      |\n",
       "|   1   |         0          |         20        |      0.0      |\n",
       "+-------+--------------------+-------------------+---------------+\n",
       "[2 rows x 4 columns]"
      ]
     },
     "execution_count": 23,
     "metadata": {},
     "output_type": "execute_result"
    }
   ],
   "source": [
    "edges[['class', 'common_in_vertices', 'total_in_vertices','jakar_coef_in']].tail(2)"
   ]
  },
  {
   "cell_type": "code",
   "execution_count": 28,
   "metadata": {
    "collapsed": false
   },
   "outputs": [],
   "source": [
    "def calc_adamik(u, v, neib, direction='in_degree'):\n",
    "    #print neib\n",
    "    sec_neighb = np.array(all_vert.ix[neib][direction])\n",
    "    #print u, v, sec_neighb\n",
    "    #print sec_neighb\n",
    "    adamik = -np.log(sec_neighb).sum()\n",
    "    del sec_neighb\n",
    "    return adamik"
   ]
  },
  {
   "cell_type": "code",
   "execution_count": 29,
   "metadata": {
    "collapsed": false,
    "scrolled": true
   },
   "outputs": [],
   "source": [
    "edges['adamik_in'] = (edges[['src','dst', 'common_in_vertices_list']]\n",
    "                      .apply(lambda x: calc_adamik(x['src'], x['dst'],\n",
    "                                                   x['common_in_vertices_list'], direction='in_degree')))"
   ]
  },
  {
   "cell_type": "code",
   "execution_count": 23,
   "metadata": {
    "collapsed": true
   },
   "outputs": [],
   "source": [
    "edges['adamik_out'] = (edges[['src','dst', 'common_out_vertices_list']]\n",
    "                      .apply(lambda x: calc_adamik(x['src'], x['dst'],\n",
    "                                                   x['common_out_vertices_list'], direction='out_degree')))"
   ]
  },
  {
   "cell_type": "code",
   "execution_count": 31,
   "metadata": {
    "collapsed": false
   },
   "outputs": [
    {
     "data": {
      "text/html": [
       "<div style=\"max-height:1000px;max-width:1500px;overflow:auto;\"><table frame=\"box\" rules=\"cols\">\n",
       "    <tr>\n",
       "        <th style=\"padding-left: 1em; padding-right: 1em; text-align: center\">src</th>\n",
       "        <th style=\"padding-left: 1em; padding-right: 1em; text-align: center\">dst</th>\n",
       "        <th style=\"padding-left: 1em; padding-right: 1em; text-align: center\">class</th>\n",
       "        <th style=\"padding-left: 1em; padding-right: 1em; text-align: center\">src_out_vertices</th>\n",
       "        <th style=\"padding-left: 1em; padding-right: 1em; text-align: center\">src_in_vertices</th>\n",
       "        <th style=\"padding-left: 1em; padding-right: 1em; text-align: center\">src_in_degree</th>\n",
       "        <th style=\"padding-left: 1em; padding-right: 1em; text-align: center\">src_out_degree</th>\n",
       "        <th style=\"padding-left: 1em; padding-right: 1em; text-align: center\">src_second_in_degree</th>\n",
       "    </tr>\n",
       "    <tr>\n",
       "        <td style=\"padding-left: 1em; padding-right: 1em; text-align: center; vertical-align: top\">64786</td>\n",
       "        <td style=\"padding-left: 1em; padding-right: 1em; text-align: center; vertical-align: top\">82652</td>\n",
       "        <td style=\"padding-left: 1em; padding-right: 1em; text-align: center; vertical-align: top\">1</td>\n",
       "        <td style=\"padding-left: 1em; padding-right: 1em; text-align: center; vertical-align: top\">[151592.0, 74929.0,<br>82651.0, 245517.0, ...</td>\n",
       "        <td style=\"padding-left: 1em; padding-right: 1em; text-align: center; vertical-align: top\">[60524.0, 116699.0,<br>63974.0, 46641.0, ...</td>\n",
       "        <td style=\"padding-left: 1em; padding-right: 1em; text-align: center; vertical-align: top\">10</td>\n",
       "        <td style=\"padding-left: 1em; padding-right: 1em; text-align: center; vertical-align: top\">8</td>\n",
       "        <td style=\"padding-left: 1em; padding-right: 1em; text-align: center; vertical-align: top\">89</td>\n",
       "    </tr>\n",
       "    <tr>\n",
       "        <td style=\"padding-left: 1em; padding-right: 1em; text-align: center; vertical-align: top\">107963</td>\n",
       "        <td style=\"padding-left: 1em; padding-right: 1em; text-align: center; vertical-align: top\">177326</td>\n",
       "        <td style=\"padding-left: 1em; padding-right: 1em; text-align: center; vertical-align: top\">0</td>\n",
       "        <td style=\"padding-left: 1em; padding-right: 1em; text-align: center; vertical-align: top\">[135094.0, 78031.0,<br>83174.0, 100856.0, ...</td>\n",
       "        <td style=\"padding-left: 1em; padding-right: 1em; text-align: center; vertical-align: top\">[169878.0, 3438.0,<br>123389.0, 100856.0, ...</td>\n",
       "        <td style=\"padding-left: 1em; padding-right: 1em; text-align: center; vertical-align: top\">13</td>\n",
       "        <td style=\"padding-left: 1em; padding-right: 1em; text-align: center; vertical-align: top\">11</td>\n",
       "        <td style=\"padding-left: 1em; padding-right: 1em; text-align: center; vertical-align: top\">152</td>\n",
       "    </tr>\n",
       "</table>\n",
       "<table frame=\"box\" rules=\"cols\">\n",
       "    <tr>\n",
       "        <th style=\"padding-left: 1em; padding-right: 1em; text-align: center\">src_second_out_degree</th>\n",
       "        <th style=\"padding-left: 1em; padding-right: 1em; text-align: center\">src_both_vertices</th>\n",
       "        <th style=\"padding-left: 1em; padding-right: 1em; text-align: center\">src_both_degree</th>\n",
       "        <th style=\"padding-left: 1em; padding-right: 1em; text-align: center\">dst_out_vertices</th>\n",
       "        <th style=\"padding-left: 1em; padding-right: 1em; text-align: center\">dst_in_vertices</th>\n",
       "        <th style=\"padding-left: 1em; padding-right: 1em; text-align: center\">dst_in_degree</th>\n",
       "    </tr>\n",
       "    <tr>\n",
       "        <td style=\"padding-left: 1em; padding-right: 1em; text-align: center; vertical-align: top\">81</td>\n",
       "        <td style=\"padding-left: 1em; padding-right: 1em; text-align: center; vertical-align: top\">[82650.0, 82651.0,<br>63974.0] ...</td>\n",
       "        <td style=\"padding-left: 1em; padding-right: 1em; text-align: center; vertical-align: top\">3</td>\n",
       "        <td style=\"padding-left: 1em; padding-right: 1em; text-align: center; vertical-align: top\">[90755.0, 247337.0,<br>74184.0, 74929.0, ...</td>\n",
       "        <td style=\"padding-left: 1em; padding-right: 1em; text-align: center; vertical-align: top\">[64785.0, 13617.0,<br>90755.0, 65392.0, ...</td>\n",
       "        <td style=\"padding-left: 1em; padding-right: 1em; text-align: center; vertical-align: top\">15</td>\n",
       "    </tr>\n",
       "    <tr>\n",
       "        <td style=\"padding-left: 1em; padding-right: 1em; text-align: center; vertical-align: top\">126</td>\n",
       "        <td style=\"padding-left: 1em; padding-right: 1em; text-align: center; vertical-align: top\">[100856.0, 135094.0]</td>\n",
       "        <td style=\"padding-left: 1em; padding-right: 1em; text-align: center; vertical-align: top\">2</td>\n",
       "        <td style=\"padding-left: 1em; padding-right: 1em; text-align: center; vertical-align: top\">[82270.0, 194084.0,<br>171524.0, 171441.0, ...</td>\n",
       "        <td style=\"padding-left: 1em; padding-right: 1em; text-align: center; vertical-align: top\">[220730.0, 171524.0,<br>194084.0, 30859.0, ...</td>\n",
       "        <td style=\"padding-left: 1em; padding-right: 1em; text-align: center; vertical-align: top\">9</td>\n",
       "    </tr>\n",
       "</table>\n",
       "<table frame=\"box\" rules=\"cols\">\n",
       "    <tr>\n",
       "        <th style=\"padding-left: 1em; padding-right: 1em; text-align: center\">dst_out_degree</th>\n",
       "        <th style=\"padding-left: 1em; padding-right: 1em; text-align: center\">dst_second_in_degree</th>\n",
       "        <th style=\"padding-left: 1em; padding-right: 1em; text-align: center\">dst_second_out_degree</th>\n",
       "        <th style=\"padding-left: 1em; padding-right: 1em; text-align: center\">dst_both_vertices</th>\n",
       "        <th style=\"padding-left: 1em; padding-right: 1em; text-align: center\">dst_both_degree</th>\n",
       "        <th style=\"padding-left: 1em; padding-right: 1em; text-align: center\">common_in_vertices</th>\n",
       "    </tr>\n",
       "    <tr>\n",
       "        <td style=\"padding-left: 1em; padding-right: 1em; text-align: center; vertical-align: top\">8</td>\n",
       "        <td style=\"padding-left: 1em; padding-right: 1em; text-align: center; vertical-align: top\">137</td>\n",
       "        <td style=\"padding-left: 1em; padding-right: 1em; text-align: center; vertical-align: top\">74</td>\n",
       "        <td style=\"padding-left: 1em; padding-right: 1em; text-align: center; vertical-align: top\">[74184.0, 74929.0,<br>90755.0, 64785.0, ...</td>\n",
       "        <td style=\"padding-left: 1em; padding-right: 1em; text-align: center; vertical-align: top\">5</td>\n",
       "        <td style=\"padding-left: 1em; padding-right: 1em; text-align: center; vertical-align: top\">1</td>\n",
       "    </tr>\n",
       "    <tr>\n",
       "        <td style=\"padding-left: 1em; padding-right: 1em; text-align: center; vertical-align: top\">10</td>\n",
       "        <td style=\"padding-left: 1em; padding-right: 1em; text-align: center; vertical-align: top\">84</td>\n",
       "        <td style=\"padding-left: 1em; padding-right: 1em; text-align: center; vertical-align: top\">97</td>\n",
       "        <td style=\"padding-left: 1em; padding-right: 1em; text-align: center; vertical-align: top\">[171524.0, 194083.0,<br>194084.0, 161849.0] ...</td>\n",
       "        <td style=\"padding-left: 1em; padding-right: 1em; text-align: center; vertical-align: top\">4</td>\n",
       "        <td style=\"padding-left: 1em; padding-right: 1em; text-align: center; vertical-align: top\">0</td>\n",
       "    </tr>\n",
       "</table>\n",
       "<table frame=\"box\" rules=\"cols\">\n",
       "    <tr>\n",
       "        <th style=\"padding-left: 1em; padding-right: 1em; text-align: center\">common_out_vertices</th>\n",
       "        <th style=\"padding-left: 1em; padding-right: 1em; text-align: center\">jakar_coef_in</th>\n",
       "        <th style=\"padding-left: 1em; padding-right: 1em; text-align: center\">jakar_coef_out</th>\n",
       "        <th style=\"padding-left: 1em; padding-right: 1em; text-align: center\">total_in_vertices</th>\n",
       "        <th style=\"padding-left: 1em; padding-right: 1em; text-align: center\">total_out_vertices</th>\n",
       "        <th style=\"padding-left: 1em; padding-right: 1em; text-align: center\">common_in_vertices_list</th>\n",
       "    </tr>\n",
       "    <tr>\n",
       "        <td style=\"padding-left: 1em; padding-right: 1em; text-align: center; vertical-align: top\">1</td>\n",
       "        <td style=\"padding-left: 1em; padding-right: 1em; text-align: center; vertical-align: top\">0.0434782608696</td>\n",
       "        <td style=\"padding-left: 1em; padding-right: 1em; text-align: center; vertical-align: top\">0.0714285714286</td>\n",
       "        <td style=\"padding-left: 1em; padding-right: 1em; text-align: center; vertical-align: top\">23</td>\n",
       "        <td style=\"padding-left: 1em; padding-right: 1em; text-align: center; vertical-align: top\">14</td>\n",
       "        <td style=\"padding-left: 1em; padding-right: 1em; text-align: center; vertical-align: top\">[90755.0]</td>\n",
       "    </tr>\n",
       "    <tr>\n",
       "        <td style=\"padding-left: 1em; padding-right: 1em; text-align: center; vertical-align: top\">0</td>\n",
       "        <td style=\"padding-left: 1em; padding-right: 1em; text-align: center; vertical-align: top\">0.0</td>\n",
       "        <td style=\"padding-left: 1em; padding-right: 1em; text-align: center; vertical-align: top\">0.0</td>\n",
       "        <td style=\"padding-left: 1em; padding-right: 1em; text-align: center; vertical-align: top\">22</td>\n",
       "        <td style=\"padding-left: 1em; padding-right: 1em; text-align: center; vertical-align: top\">21</td>\n",
       "        <td style=\"padding-left: 1em; padding-right: 1em; text-align: center; vertical-align: top\">[]</td>\n",
       "    </tr>\n",
       "</table>\n",
       "<table frame=\"box\" rules=\"cols\">\n",
       "    <tr>\n",
       "        <th style=\"padding-left: 1em; padding-right: 1em; text-align: center\">common_out_vertices_list</th>\n",
       "        <th style=\"padding-left: 1em; padding-right: 1em; text-align: center\">adamik_in</th>\n",
       "        <th style=\"padding-left: 1em; padding-right: 1em; text-align: center\">adamik_out</th>\n",
       "    </tr>\n",
       "    <tr>\n",
       "        <td style=\"padding-left: 1em; padding-right: 1em; text-align: center; vertical-align: top\">[74929.0]</td>\n",
       "        <td style=\"padding-left: 1em; padding-right: 1em; text-align: center; vertical-align: top\">-1.79175946923</td>\n",
       "        <td style=\"padding-left: 1em; padding-right: 1em; text-align: center; vertical-align: top\">-2.30258509299</td>\n",
       "    </tr>\n",
       "    <tr>\n",
       "        <td style=\"padding-left: 1em; padding-right: 1em; text-align: center; vertical-align: top\">[]</td>\n",
       "        <td style=\"padding-left: 1em; padding-right: 1em; text-align: center; vertical-align: top\">-0.0</td>\n",
       "        <td style=\"padding-left: 1em; padding-right: 1em; text-align: center; vertical-align: top\">-0.0</td>\n",
       "    </tr>\n",
       "</table>\n",
       "[2 rows x 29 columns]<br/>\n",
       "</div>"
      ],
      "text/plain": [
       "Columns:\n",
       "\tsrc\tint\n",
       "\tdst\tint\n",
       "\tclass\tint\n",
       "\tsrc_out_vertices\tarray\n",
       "\tsrc_in_vertices\tarray\n",
       "\tsrc_in_degree\tint\n",
       "\tsrc_out_degree\tint\n",
       "\tsrc_second_in_degree\tint\n",
       "\tsrc_second_out_degree\tint\n",
       "\tsrc_both_vertices\tarray\n",
       "\tsrc_both_degree\tint\n",
       "\tdst_out_vertices\tarray\n",
       "\tdst_in_vertices\tarray\n",
       "\tdst_in_degree\tint\n",
       "\tdst_out_degree\tint\n",
       "\tdst_second_in_degree\tint\n",
       "\tdst_second_out_degree\tint\n",
       "\tdst_both_vertices\tarray\n",
       "\tdst_both_degree\tint\n",
       "\tcommon_in_vertices\tint\n",
       "\tcommon_out_vertices\tint\n",
       "\tjakar_coef_in\tfloat\n",
       "\tjakar_coef_out\tfloat\n",
       "\ttotal_in_vertices\tint\n",
       "\ttotal_out_vertices\tint\n",
       "\tcommon_in_vertices_list\tarray\n",
       "\tcommon_out_vertices_list\tarray\n",
       "\tadamik_in\tfloat\n",
       "\tadamik_out\tfloat\n",
       "\n",
       "Rows: 2\n",
       "\n",
       "Data:\n",
       "+--------+--------+-------+-------------------------------+\n",
       "|  src   |  dst   | class |        src_out_vertices       |\n",
       "+--------+--------+-------+-------------------------------+\n",
       "| 64786  | 82652  |   1   | [151592.0, 74929.0, 82651.... |\n",
       "| 107963 | 177326 |   0   | [135094.0, 78031.0, 83174.... |\n",
       "+--------+--------+-------+-------------------------------+\n",
       "+-------------------------------+---------------+----------------+----------------------+\n",
       "|        src_in_vertices        | src_in_degree | src_out_degree | src_second_in_degree |\n",
       "+-------------------------------+---------------+----------------+----------------------+\n",
       "| [60524.0, 116699.0, 63974.... |       10      |       8        |          89          |\n",
       "| [169878.0, 3438.0, 123389.... |       13      |       11       |         152          |\n",
       "+-------------------------------+---------------+----------------+----------------------+\n",
       "+-----------------------+-----------------------------+-----------------+\n",
       "| src_second_out_degree |      src_both_vertices      | src_both_degree |\n",
       "+-----------------------+-----------------------------+-----------------+\n",
       "|           81          | [82650.0, 82651.0, 63974.0] |        3        |\n",
       "|          126          |     [100856.0, 135094.0]    |        2        |\n",
       "+-----------------------+-----------------------------+-----------------+\n",
       "+-------------------------------+-------------------------------+---------------+\n",
       "|        dst_out_vertices       |        dst_in_vertices        | dst_in_degree |\n",
       "+-------------------------------+-------------------------------+---------------+\n",
       "| [90755.0, 247337.0, 74184.... | [64785.0, 13617.0, 90755.0... |       15      |\n",
       "| [82270.0, 194084.0, 171524... | [220730.0, 171524.0, 19408... |       9       |\n",
       "+-------------------------------+-------------------------------+---------------+\n",
       "+----------------+----------------------+-----------------------+\n",
       "| dst_out_degree | dst_second_in_degree | dst_second_out_degree |\n",
       "+----------------+----------------------+-----------------------+\n",
       "|       8        |         137          |           74          |\n",
       "|       10       |          84          |           97          |\n",
       "+----------------+----------------------+-----------------------+\n",
       "+-------------------------------+-----------------+--------------------+-----+\n",
       "|       dst_both_vertices       | dst_both_degree | common_in_vertices | ... |\n",
       "+-------------------------------+-----------------+--------------------+-----+\n",
       "| [74184.0, 74929.0, 90755.0... |        5        |         1          | ... |\n",
       "| [171524.0, 194083.0, 19408... |        4        |         0          | ... |\n",
       "+-------------------------------+-----------------+--------------------+-----+\n",
       "[2 rows x 29 columns]"
      ]
     },
     "execution_count": 31,
     "metadata": {},
     "output_type": "execute_result"
    }
   ],
   "source": [
    "edges.head(2)"
   ]
  },
  {
   "cell_type": "code",
   "execution_count": null,
   "metadata": {
    "collapsed": false
   },
   "outputs": [],
   "source": [
    "edges.save('edges')"
   ]
  },
  {
   "cell_type": "markdown",
   "metadata": {},
   "source": [
    "Результатом пункта 3 является матрица признаков. Теперь мы готовы занятся настройкой моделей. Главная ваша задача в пункте 3 - подготовить как можно больше качественных признаков, которые могли бы использоваться для настройки модели машинного обучения."
   ]
  },
  {
   "cell_type": "markdown",
   "metadata": {},
   "source": [
    "----\n",
    "### 4. Настройка модели и валидация качества модели - 20 Баллов\n",
    "\n",
    "Исключим подозрительные ребра из рассмотрения, а затем разобьем датасет на 2 части, для обучения и проверки результатов. Настроим базовую модель классификации - логистическую регрессию.\n",
    "Для улучшения качества модели вам предстоит выполнить следующие пункты:\n",
    "\n",
    "1. Кросс - валидация для настройки гиперпараметров модели и регуляризации\n",
    "2. Подбор модели машинного обучения (случайный лес, бустинг, нейронная сеть и т.д.)"
   ]
  },
  {
   "cell_type": "code",
   "execution_count": 32,
   "metadata": {
    "collapsed": false
   },
   "outputs": [
    {
     "data": {
      "text/plain": [
       "2769706"
      ]
     },
     "execution_count": 32,
     "metadata": {},
     "output_type": "execute_result"
    }
   ],
   "source": [
    "len(edges)"
   ]
  },
  {
   "cell_type": "code",
   "execution_count": 33,
   "metadata": {
    "collapsed": false
   },
   "outputs": [
    {
     "name": "stdout",
     "output_type": "stream",
     "text": [
      "(299994, 3)\n"
     ]
    }
   ],
   "source": [
    "susp = gl.SFrame.read_csv('suspicions.csv', delimiter=',', verbose=False)\n",
    "print susp.shape"
   ]
  },
  {
   "cell_type": "code",
   "execution_count": 52,
   "metadata": {
    "collapsed": false
   },
   "outputs": [],
   "source": [
    "edges = edges.fillna('src_in_vertices', array([]))\n",
    "edges = edges.fillna('src_out_vertices', array([]))\n",
    "edges = edges.fillna('dst_in_vertices', array([]))\n",
    "edges = edges.fillna('dst_out_vertices', array([]))"
   ]
  },
  {
   "cell_type": "code",
   "execution_count": null,
   "metadata": {
    "collapsed": false
   },
   "outputs": [
    {
     "name": "stdout",
     "output_type": "stream",
     "text": [
      "(2769706, 29)\n"
     ]
    }
   ],
   "source": [
    "print edges.shape\n",
    "edges = edges.join(susp, on=['src', 'dst'], how='left')\n",
    "print edges.shape"
   ]
  },
  {
   "cell_type": "code",
   "execution_count": 22,
   "metadata": {
    "collapsed": false
   },
   "outputs": [
    {
     "data": {
      "text/html": [
       "<div style=\"max-height:1000px;max-width:1500px;overflow:auto;\"><table frame=\"box\" rules=\"cols\">\n",
       "    <tr>\n",
       "        <th style=\"padding-left: 1em; padding-right: 1em; text-align: center\">src</th>\n",
       "        <th style=\"padding-left: 1em; padding-right: 1em; text-align: center\">dst</th>\n",
       "        <th style=\"padding-left: 1em; padding-right: 1em; text-align: center\">class</th>\n",
       "        <th style=\"padding-left: 1em; padding-right: 1em; text-align: center\">src_out_vertices</th>\n",
       "        <th style=\"padding-left: 1em; padding-right: 1em; text-align: center\">src_in_vertices</th>\n",
       "        <th style=\"padding-left: 1em; padding-right: 1em; text-align: center\">src_in_degree</th>\n",
       "        <th style=\"padding-left: 1em; padding-right: 1em; text-align: center\">src_out_degree</th>\n",
       "        <th style=\"padding-left: 1em; padding-right: 1em; text-align: center\">src_second_in_degree</th>\n",
       "    </tr>\n",
       "    <tr>\n",
       "        <td style=\"padding-left: 1em; padding-right: 1em; text-align: center; vertical-align: top\">162239</td>\n",
       "        <td style=\"padding-left: 1em; padding-right: 1em; text-align: center; vertical-align: top\">253224</td>\n",
       "        <td style=\"padding-left: 1em; padding-right: 1em; text-align: center; vertical-align: top\">0</td>\n",
       "        <td style=\"padding-left: 1em; padding-right: 1em; text-align: center; vertical-align: top\">[192401.0, 114647.0,<br>139953.0, 119200.0, ...</td>\n",
       "        <td style=\"padding-left: 1em; padding-right: 1em; text-align: center; vertical-align: top\">[66355.0, 78254.0,<br>170630.0, 114602.0, ...</td>\n",
       "        <td style=\"padding-left: 1em; padding-right: 1em; text-align: center; vertical-align: top\">7</td>\n",
       "        <td style=\"padding-left: 1em; padding-right: 1em; text-align: center; vertical-align: top\">12</td>\n",
       "        <td style=\"padding-left: 1em; padding-right: 1em; text-align: center; vertical-align: top\">98</td>\n",
       "    </tr>\n",
       "    <tr>\n",
       "        <td style=\"padding-left: 1em; padding-right: 1em; text-align: center; vertical-align: top\">177127</td>\n",
       "        <td style=\"padding-left: 1em; padding-right: 1em; text-align: center; vertical-align: top\">244103</td>\n",
       "        <td style=\"padding-left: 1em; padding-right: 1em; text-align: center; vertical-align: top\">0</td>\n",
       "        <td style=\"padding-left: 1em; padding-right: 1em; text-align: center; vertical-align: top\">[161263.0, 185216.0,<br>33651.0, 244717.0, ...</td>\n",
       "        <td style=\"padding-left: 1em; padding-right: 1em; text-align: center; vertical-align: top\">[84368.0, 14732.0,<br>218974.0, 161264.0, ...</td>\n",
       "        <td style=\"padding-left: 1em; padding-right: 1em; text-align: center; vertical-align: top\">7</td>\n",
       "        <td style=\"padding-left: 1em; padding-right: 1em; text-align: center; vertical-align: top\">6</td>\n",
       "        <td style=\"padding-left: 1em; padding-right: 1em; text-align: center; vertical-align: top\">83</td>\n",
       "    </tr>\n",
       "</table>\n",
       "<table frame=\"box\" rules=\"cols\">\n",
       "    <tr>\n",
       "        <th style=\"padding-left: 1em; padding-right: 1em; text-align: center\">src_second_out_degree</th>\n",
       "        <th style=\"padding-left: 1em; padding-right: 1em; text-align: center\">src_both_vertices</th>\n",
       "        <th style=\"padding-left: 1em; padding-right: 1em; text-align: center\">src_both_degree</th>\n",
       "        <th style=\"padding-left: 1em; padding-right: 1em; text-align: center\">dst_out_vertices</th>\n",
       "        <th style=\"padding-left: 1em; padding-right: 1em; text-align: center\">dst_in_vertices</th>\n",
       "        <th style=\"padding-left: 1em; padding-right: 1em; text-align: center\">dst_in_degree</th>\n",
       "    </tr>\n",
       "    <tr>\n",
       "        <td style=\"padding-left: 1em; padding-right: 1em; text-align: center; vertical-align: top\">138</td>\n",
       "        <td style=\"padding-left: 1em; padding-right: 1em; text-align: center; vertical-align: top\">[114602.0]</td>\n",
       "        <td style=\"padding-left: 1em; padding-right: 1em; text-align: center; vertical-align: top\">1</td>\n",
       "        <td style=\"padding-left: 1em; padding-right: 1em; text-align: center; vertical-align: top\">[247975.0, 4896.0,<br>188496.0, 121168.0, ...</td>\n",
       "        <td style=\"padding-left: 1em; padding-right: 1em; text-align: center; vertical-align: top\">[250207.0, 183931.0,<br>112686.0, 240653.0, ...</td>\n",
       "        <td style=\"padding-left: 1em; padding-right: 1em; text-align: center; vertical-align: top\">5</td>\n",
       "    </tr>\n",
       "    <tr>\n",
       "        <td style=\"padding-left: 1em; padding-right: 1em; text-align: center; vertical-align: top\">38</td>\n",
       "        <td style=\"padding-left: 1em; padding-right: 1em; text-align: center; vertical-align: top\">[161264.0, 161263.0]</td>\n",
       "        <td style=\"padding-left: 1em; padding-right: 1em; text-align: center; vertical-align: top\">2</td>\n",
       "        <td style=\"padding-left: 1em; padding-right: 1em; text-align: center; vertical-align: top\">[42208.0, 42132.0,<br>73644.0, 126008.0, ...</td>\n",
       "        <td style=\"padding-left: 1em; padding-right: 1em; text-align: center; vertical-align: top\">[133430.0, 218899.0,<br>233818.0, 120625.0, ...</td>\n",
       "        <td style=\"padding-left: 1em; padding-right: 1em; text-align: center; vertical-align: top\">7</td>\n",
       "    </tr>\n",
       "</table>\n",
       "<table frame=\"box\" rules=\"cols\">\n",
       "    <tr>\n",
       "        <th style=\"padding-left: 1em; padding-right: 1em; text-align: center\">dst_out_degree</th>\n",
       "        <th style=\"padding-left: 1em; padding-right: 1em; text-align: center\">dst_second_in_degree</th>\n",
       "        <th style=\"padding-left: 1em; padding-right: 1em; text-align: center\">dst_second_out_degree</th>\n",
       "        <th style=\"padding-left: 1em; padding-right: 1em; text-align: center\">dst_both_vertices</th>\n",
       "        <th style=\"padding-left: 1em; padding-right: 1em; text-align: center\">dst_both_degree</th>\n",
       "        <th style=\"padding-left: 1em; padding-right: 1em; text-align: center\">common_in_vertices</th>\n",
       "    </tr>\n",
       "    <tr>\n",
       "        <td style=\"padding-left: 1em; padding-right: 1em; text-align: center; vertical-align: top\">11</td>\n",
       "        <td style=\"padding-left: 1em; padding-right: 1em; text-align: center; vertical-align: top\">52</td>\n",
       "        <td style=\"padding-left: 1em; padding-right: 1em; text-align: center; vertical-align: top\">112</td>\n",
       "        <td style=\"padding-left: 1em; padding-right: 1em; text-align: center; vertical-align: top\">[]</td>\n",
       "        <td style=\"padding-left: 1em; padding-right: 1em; text-align: center; vertical-align: top\">0</td>\n",
       "        <td style=\"padding-left: 1em; padding-right: 1em; text-align: center; vertical-align: top\">0</td>\n",
       "    </tr>\n",
       "    <tr>\n",
       "        <td style=\"padding-left: 1em; padding-right: 1em; text-align: center; vertical-align: top\">7</td>\n",
       "        <td style=\"padding-left: 1em; padding-right: 1em; text-align: center; vertical-align: top\">59</td>\n",
       "        <td style=\"padding-left: 1em; padding-right: 1em; text-align: center; vertical-align: top\">46</td>\n",
       "        <td style=\"padding-left: 1em; padding-right: 1em; text-align: center; vertical-align: top\">[]</td>\n",
       "        <td style=\"padding-left: 1em; padding-right: 1em; text-align: center; vertical-align: top\">0</td>\n",
       "        <td style=\"padding-left: 1em; padding-right: 1em; text-align: center; vertical-align: top\">0</td>\n",
       "    </tr>\n",
       "</table>\n",
       "<table frame=\"box\" rules=\"cols\">\n",
       "    <tr>\n",
       "        <th style=\"padding-left: 1em; padding-right: 1em; text-align: center\">common_out_vertices</th>\n",
       "        <th style=\"padding-left: 1em; padding-right: 1em; text-align: center\">jakar_coef_in</th>\n",
       "        <th style=\"padding-left: 1em; padding-right: 1em; text-align: center\">jakar_coef_out</th>\n",
       "        <th style=\"padding-left: 1em; padding-right: 1em; text-align: center\">total_in_vertices</th>\n",
       "        <th style=\"padding-left: 1em; padding-right: 1em; text-align: center\">total_out_vertices</th>\n",
       "        <th style=\"padding-left: 1em; padding-right: 1em; text-align: center\">edge_id</th>\n",
       "    </tr>\n",
       "    <tr>\n",
       "        <td style=\"padding-left: 1em; padding-right: 1em; text-align: center; vertical-align: top\">0</td>\n",
       "        <td style=\"padding-left: 1em; padding-right: 1em; text-align: center; vertical-align: top\">0.0</td>\n",
       "        <td style=\"padding-left: 1em; padding-right: 1em; text-align: center; vertical-align: top\">0.0</td>\n",
       "        <td style=\"padding-left: 1em; padding-right: 1em; text-align: center; vertical-align: top\">12</td>\n",
       "        <td style=\"padding-left: 1em; padding-right: 1em; text-align: center; vertical-align: top\">23</td>\n",
       "        <td style=\"padding-left: 1em; padding-right: 1em; text-align: center; vertical-align: top\">None</td>\n",
       "    </tr>\n",
       "    <tr>\n",
       "        <td style=\"padding-left: 1em; padding-right: 1em; text-align: center; vertical-align: top\">0</td>\n",
       "        <td style=\"padding-left: 1em; padding-right: 1em; text-align: center; vertical-align: top\">0.0</td>\n",
       "        <td style=\"padding-left: 1em; padding-right: 1em; text-align: center; vertical-align: top\">0.0</td>\n",
       "        <td style=\"padding-left: 1em; padding-right: 1em; text-align: center; vertical-align: top\">14</td>\n",
       "        <td style=\"padding-left: 1em; padding-right: 1em; text-align: center; vertical-align: top\">13</td>\n",
       "        <td style=\"padding-left: 1em; padding-right: 1em; text-align: center; vertical-align: top\">None</td>\n",
       "    </tr>\n",
       "</table>\n",
       "[2 rows x 26 columns]<br/>\n",
       "</div>"
      ],
      "text/plain": [
       "Columns:\n",
       "\tsrc\tint\n",
       "\tdst\tint\n",
       "\tclass\tint\n",
       "\tsrc_out_vertices\tarray\n",
       "\tsrc_in_vertices\tarray\n",
       "\tsrc_in_degree\tint\n",
       "\tsrc_out_degree\tint\n",
       "\tsrc_second_in_degree\tint\n",
       "\tsrc_second_out_degree\tint\n",
       "\tsrc_both_vertices\tarray\n",
       "\tsrc_both_degree\tint\n",
       "\tdst_out_vertices\tarray\n",
       "\tdst_in_vertices\tarray\n",
       "\tdst_in_degree\tint\n",
       "\tdst_out_degree\tint\n",
       "\tdst_second_in_degree\tint\n",
       "\tdst_second_out_degree\tint\n",
       "\tdst_both_vertices\tarray\n",
       "\tdst_both_degree\tint\n",
       "\tcommon_in_vertices\tint\n",
       "\tcommon_out_vertices\tint\n",
       "\tjakar_coef_in\tfloat\n",
       "\tjakar_coef_out\tfloat\n",
       "\ttotal_in_vertices\tint\n",
       "\ttotal_out_vertices\tint\n",
       "\tedge_id\tint\n",
       "\n",
       "Rows: 2\n",
       "\n",
       "Data:\n",
       "+--------+--------+-------+-------------------------------+\n",
       "|  src   |  dst   | class |        src_out_vertices       |\n",
       "+--------+--------+-------+-------------------------------+\n",
       "| 162239 | 253224 |   0   | [192401.0, 114647.0, 13995... |\n",
       "| 177127 | 244103 |   0   | [161263.0, 185216.0, 33651... |\n",
       "+--------+--------+-------+-------------------------------+\n",
       "+-------------------------------+---------------+----------------+----------------------+\n",
       "|        src_in_vertices        | src_in_degree | src_out_degree | src_second_in_degree |\n",
       "+-------------------------------+---------------+----------------+----------------------+\n",
       "| [66355.0, 78254.0, 170630.... |       7       |       12       |          98          |\n",
       "| [84368.0, 14732.0, 218974.... |       7       |       6        |          83          |\n",
       "+-------------------------------+---------------+----------------+----------------------+\n",
       "+-----------------------+----------------------+-----------------+\n",
       "| src_second_out_degree |  src_both_vertices   | src_both_degree |\n",
       "+-----------------------+----------------------+-----------------+\n",
       "|          138          |      [114602.0]      |        1        |\n",
       "|           38          | [161264.0, 161263.0] |        2        |\n",
       "+-----------------------+----------------------+-----------------+\n",
       "+-------------------------------+-------------------------------+---------------+\n",
       "|        dst_out_vertices       |        dst_in_vertices        | dst_in_degree |\n",
       "+-------------------------------+-------------------------------+---------------+\n",
       "| [247975.0, 4896.0, 188496.... | [250207.0, 183931.0, 11268... |       5       |\n",
       "| [42208.0, 42132.0, 73644.0... | [133430.0, 218899.0, 23381... |       7       |\n",
       "+-------------------------------+-------------------------------+---------------+\n",
       "+----------------+----------------------+-----------------------+-------------------+\n",
       "| dst_out_degree | dst_second_in_degree | dst_second_out_degree | dst_both_vertices |\n",
       "+----------------+----------------------+-----------------------+-------------------+\n",
       "|       11       |          52          |          112          |         []        |\n",
       "|       7        |          59          |           46          |         []        |\n",
       "+----------------+----------------------+-----------------------+-------------------+\n",
       "+-----------------+--------------------+-----+\n",
       "| dst_both_degree | common_in_vertices | ... |\n",
       "+-----------------+--------------------+-----+\n",
       "|        0        |         0          | ... |\n",
       "|        0        |         0          | ... |\n",
       "+-----------------+--------------------+-----+\n",
       "[2 rows x 26 columns]"
      ]
     },
     "execution_count": 22,
     "metadata": {},
     "output_type": "execute_result"
    }
   ],
   "source": [
    "edges.head(2)"
   ]
  },
  {
   "cell_type": "code",
   "execution_count": null,
   "metadata": {
    "collapsed": false
   },
   "outputs": [],
   "source": [
    "clean_edges = edges[edges['edge_id'] == None]\n",
    "susp_edges = edges[edges['edge_id'] != None]\n",
    "print clean_edges.shape, susp_edges.shape"
   ]
  },
  {
   "cell_type": "code",
   "execution_count": null,
   "metadata": {
    "collapsed": false
   },
   "outputs": [],
   "source": [
    "clean_edges.remove_column('edge_id')\n",
    "print"
   ]
  },
  {
   "cell_type": "code",
   "execution_count": 25,
   "metadata": {
    "collapsed": false
   },
   "outputs": [
    {
     "data": {
      "text/html": [
       "<div style=\"max-height:1000px;max-width:1500px;overflow:auto;\"><table frame=\"box\" rules=\"cols\">\n",
       "    <tr>\n",
       "        <th style=\"padding-left: 1em; padding-right: 1em; text-align: center\">src</th>\n",
       "        <th style=\"padding-left: 1em; padding-right: 1em; text-align: center\">dst</th>\n",
       "        <th style=\"padding-left: 1em; padding-right: 1em; text-align: center\">class</th>\n",
       "        <th style=\"padding-left: 1em; padding-right: 1em; text-align: center\">src_out_vertices</th>\n",
       "        <th style=\"padding-left: 1em; padding-right: 1em; text-align: center\">src_in_vertices</th>\n",
       "        <th style=\"padding-left: 1em; padding-right: 1em; text-align: center\">src_in_degree</th>\n",
       "        <th style=\"padding-left: 1em; padding-right: 1em; text-align: center\">src_out_degree</th>\n",
       "        <th style=\"padding-left: 1em; padding-right: 1em; text-align: center\">src_second_in_degree</th>\n",
       "    </tr>\n",
       "    <tr>\n",
       "        <td style=\"padding-left: 1em; padding-right: 1em; text-align: center; vertical-align: top\">162239</td>\n",
       "        <td style=\"padding-left: 1em; padding-right: 1em; text-align: center; vertical-align: top\">253224</td>\n",
       "        <td style=\"padding-left: 1em; padding-right: 1em; text-align: center; vertical-align: top\">0</td>\n",
       "        <td style=\"padding-left: 1em; padding-right: 1em; text-align: center; vertical-align: top\">[192401.0, 114647.0,<br>139953.0, 119200.0, ...</td>\n",
       "        <td style=\"padding-left: 1em; padding-right: 1em; text-align: center; vertical-align: top\">[66355.0, 78254.0,<br>170630.0, 114602.0, ...</td>\n",
       "        <td style=\"padding-left: 1em; padding-right: 1em; text-align: center; vertical-align: top\">7</td>\n",
       "        <td style=\"padding-left: 1em; padding-right: 1em; text-align: center; vertical-align: top\">12</td>\n",
       "        <td style=\"padding-left: 1em; padding-right: 1em; text-align: center; vertical-align: top\">98</td>\n",
       "    </tr>\n",
       "    <tr>\n",
       "        <td style=\"padding-left: 1em; padding-right: 1em; text-align: center; vertical-align: top\">177127</td>\n",
       "        <td style=\"padding-left: 1em; padding-right: 1em; text-align: center; vertical-align: top\">244103</td>\n",
       "        <td style=\"padding-left: 1em; padding-right: 1em; text-align: center; vertical-align: top\">0</td>\n",
       "        <td style=\"padding-left: 1em; padding-right: 1em; text-align: center; vertical-align: top\">[161263.0, 185216.0,<br>33651.0, 244717.0, ...</td>\n",
       "        <td style=\"padding-left: 1em; padding-right: 1em; text-align: center; vertical-align: top\">[84368.0, 14732.0,<br>218974.0, 161264.0, ...</td>\n",
       "        <td style=\"padding-left: 1em; padding-right: 1em; text-align: center; vertical-align: top\">7</td>\n",
       "        <td style=\"padding-left: 1em; padding-right: 1em; text-align: center; vertical-align: top\">6</td>\n",
       "        <td style=\"padding-left: 1em; padding-right: 1em; text-align: center; vertical-align: top\">83</td>\n",
       "    </tr>\n",
       "    <tr>\n",
       "        <td style=\"padding-left: 1em; padding-right: 1em; text-align: center; vertical-align: top\">239830</td>\n",
       "        <td style=\"padding-left: 1em; padding-right: 1em; text-align: center; vertical-align: top\">239831</td>\n",
       "        <td style=\"padding-left: 1em; padding-right: 1em; text-align: center; vertical-align: top\">1</td>\n",
       "        <td style=\"padding-left: 1em; padding-right: 1em; text-align: center; vertical-align: top\">[217402.0, 50255.0,<br>239832.0, 156957.0, ...</td>\n",
       "        <td style=\"padding-left: 1em; padding-right: 1em; text-align: center; vertical-align: top\">[243564.0, 153197.0,<br>229819.0, 68939.0, ...</td>\n",
       "        <td style=\"padding-left: 1em; padding-right: 1em; text-align: center; vertical-align: top\">8</td>\n",
       "        <td style=\"padding-left: 1em; padding-right: 1em; text-align: center; vertical-align: top\">13</td>\n",
       "        <td style=\"padding-left: 1em; padding-right: 1em; text-align: center; vertical-align: top\">75</td>\n",
       "    </tr>\n",
       "</table>\n",
       "<table frame=\"box\" rules=\"cols\">\n",
       "    <tr>\n",
       "        <th style=\"padding-left: 1em; padding-right: 1em; text-align: center\">src_second_out_degree</th>\n",
       "        <th style=\"padding-left: 1em; padding-right: 1em; text-align: center\">src_both_vertices</th>\n",
       "        <th style=\"padding-left: 1em; padding-right: 1em; text-align: center\">src_both_degree</th>\n",
       "        <th style=\"padding-left: 1em; padding-right: 1em; text-align: center\">dst_out_vertices</th>\n",
       "        <th style=\"padding-left: 1em; padding-right: 1em; text-align: center\">dst_in_vertices</th>\n",
       "        <th style=\"padding-left: 1em; padding-right: 1em; text-align: center\">dst_in_degree</th>\n",
       "    </tr>\n",
       "    <tr>\n",
       "        <td style=\"padding-left: 1em; padding-right: 1em; text-align: center; vertical-align: top\">138</td>\n",
       "        <td style=\"padding-left: 1em; padding-right: 1em; text-align: center; vertical-align: top\">[114602.0]</td>\n",
       "        <td style=\"padding-left: 1em; padding-right: 1em; text-align: center; vertical-align: top\">1</td>\n",
       "        <td style=\"padding-left: 1em; padding-right: 1em; text-align: center; vertical-align: top\">[247975.0, 4896.0,<br>188496.0, 121168.0, ...</td>\n",
       "        <td style=\"padding-left: 1em; padding-right: 1em; text-align: center; vertical-align: top\">[250207.0, 183931.0,<br>112686.0, 240653.0, ...</td>\n",
       "        <td style=\"padding-left: 1em; padding-right: 1em; text-align: center; vertical-align: top\">5</td>\n",
       "    </tr>\n",
       "    <tr>\n",
       "        <td style=\"padding-left: 1em; padding-right: 1em; text-align: center; vertical-align: top\">38</td>\n",
       "        <td style=\"padding-left: 1em; padding-right: 1em; text-align: center; vertical-align: top\">[161264.0, 161263.0]</td>\n",
       "        <td style=\"padding-left: 1em; padding-right: 1em; text-align: center; vertical-align: top\">2</td>\n",
       "        <td style=\"padding-left: 1em; padding-right: 1em; text-align: center; vertical-align: top\">[42208.0, 42132.0,<br>73644.0, 126008.0, ...</td>\n",
       "        <td style=\"padding-left: 1em; padding-right: 1em; text-align: center; vertical-align: top\">[133430.0, 218899.0,<br>233818.0, 120625.0, ...</td>\n",
       "        <td style=\"padding-left: 1em; padding-right: 1em; text-align: center; vertical-align: top\">7</td>\n",
       "    </tr>\n",
       "    <tr>\n",
       "        <td style=\"padding-left: 1em; padding-right: 1em; text-align: center; vertical-align: top\">136</td>\n",
       "        <td style=\"padding-left: 1em; padding-right: 1em; text-align: center; vertical-align: top\">[233162.0, 243564.0,<br>239831.0] ...</td>\n",
       "        <td style=\"padding-left: 1em; padding-right: 1em; text-align: center; vertical-align: top\">3</td>\n",
       "        <td style=\"padding-left: 1em; padding-right: 1em; text-align: center; vertical-align: top\">[233162.0, 239832.0,<br>171552.0, 183646.0, ...</td>\n",
       "        <td style=\"padding-left: 1em; padding-right: 1em; text-align: center; vertical-align: top\">[102377.0, 233162.0,<br>238153.0, 239830.0, ...</td>\n",
       "        <td style=\"padding-left: 1em; padding-right: 1em; text-align: center; vertical-align: top\">9</td>\n",
       "    </tr>\n",
       "</table>\n",
       "<table frame=\"box\" rules=\"cols\">\n",
       "    <tr>\n",
       "        <th style=\"padding-left: 1em; padding-right: 1em; text-align: center\">dst_out_degree</th>\n",
       "        <th style=\"padding-left: 1em; padding-right: 1em; text-align: center\">dst_second_in_degree</th>\n",
       "        <th style=\"padding-left: 1em; padding-right: 1em; text-align: center\">dst_second_out_degree</th>\n",
       "        <th style=\"padding-left: 1em; padding-right: 1em; text-align: center\">dst_both_vertices</th>\n",
       "        <th style=\"padding-left: 1em; padding-right: 1em; text-align: center\">dst_both_degree</th>\n",
       "        <th style=\"padding-left: 1em; padding-right: 1em; text-align: center\">common_in_vertices</th>\n",
       "    </tr>\n",
       "    <tr>\n",
       "        <td style=\"padding-left: 1em; padding-right: 1em; text-align: center; vertical-align: top\">11</td>\n",
       "        <td style=\"padding-left: 1em; padding-right: 1em; text-align: center; vertical-align: top\">52</td>\n",
       "        <td style=\"padding-left: 1em; padding-right: 1em; text-align: center; vertical-align: top\">112</td>\n",
       "        <td style=\"padding-left: 1em; padding-right: 1em; text-align: center; vertical-align: top\">[]</td>\n",
       "        <td style=\"padding-left: 1em; padding-right: 1em; text-align: center; vertical-align: top\">0</td>\n",
       "        <td style=\"padding-left: 1em; padding-right: 1em; text-align: center; vertical-align: top\">0</td>\n",
       "    </tr>\n",
       "    <tr>\n",
       "        <td style=\"padding-left: 1em; padding-right: 1em; text-align: center; vertical-align: top\">7</td>\n",
       "        <td style=\"padding-left: 1em; padding-right: 1em; text-align: center; vertical-align: top\">59</td>\n",
       "        <td style=\"padding-left: 1em; padding-right: 1em; text-align: center; vertical-align: top\">46</td>\n",
       "        <td style=\"padding-left: 1em; padding-right: 1em; text-align: center; vertical-align: top\">[]</td>\n",
       "        <td style=\"padding-left: 1em; padding-right: 1em; text-align: center; vertical-align: top\">0</td>\n",
       "        <td style=\"padding-left: 1em; padding-right: 1em; text-align: center; vertical-align: top\">0</td>\n",
       "    </tr>\n",
       "    <tr>\n",
       "        <td style=\"padding-left: 1em; padding-right: 1em; text-align: center; vertical-align: top\">15</td>\n",
       "        <td style=\"padding-left: 1em; padding-right: 1em; text-align: center; vertical-align: top\">90</td>\n",
       "        <td style=\"padding-left: 1em; padding-right: 1em; text-align: center; vertical-align: top\">161</td>\n",
       "        <td style=\"padding-left: 1em; padding-right: 1em; text-align: center; vertical-align: top\">[233162.0, 243564.0,<br>239830.0] ...</td>\n",
       "        <td style=\"padding-left: 1em; padding-right: 1em; text-align: center; vertical-align: top\">3</td>\n",
       "        <td style=\"padding-left: 1em; padding-right: 1em; text-align: center; vertical-align: top\">2</td>\n",
       "    </tr>\n",
       "</table>\n",
       "<table frame=\"box\" rules=\"cols\">\n",
       "    <tr>\n",
       "        <th style=\"padding-left: 1em; padding-right: 1em; text-align: center\">common_out_vertices</th>\n",
       "        <th style=\"padding-left: 1em; padding-right: 1em; text-align: center\">jakar_coef_in</th>\n",
       "        <th style=\"padding-left: 1em; padding-right: 1em; text-align: center\">jakar_coef_out</th>\n",
       "        <th style=\"padding-left: 1em; padding-right: 1em; text-align: center\">total_in_vertices</th>\n",
       "        <th style=\"padding-left: 1em; padding-right: 1em; text-align: center\">total_out_vertices</th>\n",
       "    </tr>\n",
       "    <tr>\n",
       "        <td style=\"padding-left: 1em; padding-right: 1em; text-align: center; vertical-align: top\">0</td>\n",
       "        <td style=\"padding-left: 1em; padding-right: 1em; text-align: center; vertical-align: top\">0.0</td>\n",
       "        <td style=\"padding-left: 1em; padding-right: 1em; text-align: center; vertical-align: top\">0.0</td>\n",
       "        <td style=\"padding-left: 1em; padding-right: 1em; text-align: center; vertical-align: top\">12</td>\n",
       "        <td style=\"padding-left: 1em; padding-right: 1em; text-align: center; vertical-align: top\">23</td>\n",
       "    </tr>\n",
       "    <tr>\n",
       "        <td style=\"padding-left: 1em; padding-right: 1em; text-align: center; vertical-align: top\">0</td>\n",
       "        <td style=\"padding-left: 1em; padding-right: 1em; text-align: center; vertical-align: top\">0.0</td>\n",
       "        <td style=\"padding-left: 1em; padding-right: 1em; text-align: center; vertical-align: top\">0.0</td>\n",
       "        <td style=\"padding-left: 1em; padding-right: 1em; text-align: center; vertical-align: top\">14</td>\n",
       "        <td style=\"padding-left: 1em; padding-right: 1em; text-align: center; vertical-align: top\">13</td>\n",
       "    </tr>\n",
       "    <tr>\n",
       "        <td style=\"padding-left: 1em; padding-right: 1em; text-align: center; vertical-align: top\">3</td>\n",
       "        <td style=\"padding-left: 1em; padding-right: 1em; text-align: center; vertical-align: top\">0.153846153846</td>\n",
       "        <td style=\"padding-left: 1em; padding-right: 1em; text-align: center; vertical-align: top\">0.130434782609</td>\n",
       "        <td style=\"padding-left: 1em; padding-right: 1em; text-align: center; vertical-align: top\">13</td>\n",
       "        <td style=\"padding-left: 1em; padding-right: 1em; text-align: center; vertical-align: top\">23</td>\n",
       "    </tr>\n",
       "</table>\n",
       "[3 rows x 25 columns]<br/>\n",
       "</div>"
      ],
      "text/plain": [
       "Columns:\n",
       "\tsrc\tint\n",
       "\tdst\tint\n",
       "\tclass\tint\n",
       "\tsrc_out_vertices\tarray\n",
       "\tsrc_in_vertices\tarray\n",
       "\tsrc_in_degree\tint\n",
       "\tsrc_out_degree\tint\n",
       "\tsrc_second_in_degree\tint\n",
       "\tsrc_second_out_degree\tint\n",
       "\tsrc_both_vertices\tarray\n",
       "\tsrc_both_degree\tint\n",
       "\tdst_out_vertices\tarray\n",
       "\tdst_in_vertices\tarray\n",
       "\tdst_in_degree\tint\n",
       "\tdst_out_degree\tint\n",
       "\tdst_second_in_degree\tint\n",
       "\tdst_second_out_degree\tint\n",
       "\tdst_both_vertices\tarray\n",
       "\tdst_both_degree\tint\n",
       "\tcommon_in_vertices\tint\n",
       "\tcommon_out_vertices\tint\n",
       "\tjakar_coef_in\tfloat\n",
       "\tjakar_coef_out\tfloat\n",
       "\ttotal_in_vertices\tint\n",
       "\ttotal_out_vertices\tint\n",
       "\n",
       "Rows: 3\n",
       "\n",
       "Data:\n",
       "+--------+--------+-------+-------------------------------+\n",
       "|  src   |  dst   | class |        src_out_vertices       |\n",
       "+--------+--------+-------+-------------------------------+\n",
       "| 162239 | 253224 |   0   | [192401.0, 114647.0, 13995... |\n",
       "| 177127 | 244103 |   0   | [161263.0, 185216.0, 33651... |\n",
       "| 239830 | 239831 |   1   | [217402.0, 50255.0, 239832... |\n",
       "+--------+--------+-------+-------------------------------+\n",
       "+-------------------------------+---------------+----------------+----------------------+\n",
       "|        src_in_vertices        | src_in_degree | src_out_degree | src_second_in_degree |\n",
       "+-------------------------------+---------------+----------------+----------------------+\n",
       "| [66355.0, 78254.0, 170630.... |       7       |       12       |          98          |\n",
       "| [84368.0, 14732.0, 218974.... |       7       |       6        |          83          |\n",
       "| [243564.0, 153197.0, 22981... |       8       |       13       |          75          |\n",
       "+-------------------------------+---------------+----------------+----------------------+\n",
       "+-----------------------+--------------------------------+-----------------+\n",
       "| src_second_out_degree |       src_both_vertices        | src_both_degree |\n",
       "+-----------------------+--------------------------------+-----------------+\n",
       "|          138          |           [114602.0]           |        1        |\n",
       "|           38          |      [161264.0, 161263.0]      |        2        |\n",
       "|          136          | [233162.0, 243564.0, 239831.0] |        3        |\n",
       "+-----------------------+--------------------------------+-----------------+\n",
       "+-------------------------------+-------------------------------+---------------+\n",
       "|        dst_out_vertices       |        dst_in_vertices        | dst_in_degree |\n",
       "+-------------------------------+-------------------------------+---------------+\n",
       "| [247975.0, 4896.0, 188496.... | [250207.0, 183931.0, 11268... |       5       |\n",
       "| [42208.0, 42132.0, 73644.0... | [133430.0, 218899.0, 23381... |       7       |\n",
       "| [233162.0, 239832.0, 17155... | [102377.0, 233162.0, 23815... |       9       |\n",
       "+-------------------------------+-------------------------------+---------------+\n",
       "+----------------+----------------------+-----------------------+\n",
       "| dst_out_degree | dst_second_in_degree | dst_second_out_degree |\n",
       "+----------------+----------------------+-----------------------+\n",
       "|       11       |          52          |          112          |\n",
       "|       7        |          59          |           46          |\n",
       "|       15       |          90          |          161          |\n",
       "+----------------+----------------------+-----------------------+\n",
       "+--------------------------------+-----------------+--------------------+-----+\n",
       "|       dst_both_vertices        | dst_both_degree | common_in_vertices | ... |\n",
       "+--------------------------------+-----------------+--------------------+-----+\n",
       "|               []               |        0        |         0          | ... |\n",
       "|               []               |        0        |         0          | ... |\n",
       "| [233162.0, 243564.0, 239830.0] |        3        |         2          | ... |\n",
       "+--------------------------------+-----------------+--------------------+-----+\n",
       "[3 rows x 25 columns]"
      ]
     },
     "execution_count": 25,
     "metadata": {},
     "output_type": "execute_result"
    }
   ],
   "source": [
    "clean_edges.head(3)"
   ]
  },
  {
   "cell_type": "code",
   "execution_count": null,
   "metadata": {
    "collapsed": true
   },
   "outputs": [],
   "source": [
    "# split on train and test\n",
    "#edges = gl.cross_validation.shuffle(edges)\n",
    "test, train = clean_edges.random_split(0.2)"
   ]
  },
  {
   "cell_type": "code",
   "execution_count": 39,
   "metadata": {
    "collapsed": false
   },
   "outputs": [
    {
     "name": "stdout",
     "output_type": "stream",
     "text": [
      "(493515, 25) (1976188, 25)\n"
     ]
    }
   ],
   "source": [
    "print test.shape, train.shape"
   ]
  },
  {
   "cell_type": "code",
   "execution_count": null,
   "metadata": {
    "collapsed": false
   },
   "outputs": [],
   "source": [
    "features = [\n",
    "#'src',\n",
    "# 'dst',\n",
    " #'src_out_vertices',\n",
    " #'src_in_vertices',\n",
    " 'src_in_degree',\n",
    " 'src_out_degree',\n",
    " 'src_second_in_degree',\n",
    " 'src_second_out_degree',\n",
    " #'src_both_vertices',\n",
    " 'src_both_degree',\n",
    " #'dst_out_vertices',\n",
    " #'dst_in_vertices',\n",
    " 'dst_in_degree',\n",
    " 'dst_out_degree',\n",
    " 'dst_second_in_degree',\n",
    " 'dst_second_out_degree',\n",
    " #'dst_both_vertices',\n",
    " 'dst_both_degree',\n",
    " 'common_in_vertices',\n",
    " #'common_in_vertices_list',\n",
    " 'common_out_vertices',\n",
    " #'common_out_vertices_list',\n",
    " 'jakar_coef_in',\n",
    " 'jakar_coef_out',\n",
    " 'total_in_vertices',\n",
    "'total_out_vertices',\n",
    "'adamik_in',\n",
    "'adamik_out']"
   ]
  },
  {
   "cell_type": "code",
   "execution_count": null,
   "metadata": {
    "collapsed": false,
    "scrolled": false
   },
   "outputs": [],
   "source": [
    "# fit basic classification model - LR\n",
    "model = gl.classifier.logistic_classifier.create(train, \n",
    "                                                 target=\"class\", \n",
    "                                                 #class_weights={1:0.9,0:0.1},\n",
    "                                                 features=features,\n",
    "                                                 max_iterations=60)\n",
    "results = model.evaluate(test)\n",
    "print results"
   ]
  },
  {
   "cell_type": "code",
   "execution_count": 92,
   "metadata": {
    "collapsed": false
   },
   "outputs": [
    {
     "name": "stdout",
     "output_type": "stream",
     "text": [
      "+-----------------------+-------+-------+-------------------+-------------------+\n",
      "|          name         | index | class |       value       |       stderr      |\n",
      "+-----------------------+-------+-------+-------------------+-------------------+\n",
      "|     jakar_coef_out    |  None |   1   |   -10.8067570211  |   20.3602737984   |\n",
      "|   total_out_vertices  |  None |   1   |   -9.4034658579   |   0.247992773627  |\n",
      "|      (intercept)      |  None |   1   |   -7.12321254676  |   0.330154648544  |\n",
      "|  common_out_vertices  |  None |   1   |   -6.64117967147  |   1.12200056682   |\n",
      "|   total_in_vertices   |  None |   1   |   -5.47869353737  |   0.232898423589  |\n",
      "|   common_in_vertices  |  None |   1   |   -4.39602665687  |   0.422216072632  |\n",
      "|    src_both_degree    |  None |   1   |  -0.313199776996  |  0.0491299847896  |\n",
      "|  dst_second_in_degree |  None |   1   | 0.000197600728838 | 0.000782003540291 |\n",
      "|  src_second_in_degree |  None |   1   | 0.000931010810609 |  0.00238552579452 |\n",
      "| dst_second_out_degree |  None |   1   |  0.0145319765659  |  0.00596875453054 |\n",
      "| src_second_out_degree |  None |   1   |  0.0315286977768  |  0.00608579601069 |\n",
      "|    dst_both_degree    |  None |   1   |  0.0682036185161  |  0.0367180505431  |\n",
      "|     src_in_degree     |  None |   1   |   5.44479675699   |   0.233792546033  |\n",
      "|     dst_in_degree     |  None |   1   |   5.49736760162   |   0.232819532059  |\n",
      "|     src_out_degree    |  None |   1   |   9.02711153184   |   0.241957757668  |\n",
      "|     dst_out_degree    |  None |   1   |   9.18500065904   |   0.249255543425  |\n",
      "|     jakar_coef_in     |  None |   1   |   34.1262025061   |   11.4983085051   |\n",
      "+-----------------------+-------+-------+-------------------+-------------------+\n",
      "[17 rows x 5 columns]\n",
      "\n"
     ]
    }
   ],
   "source": [
    "model.coefficients.sort('value').print_rows(num_rows=40)"
   ]
  },
  {
   "cell_type": "markdown",
   "metadata": {},
   "source": [
    "Мы получили базовую модель с метриками: точность ~ 0.67, ROC AUC ~ 0.71. Ваша задача улучшить модель,  за счет добавления новых признаков вершин, ребер и аккуратного обучения выбранных моделей (настройки гиперпараметров и регуляризации)."
   ]
  },
  {
   "cell_type": "markdown",
   "metadata": {},
   "source": [
    "----\n",
    "### 5. Отправка результатов в контест на Kaggle - 20 Баллов\n",
    "\n",
    "\n",
    "Завершая домашнюю работу, нам небходимо предсказать вероятности наличия ребер, для заданного списка ребер. Результат отправлется в контест на kaggle.com в формате: edge_id - probability"
   ]
  },
  {
   "cell_type": "code",
   "execution_count": 99,
   "metadata": {
    "collapsed": false
   },
   "outputs": [],
   "source": [
    "predicted = model.predict(susp_edges, output_type='class')"
   ]
  },
  {
   "cell_type": "code",
   "execution_count": 73,
   "metadata": {
    "collapsed": false
   },
   "outputs": [],
   "source": [
    "susp_edges['probability'] = predicted"
   ]
  },
  {
   "cell_type": "code",
   "execution_count": 74,
   "metadata": {
    "collapsed": false
   },
   "outputs": [],
   "source": [
    "result = susp_edges['edge_id', 'probability']"
   ]
  },
  {
   "cell_type": "code",
   "execution_count": 101,
   "metadata": {
    "collapsed": false
   },
   "outputs": [],
   "source": [
    "result.save('result_classes.csv', format='csv')"
   ]
  },
  {
   "cell_type": "code",
   "execution_count": 99,
   "metadata": {
    "collapsed": false
   },
   "outputs": [
    {
     "ename": "KeyboardInterrupt",
     "evalue": "",
     "output_type": "error",
     "traceback": [
      "Traceback (most recent call last):\n",
      "  File \"/usr/local/lib/python2.7/dist-packages/ipykernel/ipkernel.py\", line 199, in do_execute\n    shell.run_cell(code, store_history=store_history, silent=silent)\n",
      "  File \"/usr/local/lib/python2.7/dist-packages/IPython/core/interactiveshell.py\", line 2713, in run_cell\n    self.events.trigger('post_execute')\n",
      "  File \"/usr/local/lib/python2.7/dist-packages/IPython/core/events.py\", line 74, in trigger\n    func(*args, **kwargs)\n",
      "  File \"/home/anya/.local/lib/python2.7/site-packages/matplotlib/pyplot.py\", line 148, in post_execute\n    draw_all()\n",
      "  File \"/home/anya/.local/lib/python2.7/site-packages/matplotlib/_pylab_helpers.py\", line 150, in draw_all\n    f_mgr.canvas.draw_idle()\n",
      "  File \"/home/anya/.local/lib/python2.7/site-packages/matplotlib/backend_bases.py\", line 2026, in draw_idle\n    self.draw(*args, **kwargs)\n",
      "  File \"/home/anya/.local/lib/python2.7/site-packages/matplotlib/backends/backend_agg.py\", line 474, in draw\n    self.figure.draw(self.renderer)\n",
      "  File \"/home/anya/.local/lib/python2.7/site-packages/matplotlib/artist.py\", line 62, in draw_wrapper\n    draw(artist, renderer, *args, **kwargs)\n",
      "  File \"/home/anya/.local/lib/python2.7/site-packages/matplotlib/figure.py\", line 1159, in draw\n    func(*args)\n",
      "  File \"/home/anya/.local/lib/python2.7/site-packages/matplotlib/artist.py\", line 62, in draw_wrapper\n    draw(artist, renderer, *args, **kwargs)\n",
      "  File \"/home/anya/.local/lib/python2.7/site-packages/matplotlib/axes/_base.py\", line 2319, in draw\n    a.draw(renderer)\n",
      "  File \"/home/anya/.local/lib/python2.7/site-packages/matplotlib/artist.py\", line 62, in draw_wrapper\n    draw(artist, renderer, *args, **kwargs)\n",
      "  File \"/home/anya/.local/lib/python2.7/site-packages/matplotlib/axis.py\", line 1108, in draw\n    ticks_to_draw = self._update_ticks(renderer)\n",
      "  File \"/home/anya/.local/lib/python2.7/site-packages/matplotlib/axis.py\", line 951, in _update_ticks\n    tick_tups = [t for t in self.iter_ticks()]\n",
      "  File \"/home/anya/.local/lib/python2.7/site-packages/matplotlib/axis.py\", line 895, in iter_ticks\n    majorTicks = self.get_major_ticks(len(majorLocs))\n",
      "  File \"/home/anya/.local/lib/python2.7/site-packages/matplotlib/axis.py\", line 1296, in get_major_ticks\n    tick = self._get_tick(major=True)\n",
      "  File \"/home/anya/.local/lib/python2.7/site-packages/matplotlib/axis.py\", line 1677, in _get_tick\n    return XTick(self.axes, 0, '', major=major, **tick_kw)\n",
      "  File \"/home/anya/.local/lib/python2.7/site-packages/matplotlib/axis.py\", line 150, in __init__\n    self.tick1line = self._get_tick1line()\n",
      "  File \"/home/anya/.local/lib/python2.7/site-packages/matplotlib/axis.py\", line 402, in _get_tick1line\n    markeredgewidth=self._width, zorder=self._zorder)\n",
      "  File \"/home/anya/.local/lib/python2.7/site-packages/matplotlib/lines.py\", line 286, in __init__\n    Artist.__init__(self)\n",
      "  File \"/home/anya/.local/lib/python2.7/site-packages/matplotlib/artist.py\", line 88, in __init__\n    self._stale = True\n",
      "KeyboardInterrupt\n"
     ]
    }
   ],
   "source": [
    "h = hist(predicted, bins=100)"
   ]
  },
  {
   "cell_type": "code",
   "execution_count": 100,
   "metadata": {
    "collapsed": false
   },
   "outputs": [
    {
     "name": "stdout",
     "output_type": "stream",
     "text": [
      "ERROR! Session/line number was not unique in database. History logging moved to new session 1261\n"
     ]
    },
    {
     "data": {
      "text/plain": [
       "5"
      ]
     },
     "execution_count": 100,
     "metadata": {},
     "output_type": "execute_result"
    },
    {
     "data": {
      "image/png": "[encoded data removed]",
      "text/plain": [
       "<matplotlib.figure.Figure at 0x7ff069d40e50>"
      ]
     },
     "metadata": {},
     "output_type": "display_data"
    }
   ],
   "source": [
    "(predicted < 0.5).sum()"
   ]
  },
  {
   "cell_type": "code",
   "execution_count": 87,
   "metadata": {
    "collapsed": false
   },
   "outputs": [
    {
     "data": {
      "text/plain": [
       "(array([ 414871.,       0.,       0.,       0.,       0.,       0.,\n",
       "              0.,       0.,       0.,  325590.]),\n",
       " array([ 0. ,  0.1,  0.2,  0.3,  0.4,  0.5,  0.6,  0.7,  0.8,  0.9,  1. ]),\n",
       " <a list of 10 Patch objects>)"
      ]
     },
     "execution_count": 87,
     "metadata": {},
     "output_type": "execute_result"
    },
    {
     "data": {
      "image/png": "[encoded data removed]",
      "text/plain": [
       "<matplotlib.figure.Figure at 0x7ff090100110>"
      ]
     },
     "metadata": {},
     "output_type": "display_data"
    }
   ],
   "source": [
    "hist(test['class'])"
   ]
  },
  {
   "cell_type": "markdown",
   "metadata": {},
   "source": [
    "----"
   ]
  },
  {
   "cell_type": "markdown",
   "metadata": {},
   "source": [
    "----\n",
    "### Не модифицируйте данный код, он для проверки вашего ноутбука"
   ]
  },
  {
   "cell_type": "code",
   "execution_count": 45,
   "metadata": {
    "collapsed": false
   },
   "outputs": [],
   "source": [
    "#from sklearn.metrics import roc_curve, auc\n",
    "#import matplotlib.pyplot as plt\n",
    "#%matplotlib inline"
   ]
  },
  {
   "cell_type": "code",
   "execution_count": 36,
   "metadata": {
    "collapsed": false
   },
   "outputs": [],
   "source": [
    "# labeled = pd.read_csv('labeled_suspicions.csv')\n",
    "# print labeled.shape\n",
    "\n",
    "# res = labeled.merge(result.to_dataframe(), on='edge_id', how='inner')\n",
    "# res = res[['class', 'probability']]\n",
    "# print res.shape"
   ]
  },
  {
   "cell_type": "code",
   "execution_count": 37,
   "metadata": {
    "collapsed": false
   },
   "outputs": [],
   "source": [
    "# fpr, tpr, _ = roc_curve(res['class'], res['probability'])\n",
    "# roc_auc = auc(fpr, tpr)\n",
    "\n",
    "# plt.figure(figsize=(15, 10))\n",
    "# lw = 2\n",
    "# plt.plot(fpr, tpr, color='darkorange', lw=lw, label='ROC curve (area = %0.2f)' % roc_auc)\n",
    "# plt.plot([0, 1], [0, 1], color='navy', lw=lw, linestyle='--')\n",
    "# plt.xlim([0.0, 1.0])\n",
    "# plt.ylim([0.0, 1.05])\n",
    "# plt.xlabel('False Positive Rate')\n",
    "# plt.ylabel('True Positive Rate')\n",
    "# plt.title('Receiver operating characteristic example')\n",
    "# plt.legend(loc=\"lower right\")\n",
    "# plt.show()"
   ]
  },
  {
   "cell_type": "code",
   "execution_count": null,
   "metadata": {
    "collapsed": true
   },
   "outputs": [],
   "source": []
  },
  {
   "cell_type": "code",
   "execution_count": null,
   "metadata": {
    "collapsed": true
   },
   "outputs": [],
   "source": []
  }
 ],
 "metadata": {
  "kernelspec": {
   "display_name": "Python 2",
   "language": "python",
   "name": "python2"
  },
  "language_info": {
   "codemirror_mode": {
    "name": "ipython",
    "version": 2
   },
   "file_extension": ".py",
   "mimetype": "text/x-python",
   "name": "python",
   "nbconvert_exporter": "python",
   "pygments_lexer": "ipython2",
   "version": "2.7.10"
  }
 },
 "nbformat": 4,
 "nbformat_minor": 0
}
