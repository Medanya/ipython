{
 "cells": [
  {
   "cell_type": "code",
   "execution_count": 66,
   "metadata": {
    "collapsed": true
   },
   "outputs": [],
   "source": [
    "from nltk.corpus import brown\n",
    "from nltk.classify import PositiveNaiveBayesClassifier\n",
    "import numpy as np\n",
    "import random"
   ]
  },
  {
   "cell_type": "markdown",
   "metadata": {},
   "source": [
    "Доступные категории:"
   ]
  },
  {
   "cell_type": "code",
   "execution_count": 6,
   "metadata": {
    "collapsed": false
   },
   "outputs": [
    {
     "data": {
      "text/plain": [
       "['adventure',\n",
       " 'belles_lettres',\n",
       " 'editorial',\n",
       " 'fiction',\n",
       " 'government',\n",
       " 'hobbies',\n",
       " 'humor',\n",
       " 'learned',\n",
       " 'lore',\n",
       " 'mystery',\n",
       " 'news',\n",
       " 'religion',\n",
       " 'reviews',\n",
       " 'romance',\n",
       " 'science_fiction']"
      ]
     },
     "execution_count": 6,
     "metadata": {},
     "output_type": "execute_result"
    }
   ],
   "source": [
    "brown.categories()"
   ]
  },
  {
   "cell_type": "markdown",
   "metadata": {},
   "source": [
    "# Подготовим данные"
   ]
  },
  {
   "cell_type": "markdown",
   "metadata": {},
   "source": [
    "Скачаем предложения по темам религия и новости. "
   ]
  },
  {
   "cell_type": "code",
   "execution_count": 93,
   "metadata": {
    "collapsed": false
   },
   "outputs": [],
   "source": [
    "sentences_news = list(brown.sents(categories = ['news']))\n",
    "sentences = list(brown.sents(categories=['news' ,' religion']))\n",
    "random.seed(122)\n",
    "random.shuffle(sentences)\n",
    "\n",
    "partition_news = int(len(sentences_news) * 0.75)\n",
    "partition = int(len(sentences) * 0.75)\n",
    "\n",
    "X_train_news = sentences_news[:partition_news]\n",
    "X_train = sentences[:partition]\n",
    "\n",
    "X_test_news = sentences_news[partition_news:]\n",
    "y_test_news = [True] * len(X_test_news)\n",
    "\n",
    "X_test = sentences[partition:]\n",
    "y_test = [sentence in sentences_news for sentence in X_test]"
   ]
  },
  {
   "cell_type": "markdown",
   "metadata": {},
   "source": [
    "# Запуск наивного байеса"
   ]
  },
  {
   "cell_type": "markdown",
   "metadata": {},
   "source": [
    "Напишем функции для построения сета признаков, подсчета числа ошибок."
   ]
  },
  {
   "cell_type": "code",
   "execution_count": 96,
   "metadata": {
    "collapsed": true
   },
   "outputs": [],
   "source": [
    "def features(sentence):\n",
    "    return dict(('contains(%s)' % word, True) for word in sentence)\n",
    "\n",
    "def calc_error(prediction, test):\n",
    "    return np.sum(np.array(prediction) != np.array(test)) / len(prediction)"
   ]
  },
  {
   "cell_type": "markdown",
   "metadata": {},
   "source": [
    "Для начала обучим классификатор на 3/4 новостных предложений. На оставшейся трети посчитаем число ошибок, а также посчитаем число ошибок на тестовой четверти от всех предложений."
   ]
  },
  {
   "cell_type": "code",
   "execution_count": 97,
   "metadata": {
    "collapsed": false
   },
   "outputs": [
    {
     "name": "stdout",
     "output_type": "stream",
     "text": [
      "Ошибка классификатора на тестовой части новостных предложений: 0.27076124567474047\n",
      "Ошибка классификатора на тестовой части всех предложений: 0.19896193771626297\n"
     ]
    }
   ],
   "source": [
    "positive_featuresets = list(map(features, X_train_news))\n",
    "unlabeled_featuresets = list(map(features, X_train))\n",
    "classifier = PositiveNaiveBayesClassifier.train(positive_featuresets,\\\n",
    "                                                unlabeled_featuresets)\n",
    "\n",
    "prediction_news = classifier.classify_many(list(map(features, X_test_news)))\n",
    "error_news = calc_error(prediction, y_test_news)\n",
    "print('Ошибка классификатора на тестовой части новостных предложений: {}'.format(error_news))\n",
    "\n",
    "prediction_all = classifier.classify_many(list(map(features, X_test)))\n",
    "error_all = calc_error(prediction_all, y_test)\n",
    "print('Ошибка классификатора на тестовой части всех предложений: {}'.format(error_all))"
   ]
  },
  {
   "cell_type": "markdown",
   "metadata": {},
   "source": [
    "Классификатор не распознает примерно треть от тестовых новостных предложений. Среди всех предложений получилась ошибка около 20%.\n",
    "\n",
    "Обучим теперь классификатор на всех доступных новостных предложениях и посчитаем ошибку на тестовой выборке."
   ]
  },
  {
   "cell_type": "code",
   "execution_count": 101,
   "metadata": {
    "collapsed": false
   },
   "outputs": [
    {
     "name": "stdout",
     "output_type": "stream",
     "text": [
      "Ошибка классификатора на тестовой части всех предложений: 0.01124567474048443\n"
     ]
    }
   ],
   "source": [
    "positive_featuresets2 = list(map(features, sentences_news))\n",
    "classifier2 = PositiveNaiveBayesClassifier.train(positive_featuresets2,\\\n",
    "                                                unlabeled_featuresets)\n",
    "\n",
    "prediction_all2 = classifier2.classify_many(list(map(features, X_test)))\n",
    "error_all2 = calc_error(prediction_all2, y_test)\n",
    "print('Ошибка классификатора на тестовой части всех предложений: {}'.format(error_all2))"
   ]
  },
  {
   "cell_type": "markdown",
   "metadata": {},
   "source": [
    "Ошибка упала до 11% -- весьма неплохой результат. Поиграемся с классификатором на нескольких выдуманных предложениях."
   ]
  },
  {
   "cell_type": "markdown",
   "metadata": {},
   "source": [
    "Ставим вопрос: относится ли следующее предложение к теме новостей?"
   ]
  },
  {
   "cell_type": "code",
   "execution_count": 103,
   "metadata": {
    "collapsed": false
   },
   "outputs": [
    {
     "data": {
      "text/plain": [
       "False"
      ]
     },
     "execution_count": 103,
     "metadata": {},
     "output_type": "execute_result"
    }
   ],
   "source": [
    "classifier.classify(features('oh my God!'))"
   ]
  },
  {
   "cell_type": "code",
   "execution_count": 135,
   "metadata": {
    "collapsed": false
   },
   "outputs": [
    {
     "data": {
      "text/plain": [
       "True"
      ]
     },
     "execution_count": 135,
     "metadata": {},
     "output_type": "execute_result"
    }
   ],
   "source": [
    "classifier.classify(features('The President of Russia today met with Ambassador of Germany.'))"
   ]
  },
  {
   "cell_type": "code",
   "execution_count": 111,
   "metadata": {
    "collapsed": false
   },
   "outputs": [
    {
     "data": {
      "text/plain": [
       "True"
      ]
     },
     "execution_count": 111,
     "metadata": {},
     "output_type": "execute_result"
    }
   ],
   "source": [
    "classifier.classify(features('Russia.'))"
   ]
  },
  {
   "cell_type": "code",
   "execution_count": 134,
   "metadata": {
    "collapsed": false
   },
   "outputs": [
    {
     "data": {
      "text/plain": [
       "True"
      ]
     },
     "execution_count": 134,
     "metadata": {},
     "output_type": "execute_result"
    }
   ],
   "source": [
    "classifier.classify(features('The President today met with Ambassador of Germany.'))"
   ]
  },
  {
   "cell_type": "code",
   "execution_count": 113,
   "metadata": {
    "collapsed": false
   },
   "outputs": [
    {
     "data": {
      "text/plain": [
       "True"
      ]
     },
     "execution_count": 113,
     "metadata": {},
     "output_type": "execute_result"
    }
   ],
   "source": [
    "classifier.classify(features('Ambassador of Germany.'))"
   ]
  },
  {
   "cell_type": "code",
   "execution_count": 114,
   "metadata": {
    "collapsed": false
   },
   "outputs": [
    {
     "data": {
      "text/plain": [
       "True"
      ]
     },
     "execution_count": 114,
     "metadata": {},
     "output_type": "execute_result"
    }
   ],
   "source": [
    "classifier.classify(features('President today met.'))"
   ]
  },
  {
   "cell_type": "code",
   "execution_count": 115,
   "metadata": {
    "collapsed": false
   },
   "outputs": [
    {
     "data": {
      "text/plain": [
       "False"
      ]
     },
     "execution_count": 115,
     "metadata": {},
     "output_type": "execute_result"
    }
   ],
   "source": [
    "classifier.classify(features('I\\'m playing with my homework on machine learning.'))"
   ]
  },
  {
   "cell_type": "code",
   "execution_count": 119,
   "metadata": {
    "collapsed": false
   },
   "outputs": [
    {
     "data": {
      "text/plain": [
       "True"
      ]
     },
     "execution_count": 119,
     "metadata": {},
     "output_type": "execute_result"
    }
   ],
   "source": [
    "classifier.classify(features('Lol, what?'))"
   ]
  },
  {
   "cell_type": "code",
   "execution_count": 126,
   "metadata": {
    "collapsed": false
   },
   "outputs": [
    {
     "data": {
      "text/plain": [
       "True"
      ]
     },
     "execution_count": 126,
     "metadata": {},
     "output_type": "execute_result"
    }
   ],
   "source": [
    "sentence = 'The God today met with Ambassador of Germany.'\n",
    "classifier.classify(features(sentence))"
   ]
  },
  {
   "cell_type": "code",
   "execution_count": 131,
   "metadata": {
    "collapsed": false
   },
   "outputs": [
    {
     "data": {
      "text/plain": [
       "True"
      ]
     },
     "execution_count": 131,
     "metadata": {},
     "output_type": "execute_result"
    }
   ],
   "source": [
    "sentence4 =  ', blessed her and remember that she have to read Bible.'\n",
    "sentence2 = sentence[:-1] + sentence4\n",
    "classifier.classify(features(sentence2))"
   ]
  },
  {
   "cell_type": "code",
   "execution_count": 133,
   "metadata": {
    "collapsed": false
   },
   "outputs": [
    {
     "data": {
      "text/plain": [
       "False"
      ]
     },
     "execution_count": 133,
     "metadata": {},
     "output_type": "execute_result"
    }
   ],
   "source": [
    "classifier.classify(features('The God today met with her ' + sentence4))"
   ]
  },
  {
   "cell_type": "code",
   "execution_count": null,
   "metadata": {
    "collapsed": true
   },
   "outputs": [],
   "source": []
  }
 ],
 "metadata": {
  "kernelspec": {
   "display_name": "Python 3",
   "language": "python",
   "name": "python3"
  },
  "language_info": {
   "codemirror_mode": {
    "name": "ipython",
    "version": 3
   },
   "file_extension": ".py",
   "mimetype": "text/x-python",
   "name": "python",
   "nbconvert_exporter": "python",
   "pygments_lexer": "ipython3",
   "version": "3.4.3+"
  }
 },
 "nbformat": 4,
 "nbformat_minor": 0
}
