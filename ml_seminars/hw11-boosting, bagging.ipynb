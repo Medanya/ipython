{
 "cells": [
  {
   "cell_type": "markdown",
   "metadata": {},
   "source": [
    "<h1 align=\"center\">Organization Info</h1> \n",
    "\n",
    "**Дополнительный материал для выполнения дз**:\n",
    "- Hastie, The Elements of Statistical Learning, https://goo.gl/k3wfEU\n",
    "    - 2.9 Model Selection and the Bias–Variance Tradeoff \n",
    "    - 15 Random Forests\n",
    "    - 10 Boosting and Additive Trees 337\n",
    "- Andrew Ng, Bias vs. Variance, https://goo.gl/1ISZ6Y\n",
    "- Соколов, Семинары по композиционным методам, https://goo.gl/sn8RyJ, http://goo.gl/ajNTQy\n",
    "\n",
    "**Оформление дз**: \n",
    "- Необходимо прислать два файла - ipynb и его pdf-версию. Получить pdf-версию можно ”печатью страницы в файл”. Известно, что данная процедура корректно работает в Яндекс.Браузере и часто работает некорректно в Firefox.\n",
    "- Внимательно обратите внимание на полученную pdf-версию. Никакая информация не должна выходить за видимую область. Допускается ”разрезание” некоторой информации на два листа.\n",
    "- Присылайте выполненное задание на почту ``probability.diht@yandex.ru``\n",
    "- Укажите тему письма в следующем формате ``[ML 399] <фамилия> - <что за задание>``, к примеру -- ``[ML 399] Раздолбайников - Заданице 1``\n",
    "\n",
    "--------\n",
    "- **PS1**: Мы используем автоматические фильтры, и просто не найдем ваше дз, если вы не аккуратно его подпишите.\n",
    "- **PS2**: Напоминаем, что дедлайны жесткие, письма пришедшие после автоматически удаляются =( чтобы соблазна не было "
   ]
  },
  {
   "cell_type": "markdown",
   "metadata": {},
   "source": [
    "<h1 align=\"center\">Check Questions</h1> \n",
    "\n",
    "Ответьте кратко на вопросы своими словами (загугленный материал надо пересказать), ответ обоснуйте (напишите и ОБЪЯСНИТЕ формулки если потребуется). Если что-то не получается, вернитесь к лекции, семинару или дополнительным материалам.\n",
    "\n",
    "**Вопрос 1**: Чем отличается AdaBoost от XGBoost? Перечислите принципиальные отличия. \n",
    "\n",
    "Ответ: в AdaBoost функция потерь - экспоненциальная, в xgboost требуем только дифференцируемость. AdaBoost позволяет решать задачу классификации на два класса, xgboost - как задачи классификации, так и регрессии. \n",
    "\n",
    "\n",
    "**Вопрос 2**: Почему говорят, что AdaBoost неустойчив к выбросам?\n",
    "\n",
    "Ответ: Экспоненциальная функция потерь слишком сильно увеличивает веса наиболее трудных объектов, на которых ошибаются многие базовые алгоритмы. Зачастую именно эти объекты чаще всего оказываются шумовыми выбросами. В результате AdaBoost начинает настраиваться на шум, что ведёт к переобучению. \n",
    "\n",
    "**Вопрос 3**:  В каком пространстве градиентный бустинг совершает градиентный спуск? Какова размерность этого пространства?\n",
    "\n",
    "Ответ: Градиентный спуск совершается в пространстве класса функций (деревьев, линейных моделей и т.д.)\n",
    "\n",
    "**Вопрос 4**: В чем заключается сокращение шага в градиентном бустинге? Как число итераций, необходимое для сходимости, зависит от размера шага η?\n",
    "\n",
    "Ответ: Сокращение шага заключается в том, что на каждом шаге мы добавляем к композиции новый базовый алгоритм с некоторым коэффициентом $\\eta \\in (0, 1).$ Чем меньше $\\eta,$ тем больше нужно итераций градиентоного бустинга.\n",
    "\n",
    "**Вопрос 5**: Что такое стохастический градиентный бустинг?\n",
    "\n",
    "Ответ: Обучаем каждый новый базовый алгоритм не по всей выборке, а по случайной подвыборке.\n",
    "\n",
    "**Вопрос 6**: Какой смысл у шума, смещения, разброса?\n",
    "\n",
    "Ответ: Представляем качество алгоритма как сумму шума, смещения и разброса. Шум характеризует ошибку в данных, то есть невозможно построить алгоритм, у которого ошибка была бы меньше шума. Смещение характеризует среднее отклонение ответа алгоритма от идельного ответа. Разброс характеризует разброс ответов обученных алгоритмов относительнго среднего.\n",
    "\n",
    "**Вопрос 7**: Приведите пример функции, приближающей исходную зависимость, с маленьким смещением и большим разбросом. Приведите пример функции с большим смещением и маленьким разбросом.\n",
    "\n",
    "Ответ: маленькое смещение, большой разброс - $y(x) = 0, \\hat{y} = \\xi, \\xi \\sim N(0, 1000).$\n",
    "Большое смещение, маленький разброс - $y(x) = 0, \\hat{y} = \\xi, \\xi \\sim N(1000, 1).$\n",
    "\n",
    "**Вопрос 8**: Как сгенерировать бутстрепную выборку? Какая длина у нее длина?\n",
    "\n",
    "Ответ: Можно генерировать из эмпирического распределения, можно оценить параметры некоторого предполагаемого распределения и генерировать уже из него.\n",
    "\n",
    "**Вопрос 9**: Что такое бэггинг?\n",
    "\n",
    "Ответ: это метод построения композиций, при котором все компоненты обучаются на сгенерированных из начальной выборки подвыборках.\n",
    "\n",
    "**Вопрос 10**:  Как соотносятся смещение разброс композиции, построенной с помощью бэггинга, со смещением и разбросом одного базового алгоритма?\n",
    "\n",
    "Ответ: смещение композиции равно смещению одной компоненты, разброс композициии равен среднему разбросу компонент + средняя ковариация между компонентами * константу.\n",
    "\n",
    "**Вопрос 11**: Почему хорошими базовыми алгоритмами для бэггинга являются именно деревья?\n",
    "\n",
    "Ответ: Так как они мало слабо коррелируют между собой, если обучать их на разных подвыборках => разброс композиции деревьев относительно невелик (см вопрос 10)\n",
    "\n",
    "-----------\n",
    "PS: Если проверяющий не понял ответ на большинство вопросов, то будет пичалька. Пишите так, чтобы можно было разобраться. "
   ]
  },
  {
   "cell_type": "markdown",
   "metadata": {},
   "source": [
    "<h1 align=\"center\">Теоретические задачи</h1> \n",
    "\n",
    "Решение можно написать здесь. А можно и на листочке понятным почерком. В таком случае нужно выслать его скан или принести на семинар.\n",
    "\n",
    "**Задача 1.** Пусть $X_1, ..., X_n$ --- одномерная выборка. Рассмотрим класс функций $\\mathscr{F} = \\{f_{x_0}^{s}(x)\\ \\left| \\ x_0 \\in \\mathbb{R}, s \\in \\{+, -\\} \\right.\\}$, где $f^+_{x_0}(x) = I\\{x > x_0\\}$ и $f^-_{x_0}(x) = I\\{x < x_0\\}$.\n",
    "Покажите, что при любых $Y_1, ..., Y_n$, где $Y_i \\in \\{-1, +1\\}$, существует композиция вида\n",
    "$$F(x) = sign \\sum\\limits_{t=1}^{2n+2} \\alpha_t f_t(x),\\ \\ \\ \\alpha \\in \\mathbb{R},\\ f_t \\in \\mathscr{F},$$\n",
    "не допускающая ошибок на обучающей выборке.\n",
    "\n",
    "**Задача 2.** Найдите градиент логистической функции потерь $\\mathscr{L} (y_1, y_2) = \\log \\left(1 + e^{-y_1 y_2} \\right)$ для фиксированного объекта.\n",
    "\n",
    "**Задача 3.** Известно, что бэггинг плохо работает, если в качестве базовых классификаторов взять kNN. Попробуем понять причины на простом примере.\n",
    "\n",
    "Пусть дана выборка $(X_1, Y_1), ..., (X_n, Y_n)$, причем $Y \\in \\{−1, +1\\}$. Будем рассматривать классификатор одного ближайшего соседа в качестве компоненты смеси. Построим с помощью бэггинга композицию длины $T$:\n",
    "$$F(x) = sign \\sum\\limits_{t=1}^{T} f_t(x) $$\n",
    "Оцените вероятность того, что ответ композиции на произвольном объекте $X$ будет отличаться от ответа одного классификатора ближайшего соседа, обученного по всей выборке. Покажите, что эта вероятность стремится к нулю при $T \\to \\infty$.\n",
    "\n",
    "-----\n",
    "**Решение.**\n",
    "1. По индукции. Упорядочим все X_i. Для n = 1 - верно. Переход индукции. Пусть построили для $\\{X_{1}, \\ldots, X_{n}\\}$ композицию $F(x) = \\sum\\limits_{i=1}^{2n+2}\\alpha_{i}x_{i},$ не дающую ошибок на выборке. Пусть $F(X_i) = \\hat{Y_i}$, $sign(\\hat{Y_i}) = Y_i.$ Добавляем $X_{n+1}, Y_{n+1}$, $X_{n+1} > X_i, i \\in \\{1, \\ldots, n\\}$. Берем новый $x_0: X_{n+1} > x_0, x_0 > X_{i}, i \\in \\{1, \\ldots , n\\}, \\alpha_{n+1}: sign\\ \\alpha_{n+1} + \\sum\\limits_{i=1}^{n} \\alpha_{i} = Y_{n+1},$ добавляем компоненту $\\alpha_{n+1}I(x > x_{0})$ в композицию.\n",
    "\n",
    "2. $\\frac{d\\mathscr{L}(y1,y2)}{dy2} = \\frac{-y1}{1 + e^{-y_1 y_2}}$\n",
    "\n",
    "3. "
   ]
  },
  {
   "cell_type": "markdown",
   "metadata": {},
   "source": [
    "<h1 align=\"center\">Binary Boosting Implementation</h1> \n",
    "\n",
    "Нужно реализовать двухклассовый бустинг с логистичиской функцией потерь. \n",
    "\n",
    "Длину шага -- или используйте $1.0*lr$ или подбирайте одномерной оптимизацией;"
   ]
  },
  {
   "cell_type": "code",
   "execution_count": 1,
   "metadata": {
    "collapsed": false
   },
   "outputs": [],
   "source": [
    "%matplotlib inline\n",
    "\n",
    "import warnings\n",
    "import numpy as np\n",
    "import pandas as pd\n",
    "from copy import deepcopy\n",
    "from utils import plot_surface\n",
    "from sklearn.tree import DecisionTreeRegressor\n",
    "from sklearn.cross_validation import cross_val_score\n",
    "from sklearn.base import ClassifierMixin, BaseEstimator\n",
    "from sklearn.ensemble import GradientBoostingClassifier\n",
    "\n",
    "warnings.simplefilter(\"ignore\")"
   ]
  },
  {
   "cell_type": "code",
   "execution_count": 2,
   "metadata": {
    "collapsed": false
   },
   "outputs": [],
   "source": [
    "class BinaryBoostingClassifier(BaseEstimator, ClassifierMixin):\n",
    "    def __init__(self, base_estimator, n_estimators, lr=0.1):\n",
    "        \"\"\"\n",
    "        Parameters\n",
    "        ----------\n",
    "        base_estimator: sklearn.Classifier\n",
    "            Компонента для смеси, которую можно обучить (есть метод fit).\n",
    "            Для обучение композиции нужно много таких, можно получить с помощю copy.deepcopy\n",
    "\n",
    "        n_estimators: int\n",
    "            Число компонент в композиции\n",
    "\n",
    "        lr: float > 0\n",
    "            Шаг обучения\n",
    "        \"\"\"\n",
    "        \n",
    "        self.lr = lr   \n",
    "        self.n_estimators = n_estimators\n",
    "        self.base_estimator = base_estimator\n",
    "    \n",
    "    def loss_grad(self, original_y, pred_y):\n",
    "        return  -original_y / (1. + np.exp(- original_y * pred_y))\n",
    "        \n",
    "    def fit(self, X, original_y):\n",
    "        \"\"\"\n",
    "        Метод должен обучить композицию, используя X, y как обучающую выборку.\n",
    "\n",
    "        Parameters\n",
    "        ----------\n",
    "        X: 2d np.array\n",
    "        y: 1d np.array\n",
    "        \"\"\"\n",
    "        \n",
    "        # Храните компоненты смеси тут\n",
    "        self.estimators_ = [] \n",
    "        \n",
    "        for i in range(self.n_estimators):\n",
    "            grad = self.loss_grad(original_y, self._predict(X))\n",
    "            # Настройте классификатор на антиградиент\n",
    "            estimator = self.base_estimator().fit(X, -grad)\n",
    "            self.estimators_.append(estimator)\n",
    "        \n",
    "        self.out_ = self.outliers(X, original_y)\n",
    "\n",
    "        return self\n",
    "    \n",
    "    def _predict(self, X):\n",
    "        y_pred = np.sum(np.array([est.predict(X) for est in self.estimators_]), axis=0)\n",
    "        # <Получите ответ композиции до применения решающего правила>\n",
    "        return y_pred\n",
    "    \n",
    "    def predict(self, X):\n",
    "        y_pred = 2 * (self._predict(X) > 0) - 1.\n",
    "        # <примените к self._predict решающее правило>\n",
    "        return y_pred\n",
    "    \n",
    "    def outliers(self, X, original_y, k=100):\n",
    "        prediction = self._predict(X)\n",
    "        margins = list(enumerate(prediction * original_y))\n",
    "        margins.sort(key=lambda x: -x[1])\n",
    "        return [X[item[0]] for item in margins[:k]], [original_y[item[0]] for item in margins[:k]]\n",
    "        # Топ-k объектов с большим отрицательным отступом (M = F(X) * Y)"
   ]
  },
  {
   "cell_type": "markdown",
   "metadata": {},
   "source": [
    "<h1 align=\"center\">Simple test</h1> "
   ]
  },
  {
   "cell_type": "code",
   "execution_count": 3,
   "metadata": {
    "collapsed": true
   },
   "outputs": [],
   "source": [
    "import matplotlib.pyplot as plt\n",
    "from sklearn.datasets import make_classification\n",
    "from sklearn.tree import DecisionTreeRegressor\n",
    "\n",
    "X, y = make_classification(n_samples=500, n_features=2,\n",
    "                           n_informative=2, n_redundant=0, n_repeated=0,\n",
    "                           n_classes=2, n_clusters_per_class=2,\n",
    "                           flip_y=0.05, class_sep=0.8, random_state=241)\n",
    "y = 2 * (y - 0.5)"
   ]
  },
  {
   "cell_type": "code",
   "execution_count": 4,
   "metadata": {
    "collapsed": false
   },
   "outputs": [
    {
     "data": {
      "image/png": "[encoded data removed]",
      "text/plain": [
       "<matplotlib.figure.Figure at 0x7f61c96015d0>"
      ]
     },
     "metadata": {},
     "output_type": "display_data"
    }
   ],
   "source": [
    "clf = BinaryBoostingClassifier(DecisionTreeRegressor, n_estimators=100).fit(X, y)\n",
    "plot_surface(X, y, clf)"
   ]
  },
  {
   "cell_type": "markdown",
   "metadata": {},
   "source": [
    "<h1 align=\"center\">Outliers</h1> \n"
   ]
  },
  {
   "cell_type": "code",
   "execution_count": 5,
   "metadata": {
    "collapsed": false
   },
   "outputs": [
    {
     "data": {
      "image/png": "[encoded data removed]",
      "text/plain": [
       "<matplotlib.figure.Figure at 0x7f61f84184d0>"
      ]
     },
     "metadata": {},
     "output_type": "display_data"
    }
   ],
   "source": [
    "X_out, y_out = clf.out_\n",
    "plot_surface(np.array(X_out), np.array(y_out), clf)"
   ]
  },
  {
   "cell_type": "markdown",
   "metadata": {},
   "source": [
    "<h1 align=\"center\">Adult test</h1> "
   ]
  },
  {
   "cell_type": "code",
   "execution_count": 6,
   "metadata": {
    "collapsed": false
   },
   "outputs": [
    {
     "name": "stdout",
     "output_type": "stream",
     "text": [
      "  % Total    % Received % Xferd  Average Speed   Time    Time     Time  Current\n",
      "                                 Dload  Upload   Total   Spent    Left  Speed\n",
      "100 3881k  100 3881k    0     0   413k      0  0:00:09  0:00:09 --:--:--  674k\n",
      "  % Total    % Received % Xferd  Average Speed   Time    Time     Time  Current\n",
      "                                 Dload  Upload   Total   Spent    Left  Speed\n",
      "100  162M  100  162M    0     0  1211k      0  0:02:17  0:02:17 --:--:-- 1656k\n",
      "cifar-10-batches-py/\n",
      "cifar-10-batches-py/data_batch_4\n",
      "cifar-10-batches-py/readme.html\n",
      "cifar-10-batches-py/test_batch\n",
      "cifar-10-batches-py/data_batch_3\n",
      "cifar-10-batches-py/batches.meta\n",
      "cifar-10-batches-py/data_batch_2\n",
      "cifar-10-batches-py/data_batch_5\n",
      "cifar-10-batches-py/data_batch_1\n"
     ]
    }
   ],
   "source": [
    "!sh ./get_data.sh"
   ]
  },
  {
   "cell_type": "code",
   "execution_count": 7,
   "metadata": {
    "collapsed": true
   },
   "outputs": [],
   "source": [
    "adult = pd.read_csv(\n",
    "    './data/adult.data', \n",
    "    names=[\n",
    "        \"Age\", \"Workclass\", \"fnlwgt\", \"Education\", \"Education-Num\", \"Martial Status\",\n",
    "        \"Occupation\", \"Relationship\", \"Race\", \"Sex\", \"Capital Gain\", \"Capital Loss\",\n",
    "        \"Hours per week\", \"Country\", \"Target\"], \n",
    "    header=None, na_values=\"?\")\n",
    "adult = pd.get_dummies(adult)\n",
    "adult[\"Target\"] = adult[\"Target_ >50K\"]"
   ]
  },
  {
   "cell_type": "code",
   "execution_count": 8,
   "metadata": {
    "collapsed": false
   },
   "outputs": [],
   "source": [
    "X, y = adult[adult.columns[:-3]].values, adult[adult.columns[-1]].values\n",
    "y = 2 * y - 1 "
   ]
  },
  {
   "cell_type": "code",
   "execution_count": 9,
   "metadata": {
    "collapsed": true
   },
   "outputs": [],
   "source": [
    "from sklearn.cross_validation import train_test_split\n",
    "X_train, X_test, y_train, y_test = train_test_split(X, y)"
   ]
  },
  {
   "cell_type": "code",
   "execution_count": 10,
   "metadata": {
    "collapsed": false
   },
   "outputs": [
    {
     "data": {
      "text/plain": [
       "0.17725095197150231"
      ]
     },
     "execution_count": 10,
     "metadata": {},
     "output_type": "execute_result"
    }
   ],
   "source": [
    "from sklearn.metrics import zero_one_loss\n",
    "clf = BinaryBoostingClassifier(DecisionTreeRegressor, n_estimators=50).fit(X_train, y_train)\n",
    "zero_one_loss(y_test, clf.predict(X_test))"
   ]
  },
  {
   "cell_type": "code",
   "execution_count": 11,
   "metadata": {
    "collapsed": false
   },
   "outputs": [
    {
     "data": {
      "text/plain": [
       "0.14162879253162997"
      ]
     },
     "execution_count": 11,
     "metadata": {},
     "output_type": "execute_result"
    }
   ],
   "source": [
    "from sklearn.ensemble import GradientBoostingClassifier\n",
    "clf2 = GradientBoostingClassifier(n_estimators=50).fit(X_train, y_train)\n",
    "zero_one_loss(y_test, clf2.predict(X_test))"
   ]
  },
  {
   "cell_type": "markdown",
   "metadata": {},
   "source": [
    "Вывод: своя реализация уступила реализации sklearnа на 3%, то есть в принципе вполне конкурентноспособна."
   ]
  },
  {
   "cell_type": "markdown",
   "metadata": {},
   "source": [
    "<h1 align=\"center\">Text classification</h1> \n",
    "\n",
    "- Найдите двухклассовый текстовый датасет (в качестве примера sentiment analysis) или возьмите многоклассовый и классифцируйте один клас против остальных\n",
    "- Попробуйте бустинг на решающих деревьях, в качестве фичей используйте tf-idf и svd/random_projection/hashing_trick, что работает лучше? Сравните качество и время работы."
   ]
  },
  {
   "cell_type": "code",
   "execution_count": 12,
   "metadata": {
    "collapsed": false
   },
   "outputs": [],
   "source": [
    "import sklearn\n",
    "from sklearn.feature_extraction.text import TfidfVectorizer"
   ]
  },
  {
   "cell_type": "code",
   "execution_count": 33,
   "metadata": {
    "collapsed": false
   },
   "outputs": [],
   "source": [
    "data = sklearn.datasets.fetch_20newsgroups(categories=['comp.sys.mac.hardware', 'rec.sport.baseball'])"
   ]
  },
  {
   "cell_type": "markdown",
   "metadata": {},
   "source": [
    "### Tf_idf"
   ]
  },
  {
   "cell_type": "code",
   "execution_count": 39,
   "metadata": {
    "collapsed": false
   },
   "outputs": [
    {
     "name": "stdout",
     "output_type": "stream",
     "text": [
      "(1175, 17444) (1175,)\n"
     ]
    }
   ],
   "source": [
    "vectorizer = TfidfVectorizer()\n",
    "X = vectorizer.fit_transform(data.data)\n",
    "y = 2 * data.target - 1\n",
    "\n",
    "X_train, X_test, y_train, y_test = train_test_split(X, y)\n",
    "print X.shape, y.shape"
   ]
  },
  {
   "cell_type": "code",
   "execution_count": 43,
   "metadata": {
    "collapsed": false,
    "scrolled": true
   },
   "outputs": [
    {
     "name": "stdout",
     "output_type": "stream",
     "text": [
      "CPU times: user 15.3 s, sys: 0 ns, total: 15.3 s\n",
      "Wall time: 15.3 s\n"
     ]
    }
   ],
   "source": [
    "%%time\n",
    "clf = BinaryBoostingClassifier(DecisionTreeRegressor, n_estimators=100).fit(X_train, y_train)"
   ]
  },
  {
   "cell_type": "code",
   "execution_count": 46,
   "metadata": {
    "collapsed": false
   },
   "outputs": [
    {
     "name": "stdout",
     "output_type": "stream",
     "text": [
      "binary classifier + vectoizer score: 0.880952380952\n"
     ]
    }
   ],
   "source": [
    "print \"binary classifier + vectoizer score: {}\".format(1 - zero_one_loss(y_test, clf.predict(X_test)))"
   ]
  },
  {
   "cell_type": "markdown",
   "metadata": {},
   "source": [
    "### Tf_idf + svd"
   ]
  },
  {
   "cell_type": "code",
   "execution_count": 53,
   "metadata": {
    "collapsed": false
   },
   "outputs": [],
   "source": [
    "from sklearn.decomposition import TruncatedSVD\n",
    "\n",
    "svd = TruncatedSVD(n_components=600)\n",
    "X_train_svd = svd.fit_transform(X_train)"
   ]
  },
  {
   "cell_type": "code",
   "execution_count": 54,
   "metadata": {
    "collapsed": false
   },
   "outputs": [
    {
     "data": {
      "text/plain": [
       "0.90611481400830174"
      ]
     },
     "execution_count": 54,
     "metadata": {},
     "output_type": "execute_result"
    }
   ],
   "source": [
    "svd.explained_variance_ratio_.sum()"
   ]
  },
  {
   "cell_type": "code",
   "execution_count": 57,
   "metadata": {
    "collapsed": false
   },
   "outputs": [
    {
     "name": "stdout",
     "output_type": "stream",
     "text": [
      "CPU times: user 23.5 s, sys: 0 ns, total: 23.5 s\n",
      "Wall time: 23.5 s\n"
     ]
    }
   ],
   "source": [
    "%%time\n",
    "clf = BinaryBoostingClassifier(DecisionTreeRegressor, n_estimators=100).fit(X_train_svd, y_train)"
   ]
  },
  {
   "cell_type": "code",
   "execution_count": 59,
   "metadata": {
    "collapsed": false
   },
   "outputs": [
    {
     "name": "stdout",
     "output_type": "stream",
     "text": [
      "binary classifier + vectoizer score + svd: 0.962585034014\n"
     ]
    }
   ],
   "source": [
    "X_test_svd = svd.transform(X_test)\n",
    "print \"binary classifier + vectoizer score + svd: {}\".format(1 - zero_one_loss(y_test, clf.predict(X_test_svd)))"
   ]
  },
  {
   "cell_type": "markdown",
   "metadata": {},
   "source": [
    "### Tf_idf + random_projection"
   ]
  },
  {
   "cell_type": "code",
   "execution_count": 60,
   "metadata": {
    "collapsed": true
   },
   "outputs": [],
   "source": [
    "from sklearn.random_projection import johnson_lindenstrauss_min_dim, GaussianRandomProjection"
   ]
  },
  {
   "cell_type": "code",
   "execution_count": 62,
   "metadata": {
    "collapsed": false
   },
   "outputs": [
    {
     "name": "stdout",
     "output_type": "stream",
     "text": [
      "enough dim size for X_train: 5812\n"
     ]
    }
   ],
   "source": [
    "print \"enough dim size for X_train: {}\".format(johnson_lindenstrauss_min_dim(X_train.shape[0]))"
   ]
  },
  {
   "cell_type": "code",
   "execution_count": 68,
   "metadata": {
    "collapsed": false
   },
   "outputs": [],
   "source": [
    "prod_gaus = GaussianRandomProjection(n_components=5820)\n",
    "prod_gaus.fit(X_train)\n",
    "X_train_rand_pr_gaus = prod_gaus.transform(X_train)\n",
    "X_test_rand_pr_gaus = prod_gaus.transform(X_test)"
   ]
  },
  {
   "cell_type": "code",
   "execution_count": 70,
   "metadata": {
    "collapsed": false
   },
   "outputs": [
    {
     "name": "stdout",
     "output_type": "stream",
     "text": [
      "CPU times: user 6min 5s, sys: 48 ms, total: 6min 5s\n",
      "Wall time: 6min 5s\n"
     ]
    }
   ],
   "source": [
    "%%time\n",
    "clf = BinaryBoostingClassifier(DecisionTreeRegressor, n_estimators=100).fit(X_train_rand_pr_gaus, y_train)"
   ]
  },
  {
   "cell_type": "code",
   "execution_count": 72,
   "metadata": {
    "collapsed": false
   },
   "outputs": [
    {
     "name": "stdout",
     "output_type": "stream",
     "text": [
      "bin boost + tf-idf + gauss random projection: 0.673469387755\n"
     ]
    }
   ],
   "source": [
    "print \"bin boost + tf-idf + gauss random projection: {}\".format(1 - zero_one_loss(y_test, \n",
    "                                                                                  clf.predict(X_test_rand_pr_gaus)))"
   ]
  },
  {
   "cell_type": "markdown",
   "metadata": {},
   "source": [
    "Вывод: подход tfidf + svd работает лучше всего и дает 96% точность на тесте."
   ]
  },
  {
   "cell_type": "markdown",
   "metadata": {},
   "source": [
    "<h1 align=\"center\">Bagging Implementation</h1> \n",
    "\n",
    "Реализуйте беггинг"
   ]
  },
  {
   "cell_type": "code",
   "execution_count": null,
   "metadata": {
    "collapsed": true
   },
   "outputs": [],
   "source": [
    "import warnings\n",
    "\n",
    "import numpy as np\n",
    "from copy import deepcopy\n",
    "from sklearn.base import ClassifierMixin, BaseEstimator\n",
    "from scipy.stats import randint\n",
    "\n",
    "warnings.simplefilter(\"ignore\")\n",
    "\n",
    "\n",
    "class BaggingClassifier(BaseEstimator, ClassifierMixin):\n",
    "    def __init__(self, base_estimator, n_estimators, items_rate=1.0, features_rate=1.0):\n",
    "        \"\"\"\n",
    "        Parameters\n",
    "        ----------\n",
    "        base_estimator: sklearn.Classifier\n",
    "            Компонента для смеси, которую можно обучить (есть метод fit).\n",
    "            Для обучение композиции нужно много таких, можно получить с помощю copy.deepcopy\n",
    "\n",
    "        n_estimators: int\n",
    "            Число компонент в композиции\n",
    "\n",
    "        items_rate: float > 0\n",
    "            Размер выборки по которой будет производиться обучение\n",
    "\n",
    "        features_rate: float > 0\n",
    "            Доля фичей, на которой будет обучаться и применяться каждая компонента\n",
    "        \"\"\"\n",
    "        self.base_estimator = base_estimator\n",
    "        self.n_estimators = n_estimators\n",
    "        self.items_rate = items_rate\n",
    "        self.features_rate = features_rate\n",
    "\n",
    "    def fit(self, X, y):\n",
    "        \"\"\"\n",
    "        Метод должен обучить композицию, используя X, y как обучающую выборку.\n",
    "        Не забудьте реализовать функционал выбора случайных объектов (с повторениями) и фичей.\n",
    "\n",
    "        Parameters\n",
    "        ----------\n",
    "        X: 2d np.array\n",
    "        y: 1d np.array\n",
    "        \"\"\"\n",
    "\n",
    "        # Тут храните обеченные [:)] компоненты\n",
    "        self.estimators = []\n",
    "\n",
    "        # Тут храните фичи для каждой компоненты\n",
    "        self.features_idx = []\n",
    "\n",
    "        for i in range(self.n_estimators):\n",
    "            estimator = deepcopy(self.base_estimator)\n",
    "            # =======================================\n",
    "            # Обучите компоненты смеси\n",
    "            # =======================================\n",
    "            ...\n",
    "        \n",
    "        return self\n",
    "\n",
    "    def predict(self, X):\n",
    "        \"\"\"\n",
    "\n",
    "        Parameters\n",
    "        ----------\n",
    "        X: 2d np.array матрица объекты-признаки на которых нужно сказать ответ\n",
    "\n",
    "        Returns\n",
    "        -------\n",
    "        y_pred: 1d np.array, вектор классов для каждого объекта\n",
    "        \"\"\"\n",
    "        \n",
    "        probs = []  # Храните тут ответы каждой компоненты\n",
    "        \n",
    "        for i in range(self.n_estimators):\n",
    "            # =======================================\n",
    "            # Получите ответы (вероятности) от всех компонент\n",
    "            # ======================================\n",
    "            ...\n",
    "\n",
    "        # =======================================\n",
    "        # Усредните вероятности полученные от этих компонент\n",
    "        # =======================================\n",
    "        y_pred = ...\n",
    "        \n",
    "        return y_pred"
   ]
  },
  {
   "cell_type": "markdown",
   "metadata": {},
   "source": [
    "### Titanic Test"
   ]
  },
  {
   "cell_type": "code",
   "execution_count": null,
   "metadata": {
    "collapsed": true
   },
   "outputs": [],
   "source": [
    "import numpy as np\n",
    "import pandas as pd\n",
    "from sklearn.preprocessing import LabelEncoder\n",
    "\n",
    "titanic = pd.read_csv('./data/train.csv')[['Survived', 'Pclass', 'Sex', 'Age', 'Fare']]\n",
    "\n",
    "sex_encoder = LabelEncoder()\n",
    "titanic.Sex = sex_encoder.fit_transform(titanic.Sex)\n",
    "features = ['Pclass', 'Sex', 'Age', 'Fare']"
   ]
  },
  {
   "cell_type": "code",
   "execution_count": null,
   "metadata": {
    "collapsed": true
   },
   "outputs": [],
   "source": [
    "X, y = titanic[features].values, titanic.Survived.values\n",
    "X = np.nan_to_num(X)\n",
    "X_train, y_train, X_test, y_test = X[:500], y[:500], X[500:], y[500:]"
   ]
  },
  {
   "cell_type": "markdown",
   "metadata": {},
   "source": [
    "Нужно обучить свой беггинг на датасете титаник, и посмотреть работает ли он. "
   ]
  },
  {
   "cell_type": "code",
   "execution_count": null,
   "metadata": {
    "collapsed": true
   },
   "outputs": [],
   "source": [
    "from sklearn.metrics import accuracy_score\n",
    "from sklearn.tree import DecisionTreeClassifier"
   ]
  },
  {
   "cell_type": "code",
   "execution_count": null,
   "metadata": {
    "collapsed": true
   },
   "outputs": [],
   "source": [
    "# =======================================\n",
    "# Обучите беггинг над DecisionTreeClassifier с 10 моделями\n",
    "# =======================================\n",
    "clf = ...\n",
    "print(accuracy_score(clf.predict(X_train), y_train), accuracy_score(clf.predict(X_test), y_test))"
   ]
  },
  {
   "cell_type": "markdown",
   "metadata": {},
   "source": [
    "Проведите эксперименты:\n",
    "    - Работает-ли беггинг лучше чем просто линейная модель?\n",
    "    - Какой items_rate и features_rate работает лучше и почему?"
   ]
  },
  {
   "cell_type": "code",
   "execution_count": null,
   "metadata": {
    "collapsed": true
   },
   "outputs": [],
   "source": [
    "# =======================================\n",
    "# Обучите беггинг над DecisionTreeClassifier с 100 моделями\n",
    "# =======================================\n",
    "clf = ...\n",
    "print(accuracy_score(clf.predict(X_train), y_train), accuracy_score(clf.predict(X_test), y_test))"
   ]
  },
  {
   "cell_type": "code",
   "execution_count": null,
   "metadata": {
    "collapsed": true
   },
   "outputs": [],
   "source": [
    "# =======================================\n",
    "# Обучите LogsiticRegression \n",
    "# =======================================\n",
    "clf = ...\n",
    "print(accuracy_score(clf.predict(X_train), y_train), accuracy_score(clf.predict(X_test), y_test))"
   ]
  },
  {
   "cell_type": "markdown",
   "metadata": {},
   "source": [
    "Ответьте на вопросы:\n",
    "    - Работает-ли беггинг лучше чем просто линейная модель?\n",
    "    - Какой items_rate и features_rate работает лучше и почему?"
   ]
  },
  {
   "cell_type": "markdown",
   "metadata": {},
   "source": [
    "<h1 align=\"center\">Text, Image Classification</h1> \n",
    "\n",
    "Дальше в каждом эксперименте нужно: \n",
    "- сравниться с линейной моделью ( какую лучше выбрать?=) )\n",
    "- сделать выбор в пользу одной из моделей\n",
    "- выбор обосновать, почему одна из моделей хуже а другая лучше\n",
    "- что такое хуже и лучше\n",
    "- попробуйте беггинг над деревьями и линейными моделями \n",
    "- почему работает или не работает, какие особенности данных на это влияют\n",
    "\n",
    "### Text classification"
   ]
  },
  {
   "cell_type": "code",
   "execution_count": null,
   "metadata": {
    "collapsed": true
   },
   "outputs": [],
   "source": [
    "from sklearn.datasets import fetch_20newsgroups\n",
    "from sklearn.feature_extraction.text import TfidfVectorizer\n",
    "newsgroups_train = fetch_20newsgroups(subset='train')\n",
    "newsgroups_test = fetch_20newsgroups(subset='test')"
   ]
  },
  {
   "cell_type": "code",
   "execution_count": null,
   "metadata": {
    "collapsed": true
   },
   "outputs": [],
   "source": [
    "vectorizer = TfidfVectorizer()\n",
    "X_train, y_train = vectorizer.fit_transform(newsgroups_train.data), newsgroups_train.target\n",
    "X_test,  y_test  = vectorizer.transform(newsgroups_test.data), newsgroups_test.target"
   ]
  },
  {
   "cell_type": "code",
   "execution_count": null,
   "metadata": {
    "collapsed": true
   },
   "outputs": [],
   "source": [
    "%%time\n",
    "# =======================================\n",
    "# Обучите Линейную модель \n",
    "# =======================================\n",
    "from sklearn.linear_model import ?\n",
    "\n",
    "clf = ...\n",
    "print(accuracy_score(clf.predict(X_train), y_train), accuracy_score(clf.predict(X_test), y_test))"
   ]
  },
  {
   "cell_type": "code",
   "execution_count": null,
   "metadata": {
    "collapsed": true
   },
   "outputs": [],
   "source": [
    "%%time\n",
    "# =======================================\n",
    "# Обучите беггинг над DecisionTreeClassifier\n",
    "# =======================================\n",
    "\n",
    "clf = ..\n",
    "print(accuracy_score(clf.predict(X_train), y_train), accuracy_score(clf.predict(X_test), y_test))"
   ]
  },
  {
   "cell_type": "markdown",
   "metadata": {},
   "source": [
    "### Image classification"
   ]
  },
  {
   "cell_type": "code",
   "execution_count": null,
   "metadata": {
    "collapsed": true
   },
   "outputs": [],
   "source": [
    "from utils import load_cifar10\n",
    "X_train, y_train, X_val, y_val, X_test, y_test = load_cifar10('./data/cifar10')[0]"
   ]
  },
  {
   "cell_type": "code",
   "execution_count": null,
   "metadata": {
    "collapsed": true
   },
   "outputs": [],
   "source": [
    "X_train, X_test = X_train.reshape(X_train.shape[0], -1), X_test.reshape(X_test.shape[0], -1)"
   ]
  },
  {
   "cell_type": "code",
   "execution_count": null,
   "metadata": {
    "collapsed": true
   },
   "outputs": [],
   "source": [
    "%%time\n",
    "# =======================================\n",
    "# Обучите Линейную модель \n",
    "# ======================================="
   ]
  },
  {
   "cell_type": "code",
   "execution_count": null,
   "metadata": {
    "collapsed": true
   },
   "outputs": [],
   "source": [
    "%%time\n",
    "# =======================================\n",
    "# Обучите беггинг над DecisionTreeClassifier\n",
    "# ======================================="
   ]
  },
  {
   "cell_type": "markdown",
   "metadata": {},
   "source": [
    "<h1 align=\"center\">Bonus part</h1> \n",
    "\n",
    "Это удвоит баллы за дз.\n",
    "\n",
    "- Реализуйте мультиклассовый бустинг -- проверьте на CIFAR10 + SVD\n",
    "- Попробуйте различные функции потерь, придумайте несколько своих, удалось ли обойти логистичискую и экспоненциальную?"
   ]
  }
 ],
 "metadata": {
  "kernelspec": {
   "display_name": "Python 2",
   "language": "python",
   "name": "python2"
  },
  "language_info": {
   "codemirror_mode": {
    "name": "ipython",
    "version": 2
   },
   "file_extension": ".py",
   "mimetype": "text/x-python",
   "name": "python",
   "nbconvert_exporter": "python",
   "pygments_lexer": "ipython2",
   "version": "2.7.10"
  }
 },
 "nbformat": 4,
 "nbformat_minor": 0
}
