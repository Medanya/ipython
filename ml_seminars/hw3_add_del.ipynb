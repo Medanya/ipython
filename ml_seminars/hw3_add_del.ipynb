{
 "cells": [
  {
   "cell_type": "code",
   "execution_count": 1,
   "metadata": {
    "collapsed": false
   },
   "outputs": [],
   "source": [
    "import sklearn.datasets, sklearn.cross_validation\n",
    "import numpy as np\n",
    "import sklearn.metrics\n",
    "import copy"
   ]
  },
  {
   "cell_type": "code",
   "execution_count": 2,
   "metadata": {
    "collapsed": false
   },
   "outputs": [],
   "source": [
    "X = sklearn.datasets.load_boston().data \n",
    "y = sklearn.datasets.load_boston().target"
   ]
  },
  {
   "cell_type": "code",
   "execution_count": 3,
   "metadata": {
    "collapsed": true
   },
   "outputs": [],
   "source": [
    "X = np.array([np.array(list(x) + [1.]) for x in X])"
   ]
  },
  {
   "cell_type": "code",
   "execution_count": 4,
   "metadata": {
    "collapsed": true
   },
   "outputs": [],
   "source": [
    "BIG_CONSTANT = 10000"
   ]
  },
  {
   "cell_type": "code",
   "execution_count": 5,
   "metadata": {
    "collapsed": false
   },
   "outputs": [],
   "source": [
    "def predict(x_train, y_train, X_test, l=0.1):\n",
    "    X = np.matrix(x_train)\n",
    "    Y = np.matrix(y_train).T\n",
    "    X_test_matrix = np.matrix(X_test)\n",
    "    A = np.dot(X.T,X)\n",
    "    A = A + l * np.eye(A.shape[0])\n",
    "    A = A.getI()\n",
    "    a = np.dot(A, np.dot(X.T, Y))\n",
    "    #print np.array(np.dot(X_test_matrix, a))[:,0]\n",
    "    return (np.dot(X_test_matrix, a).ravel()).tolist()"
   ]
  },
  {
   "cell_type": "code",
   "execution_count": 6,
   "metadata": {
    "collapsed": false
   },
   "outputs": [],
   "source": [
    "def add_algorithm_of_choosing_features(X, y, enough_improvment=1., number_folds=20, eye_addition = 0.01):\n",
    "    kf = sklearn.cross_validation.KFold(len(X), n_folds=number_folds)\n",
    "    number_features = len(X[0])\n",
    "    current_feature_set = []\n",
    "    total_loss = [0]\n",
    "    current_improvment = BIG_CONSTANT\n",
    "    while current_improvment > enough_improvment:\n",
    "        remaining_features = list(set(range(number_features)).difference(set(current_feature_set)))\n",
    "        remaining_features.sort()\n",
    "        after_add_feature_loss = []\n",
    "\n",
    "        for feature in remaining_features:\n",
    "            feature_loss = []\n",
    "            curr_features = current_feature_set + [feature]\n",
    "            curr_features.sort()\n",
    "            \n",
    "            for train_index, test_index in kf:\n",
    "                X_train, X_test = X[train_index], X[test_index]\n",
    "                X_train, X_test = X_train[:, curr_features], X_test[:, curr_features]\n",
    "                y_train, y_test = y[train_index], y[test_index]\n",
    "                y_predict = predict(X_train, y_train, X_test, l = eye_addition)\n",
    "                feature_loss.append(np.mean((y_predict - y_test) ** 2))\n",
    "\n",
    "            after_add_feature_loss.append(np.mean(feature_loss))\n",
    "\n",
    "        total_loss.append(min(after_add_feature_loss))\n",
    "        current_feature_set.append(remaining_features[after_add_feature_loss.index(min(after_add_feature_loss))])\n",
    "        current_feature_set.sort()\n",
    "        current_improvment = total_loss[-1] - total_loss[-2]\n",
    "    return current_feature_set, total_loss[-1]\n",
    "#print loss, min(loss)"
   ]
  },
  {
   "cell_type": "code",
   "execution_count": 7,
   "metadata": {
    "collapsed": false
   },
   "outputs": [
    {
     "name": "stdout",
     "output_type": "stream",
     "text": [
      "CPU times: user 130 ms, sys: 0 ns, total: 130 ms\n",
      "Wall time: 129 ms\n"
     ]
    },
    {
     "data": {
      "text/plain": [
       "([5, 12], 32.364173031756557)"
      ]
     },
     "execution_count": 7,
     "metadata": {},
     "output_type": "execute_result"
    }
   ],
   "source": [
    "%%time\n",
    "add_algorithm_of_choosing_features(X, y, enough_improvment=0.1)"
   ]
  },
  {
   "cell_type": "code",
   "execution_count": 8,
   "metadata": {
    "collapsed": true
   },
   "outputs": [],
   "source": [
    "def full_search_of_features(X, y,  number_folds=20, eye_addition = 0.01):\n",
    "    kf = sklearn.cross_validation.KFold(len(X), n_folds=number_folds)\n",
    "    number_features = len(X[0])\n",
    "    print number_features\n",
    "    min_loss = BIG_CONSTANT\n",
    "    min_loss_set = []\n",
    "    \n",
    "    for k in range(1, 2 ** number_features):\n",
    "        current_feature_set = []\n",
    "        \n",
    "        for feature in range(number_features):\n",
    "            if (k >> feature) % 2 == 1:\n",
    "                current_feature_set.append(feature)\n",
    "\n",
    "        #print current_feature_set\n",
    "        features_set_loss = []\n",
    "        for train_index, test_index in kf:\n",
    "            X_train, X_test = X[train_index], X[test_index]\n",
    "            X_train, X_test = X_train[:, current_feature_set], X_test[:, current_feature_set]\n",
    "            y_train, y_test = y[train_index], y[test_index]\n",
    "            y_predict = predict(X_train, y_train, X_test, l = eye_addition)\n",
    "            features_set_loss.append(np.mean((y_predict - y_test) ** 2))\n",
    "                \n",
    "        if np.mean(features_set_loss) < min_loss:\n",
    "            min_loss = np.mean(features_set_loss)\n",
    "            min_loss_set = current_feature_set\n",
    "        \n",
    "    return min_loss_set, min_loss"
   ]
  },
  {
   "cell_type": "code",
   "execution_count": 9,
   "metadata": {
    "collapsed": false
   },
   "outputs": [
    {
     "name": "stdout",
     "output_type": "stream",
     "text": [
      "14\n",
      "CPU times: user 59.3 s, sys: 34.2 ms, total: 59.3 s\n",
      "Wall time: 59.3 s\n"
     ]
    },
    {
     "data": {
      "text/plain": [
       "([0, 1, 2, 3, 5, 7, 11, 12], 29.044238594870087)"
      ]
     },
     "execution_count": 9,
     "metadata": {},
     "output_type": "execute_result"
    }
   ],
   "source": [
    "%%time\n",
    "full_search_of_features(X, y)"
   ]
  },
  {
   "cell_type": "code",
   "execution_count": 15,
   "metadata": {
    "collapsed": true
   },
   "outputs": [],
   "source": [
    "def del_algorithm_of_choosing_features(X, y, enough_improvment=1., number_folds=20, eye_addition = 0.01):\n",
    "    kf = sklearn.cross_validation.KFold(len(X), n_folds=number_folds)\n",
    "    number_features = len(X[0])\n",
    "    current_feature_set = range(number_features)\n",
    "    total_loss = [0]\n",
    "    current_improvment = BIG_CONSTANT\n",
    "   \n",
    "    while current_improvment > enough_improvment:\n",
    "        after_remove_feature_loss = []\n",
    "\n",
    "        for feature in current_feature_set:\n",
    "            curr_features = copy.copy(current_feature_set)\n",
    "            curr_features.remove(feature)\n",
    "            feature_loss = []\n",
    "            \n",
    "            for train_index, test_index in kf:\n",
    "                X_train, X_test = X[train_index], X[test_index]\n",
    "                X_train, X_test = X_train[:, curr_features], X_test[:, curr_features]\n",
    "                y_train, y_test = y[train_index], y[test_index]\n",
    "                y_predict = predict(X_train, y_train, X_test, l=eye_addition)\n",
    "                feature_loss.append(np.mean((y_predict - y_test) ** 2))\n",
    "\n",
    "            after_remove_feature_loss.append(np.mean(feature_loss))\n",
    "\n",
    "        total_loss.append(min(after_remove_feature_loss))\n",
    "        removing_feature = current_feature_set[after_remove_feature_loss.index(min(after_remove_feature_loss))]\n",
    "        current_feature_set.remove(removing_feature)\n",
    "        current_improvment = total_loss[-1] - total_loss[-2]\n",
    "        \n",
    "    return current_feature_set, total_loss[-1]    \n",
    "    "
   ]
  },
  {
   "cell_type": "code",
   "execution_count": 16,
   "metadata": {
    "collapsed": false
   },
   "outputs": [
    {
     "name": "stdout",
     "output_type": "stream",
     "text": [
      "CPU times: user 135 ms, sys: 0 ns, total: 135 ms\n",
      "Wall time: 136 ms\n"
     ]
    },
    {
     "data": {
      "text/plain": [
       "([0, 1, 3, 4, 6, 7, 8, 9, 10, 11, 12, 13], 29.673960369091628)"
      ]
     },
     "execution_count": 16,
     "metadata": {},
     "output_type": "execute_result"
    }
   ],
   "source": [
    "%%time\n",
    "del_algorithm_of_choosing_features(X,y)"
   ]
  },
  {
   "cell_type": "markdown",
   "metadata": {},
   "source": [
    "## Вывод\n",
    "На предложенной выборке алгоритм $del$ показал близкий в оптимальному результат. Алгоритм $add$ более далек от оптимального решения."
   ]
  }
 ],
 "metadata": {
  "kernelspec": {
   "display_name": "Python 3",
   "language": "python",
   "name": "python3"
  },
  "language_info": {
   "codemirror_mode": {
    "name": "ipython",
    "version": 3
   },
   "file_extension": ".py",
   "mimetype": "text/x-python",
   "name": "python",
   "nbconvert_exporter": "python",
   "pygments_lexer": "ipython3",
   "version": "3.4.3+"
  }
 },
 "nbformat": 4,
 "nbformat_minor": 0
}
